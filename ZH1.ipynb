{
    "metadata": {
        "kernelspec": {
            "name": "SQL",
            "display_name": "SQL",
            "language": "sql"
        },
        "language_info": {
            "name": "sql",
            "version": ""
        }
    },
    "nbformat_minor": 2,
    "nbformat": 4,
    "cells": [
        {
            "cell_type": "code",
            "source": [
                "--1-es feladat\r\n",
                "SELECT SZALLAS_FK AS 'SZÁLLÁS id',\r\n",
                "        COUNT(*) AS 'FOGLALÁSSZÁM'\r\n",
                "FROM SZOBA S JOIN FOGLALAS F ON F.SZOBA_FK = S.SZOBA_ID\r\n",
                "WHERE F.FELNOTT_SZAM>F.GYERMEK_SZAM\r\n",
                "GROUP BY SZALLAS_FK\r\n",
                "HAVING  COUNT(*)>=2 \r\n",
                "\r\n",
                ""
            ],
            "metadata": {
                "azdata_cell_guid": "4d9c510f-bdd6-46bf-9263-588bff7040a9",
                "language": "sql"
            },
            "outputs": [
                {
                    "output_type": "display_data",
                    "data": {
                        "text/html": "(12 rows affected)"
                    },
                    "metadata": {}
                },
                {
                    "output_type": "display_data",
                    "data": {
                        "text/html": "Total execution time: 00:00:00.010"
                    },
                    "metadata": {}
                },
                {
                    "output_type": "execute_result",
                    "metadata": {},
                    "execution_count": 3,
                    "data": {
                        "application/vnd.dataresource+json": {
                            "schema": {
                                "fields": [
                                    {
                                        "name": "SZÁLLÁS id"
                                    },
                                    {
                                        "name": "FOGLALÁSSZÁM"
                                    }
                                ]
                            },
                            "data": [
                                {
                                    "SZÁLLÁS id": "1",
                                    "FOGLALÁSSZÁM": "54"
                                },
                                {
                                    "SZÁLLÁS id": "2",
                                    "FOGLALÁSSZÁM": "12"
                                },
                                {
                                    "SZÁLLÁS id": "3",
                                    "FOGLALÁSSZÁM": "23"
                                },
                                {
                                    "SZÁLLÁS id": "4",
                                    "FOGLALÁSSZÁM": "45"
                                },
                                {
                                    "SZÁLLÁS id": "5",
                                    "FOGLALÁSSZÁM": "39"
                                },
                                {
                                    "SZÁLLÁS id": "6",
                                    "FOGLALÁSSZÁM": "116"
                                },
                                {
                                    "SZÁLLÁS id": "7",
                                    "FOGLALÁSSZÁM": "27"
                                },
                                {
                                    "SZÁLLÁS id": "8",
                                    "FOGLALÁSSZÁM": "116"
                                },
                                {
                                    "SZÁLLÁS id": "9",
                                    "FOGLALÁSSZÁM": "21"
                                },
                                {
                                    "SZÁLLÁS id": "10",
                                    "FOGLALÁSSZÁM": "79"
                                },
                                {
                                    "SZÁLLÁS id": "11",
                                    "FOGLALÁSSZÁM": "16"
                                },
                                {
                                    "SZÁLLÁS id": "12",
                                    "FOGLALÁSSZÁM": "120"
                                }
                            ]
                        },
                        "text/html": [
                            "<table>",
                            "<tr><th>SZÁLLÁS id</th><th>FOGLALÁSSZÁM</th></tr>",
                            "<tr><td>1</td><td>54</td></tr>",
                            "<tr><td>2</td><td>12</td></tr>",
                            "<tr><td>3</td><td>23</td></tr>",
                            "<tr><td>4</td><td>45</td></tr>",
                            "<tr><td>5</td><td>39</td></tr>",
                            "<tr><td>6</td><td>116</td></tr>",
                            "<tr><td>7</td><td>27</td></tr>",
                            "<tr><td>8</td><td>116</td></tr>",
                            "<tr><td>9</td><td>21</td></tr>",
                            "<tr><td>10</td><td>79</td></tr>",
                            "<tr><td>11</td><td>16</td></tr>",
                            "<tr><td>12</td><td>120</td></tr>",
                            "</table>"
                        ]
                    }
                }
            ],
            "execution_count": 3
        },
        {
            "cell_type": "code",
            "source": [
                "SELECT S.SZOBA_FK,\r\n",
                "        YEAR(F.MEDDIG) AS 'FOGLALÁS ÉVE',\r\n",
                "        COUNT(*)\r\n",
                "FROM Foglalas F JOIN Szoba S ON F.SZOBA_FK = S.SZOBA_ID\r\n",
                "GROUP BY S.SZALLAS_FK\r\n",
                "HAVING COUNT(*)>10\r\n",
                ""
            ],
            "metadata": {
                "language": "sql",
                "azdata_cell_guid": "6b78f167-c36a-4152-b624-3a307c9c1144"
            },
            "outputs": [],
            "execution_count": null
        }
    ]
}