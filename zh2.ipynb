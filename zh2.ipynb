{
    "metadata": {
        "kernelspec": {
            "name": "SQL",
            "display_name": "SQL",
            "language": "sql"
        },
        "language_info": {
            "name": "sql",
            "version": ""
        }
    },
    "nbformat_minor": 2,
    "nbformat": 4,
    "cells": [
        {
            "cell_type": "code",
            "source": [
                "SELECT SZ.SZOBA_ID,\r\n",
                "        F.FOGLALAS_PK,\r\n",
                "        DAY(F.MEDDIG)-DAY(F.METTOL) AS \"ELTÖLTÖTT NAPOK\",\r\n",
                "        LEAD(DAY(F.MEDDIG)-DAY(F.METTOL)) OVER(ORDER BY F.MEDDIG) AS \"ELŐZŐ FOGLALS ELTÖLTÖTT NAPOK\"\r\n",
                "FROM SZOBA SZ JOIN FOGLALAS F ON SZ.SZOBA_ID= F.SZOBA_FK"
            ],
            "metadata": {
                "azdata_cell_guid": "08a49a42-2755-471b-9ae7-aa1f09cd4e7b",
                "language": "sql"
            },
            "outputs": [
                {
                    "output_type": "display_data",
                    "data": {
                        "text/html": "(1027 rows affected)"
                    },
                    "metadata": {}
                },
                {
                    "output_type": "display_data",
                    "data": {
                        "text/html": "Total execution time: 00:00:00.081"
                    },
                    "metadata": {}
                },
                {
                    "output_type": "execute_result",
                    "execution_count": 3,
                    "data": {
                        "application/vnd.dataresource+json": {
                            "schema": {
                                "fields": [
                                    {
                                        "name": "SZOBA_ID"
                                    },
                                    {
                                        "name": "FOGLALAS_PK"
                                    },
                                    {
                                        "name": "ELTÖLTÖTT NAPOK"
                                    },
                                    {
                                        "name": "(No column name)"
                                    }
                                ]
                            },
                            "data": [
                                {
                                    "SZOBA_ID": "131",
                                    "FOGLALAS_PK": "559",
                                    "ELTÖLTÖTT NAPOK": "2",
                                    "(No column name)": "4"
                                },
                                {
                                    "SZOBA_ID": "42",
                                    "FOGLALAS_PK": "561",
                                    "ELTÖLTÖTT NAPOK": "4",
                                    "(No column name)": "4"
                                },
                                {
                                    "SZOBA_ID": "7",
                                    "FOGLALAS_PK": "562",
                                    "ELTÖLTÖTT NAPOK": "4",
                                    "(No column name)": "2"
                                },
                                {
                                    "SZOBA_ID": "5",
                                    "FOGLALAS_PK": "564",
                                    "ELTÖLTÖTT NAPOK": "2",
                                    "(No column name)": "4"
                                },
                                {
                                    "SZOBA_ID": "87",
                                    "FOGLALAS_PK": "558",
                                    "ELTÖLTÖTT NAPOK": "4",
                                    "(No column name)": "1"
                                },
                                {
                                    "SZOBA_ID": "78",
                                    "FOGLALAS_PK": "568",
                                    "ELTÖLTÖTT NAPOK": "1",
                                    "(No column name)": "1"
                                },
                                {
                                    "SZOBA_ID": "155",
                                    "FOGLALAS_PK": "575",
                                    "ELTÖLTÖTT NAPOK": "1",
                                    "(No column name)": "1"
                                },
                                {
                                    "SZOBA_ID": "125",
                                    "FOGLALAS_PK": "576",
                                    "ELTÖLTÖTT NAPOK": "1",
                                    "(No column name)": "2"
                                },
                                {
                                    "SZOBA_ID": "182",
                                    "FOGLALAS_PK": "571",
                                    "ELTÖLTÖTT NAPOK": "2",
                                    "(No column name)": "5"
                                },
                                {
                                    "SZOBA_ID": "68",
                                    "FOGLALAS_PK": "563",
                                    "ELTÖLTÖTT NAPOK": "5",
                                    "(No column name)": "6"
                                },
                                {
                                    "SZOBA_ID": "6",
                                    "FOGLALAS_PK": "560",
                                    "ELTÖLTÖTT NAPOK": "6",
                                    "(No column name)": "2"
                                },
                                {
                                    "SZOBA_ID": "171",
                                    "FOGLALAS_PK": "574",
                                    "ELTÖLTÖTT NAPOK": "2",
                                    "(No column name)": "3"
                                },
                                {
                                    "SZOBA_ID": "10",
                                    "FOGLALAS_PK": "569",
                                    "ELTÖLTÖTT NAPOK": "3",
                                    "(No column name)": "6"
                                },
                                {
                                    "SZOBA_ID": "141",
                                    "FOGLALAS_PK": "565",
                                    "ELTÖLTÖTT NAPOK": "6",
                                    "(No column name)": "6"
                                },
                                {
                                    "SZOBA_ID": "21",
                                    "FOGLALAS_PK": "566",
                                    "ELTÖLTÖTT NAPOK": "6",
                                    "(No column name)": "3"
                                },
                                {
                                    "SZOBA_ID": "155",
                                    "FOGLALAS_PK": "577",
                                    "ELTÖLTÖTT NAPOK": "3",
                                    "(No column name)": "5"
                                },
                                {
                                    "SZOBA_ID": "169",
                                    "FOGLALAS_PK": "573",
                                    "ELTÖLTÖTT NAPOK": "5",
                                    "(No column name)": "2"
                                },
                                {
                                    "SZOBA_ID": "139",
                                    "FOGLALAS_PK": "579",
                                    "ELTÖLTÖTT NAPOK": "2",
                                    "(No column name)": "3"
                                },
                                {
                                    "SZOBA_ID": "130",
                                    "FOGLALAS_PK": "580",
                                    "ELTÖLTÖTT NAPOK": "3",
                                    "(No column name)": "7"
                                },
                                {
                                    "SZOBA_ID": "164",
                                    "FOGLALAS_PK": "570",
                                    "ELTÖLTÖTT NAPOK": "7",
                                    "(No column name)": "7"
                                },
                                {
                                    "SZOBA_ID": "83",
                                    "FOGLALAS_PK": "572",
                                    "ELTÖLTÖTT NAPOK": "7",
                                    "(No column name)": "7"
                                },
                                {
                                    "SZOBA_ID": "170",
                                    "FOGLALAS_PK": "567",
                                    "ELTÖLTÖTT NAPOK": "7",
                                    "(No column name)": "6"
                                },
                                {
                                    "SZOBA_ID": "185",
                                    "FOGLALAS_PK": "578",
                                    "ELTÖLTÖTT NAPOK": "6",
                                    "(No column name)": "4"
                                },
                                {
                                    "SZOBA_ID": "144",
                                    "FOGLALAS_PK": "581",
                                    "ELTÖLTÖTT NAPOK": "4",
                                    "(No column name)": "3"
                                },
                                {
                                    "SZOBA_ID": "137",
                                    "FOGLALAS_PK": "582",
                                    "ELTÖLTÖTT NAPOK": "3",
                                    "(No column name)": "2"
                                },
                                {
                                    "SZOBA_ID": "136",
                                    "FOGLALAS_PK": "584",
                                    "ELTÖLTÖTT NAPOK": "2",
                                    "(No column name)": "2"
                                },
                                {
                                    "SZOBA_ID": "44",
                                    "FOGLALAS_PK": "589",
                                    "ELTÖLTÖTT NAPOK": "2",
                                    "(No column name)": "1"
                                },
                                {
                                    "SZOBA_ID": "149",
                                    "FOGLALAS_PK": "591",
                                    "ELTÖLTÖTT NAPOK": "1",
                                    "(No column name)": "5"
                                },
                                {
                                    "SZOBA_ID": "70",
                                    "FOGLALAS_PK": "585",
                                    "ELTÖLTÖTT NAPOK": "5",
                                    "(No column name)": "6"
                                },
                                {
                                    "SZOBA_ID": "79",
                                    "FOGLALAS_PK": "583",
                                    "ELTÖLTÖTT NAPOK": "6",
                                    "(No column name)": "6"
                                },
                                {
                                    "SZOBA_ID": "107",
                                    "FOGLALAS_PK": "586",
                                    "ELTÖLTÖTT NAPOK": "6",
                                    "(No column name)": "5"
                                },
                                {
                                    "SZOBA_ID": "42",
                                    "FOGLALAS_PK": "590",
                                    "ELTÖLTÖTT NAPOK": "5",
                                    "(No column name)": "3"
                                },
                                {
                                    "SZOBA_ID": "77",
                                    "FOGLALAS_PK": "593",
                                    "ELTÖLTÖTT NAPOK": "3",
                                    "(No column name)": "1"
                                },
                                {
                                    "SZOBA_ID": "100",
                                    "FOGLALAS_PK": "597",
                                    "ELTÖLTÖTT NAPOK": "1",
                                    "(No column name)": "3"
                                },
                                {
                                    "SZOBA_ID": "153",
                                    "FOGLALAS_PK": "594",
                                    "ELTÖLTÖTT NAPOK": "3",
                                    "(No column name)": "7"
                                },
                                {
                                    "SZOBA_ID": "123",
                                    "FOGLALAS_PK": "587",
                                    "ELTÖLTÖTT NAPOK": "7",
                                    "(No column name)": "7"
                                },
                                {
                                    "SZOBA_ID": "156",
                                    "FOGLALAS_PK": "588",
                                    "ELTÖLTÖTT NAPOK": "7",
                                    "(No column name)": "2"
                                },
                                {
                                    "SZOBA_ID": "31",
                                    "FOGLALAS_PK": "598",
                                    "ELTÖLTÖTT NAPOK": "2",
                                    "(No column name)": "5"
                                },
                                {
                                    "SZOBA_ID": "176",
                                    "FOGLALAS_PK": "592",
                                    "ELTÖLTÖTT NAPOK": "5",
                                    "(No column name)": "4"
                                },
                                {
                                    "SZOBA_ID": "162",
                                    "FOGLALAS_PK": "599",
                                    "ELTÖLTÖTT NAPOK": "4",
                                    "(No column name)": "1"
                                },
                                {
                                    "SZOBA_ID": "31",
                                    "FOGLALAS_PK": "606",
                                    "ELTÖLTÖTT NAPOK": "1",
                                    "(No column name)": "3"
                                },
                                {
                                    "SZOBA_ID": "48",
                                    "FOGLALAS_PK": "603",
                                    "ELTÖLTÖTT NAPOK": "3",
                                    "(No column name)": "2"
                                },
                                {
                                    "SZOBA_ID": "30",
                                    "FOGLALAS_PK": "604",
                                    "ELTÖLTÖTT NAPOK": "2",
                                    "(No column name)": "7"
                                },
                                {
                                    "SZOBA_ID": "74",
                                    "FOGLALAS_PK": "595",
                                    "ELTÖLTÖTT NAPOK": "7",
                                    "(No column name)": "7"
                                },
                                {
                                    "SZOBA_ID": "115",
                                    "FOGLALAS_PK": "596",
                                    "ELTÖLTÖTT NAPOK": "7",
                                    "(No column name)": "2"
                                },
                                {
                                    "SZOBA_ID": "184",
                                    "FOGLALAS_PK": "608",
                                    "ELTÖLTÖTT NAPOK": "2",
                                    "(No column name)": "-28"
                                },
                                {
                                    "SZOBA_ID": "9",
                                    "FOGLALAS_PK": "609",
                                    "ELTÖLTÖTT NAPOK": "-28",
                                    "(No column name)": "-23"
                                },
                                {
                                    "SZOBA_ID": "190",
                                    "FOGLALAS_PK": "600",
                                    "ELTÖLTÖTT NAPOK": "-23",
                                    "(No column name)": "-24"
                                },
                                {
                                    "SZOBA_ID": "39",
                                    "FOGLALAS_PK": "601",
                                    "ELTÖLTÖTT NAPOK": "-24",
                                    "(No column name)": "-24"
                                },
                                {
                                    "SZOBA_ID": "17",
                                    "FOGLALAS_PK": "602",
                                    "ELTÖLTÖTT NAPOK": "-24",
                                    "(No column name)": "-26"
                                },
                                {
                                    "SZOBA_ID": "96",
                                    "FOGLALAS_PK": "607",
                                    "ELTÖLTÖTT NAPOK": "-26",
                                    "(No column name)": "2"
                                },
                                {
                                    "SZOBA_ID": "117",
                                    "FOGLALAS_PK": "612",
                                    "ELTÖLTÖTT NAPOK": "2",
                                    "(No column name)": "-27"
                                },
                                {
                                    "SZOBA_ID": "106",
                                    "FOGLALAS_PK": "610",
                                    "ELTÖLTÖTT NAPOK": "-27",
                                    "(No column name)": "3"
                                },
                                {
                                    "SZOBA_ID": "130",
                                    "FOGLALAS_PK": "613",
                                    "ELTÖLTÖTT NAPOK": "3",
                                    "(No column name)": "-23"
                                },
                                {
                                    "SZOBA_ID": "111",
                                    "FOGLALAS_PK": "605",
                                    "ELTÖLTÖTT NAPOK": "-23",
                                    "(No column name)": "3"
                                },
                                {
                                    "SZOBA_ID": "186",
                                    "FOGLALAS_PK": "615",
                                    "ELTÖLTÖTT NAPOK": "3",
                                    "(No column name)": "1"
                                },
                                {
                                    "SZOBA_ID": "105",
                                    "FOGLALAS_PK": "618",
                                    "ELTÖLTÖTT NAPOK": "1",
                                    "(No column name)": "3"
                                },
                                {
                                    "SZOBA_ID": "117",
                                    "FOGLALAS_PK": "617",
                                    "ELTÖLTÖTT NAPOK": "3",
                                    "(No column name)": "4"
                                },
                                {
                                    "SZOBA_ID": "109",
                                    "FOGLALAS_PK": "614",
                                    "ELTÖLTÖTT NAPOK": "4",
                                    "(No column name)": "5"
                                },
                                {
                                    "SZOBA_ID": "29",
                                    "FOGLALAS_PK": "611",
                                    "ELTÖLTÖTT NAPOK": "5",
                                    "(No column name)": "4"
                                },
                                {
                                    "SZOBA_ID": "94",
                                    "FOGLALAS_PK": "616",
                                    "ELTÖLTÖTT NAPOK": "4",
                                    "(No column name)": "5"
                                },
                                {
                                    "SZOBA_ID": "1",
                                    "FOGLALAS_PK": "620",
                                    "ELTÖLTÖTT NAPOK": "5",
                                    "(No column name)": "1"
                                },
                                {
                                    "SZOBA_ID": "99",
                                    "FOGLALAS_PK": "632",
                                    "ELTÖLTÖTT NAPOK": "1",
                                    "(No column name)": "7"
                                },
                                {
                                    "SZOBA_ID": "132",
                                    "FOGLALAS_PK": "619",
                                    "ELTÖLTÖTT NAPOK": "7",
                                    "(No column name)": "3"
                                },
                                {
                                    "SZOBA_ID": "63",
                                    "FOGLALAS_PK": "625",
                                    "ELTÖLTÖTT NAPOK": "3",
                                    "(No column name)": "3"
                                },
                                {
                                    "SZOBA_ID": "18",
                                    "FOGLALAS_PK": "626",
                                    "ELTÖLTÖTT NAPOK": "3",
                                    "(No column name)": "2"
                                },
                                {
                                    "SZOBA_ID": "48",
                                    "FOGLALAS_PK": "628",
                                    "ELTÖLTÖTT NAPOK": "2",
                                    "(No column name)": "2"
                                },
                                {
                                    "SZOBA_ID": "163",
                                    "FOGLALAS_PK": "630",
                                    "ELTÖLTÖTT NAPOK": "2",
                                    "(No column name)": "4"
                                },
                                {
                                    "SZOBA_ID": "3",
                                    "FOGLALAS_PK": "629",
                                    "ELTÖLTÖTT NAPOK": "4",
                                    "(No column name)": "7"
                                },
                                {
                                    "SZOBA_ID": "109",
                                    "FOGLALAS_PK": "621",
                                    "ELTÖLTÖTT NAPOK": "7",
                                    "(No column name)": "3"
                                },
                                {
                                    "SZOBA_ID": "97",
                                    "FOGLALAS_PK": "635",
                                    "ELTÖLTÖTT NAPOK": "3",
                                    "(No column name)": "6"
                                },
                                {
                                    "SZOBA_ID": "33",
                                    "FOGLALAS_PK": "624",
                                    "ELTÖLTÖTT NAPOK": "6",
                                    "(No column name)": "7"
                                },
                                {
                                    "SZOBA_ID": "54",
                                    "FOGLALAS_PK": "622",
                                    "ELTÖLTÖTT NAPOK": "7",
                                    "(No column name)": "6"
                                },
                                {
                                    "SZOBA_ID": "38",
                                    "FOGLALAS_PK": "627",
                                    "ELTÖLTÖTT NAPOK": "6",
                                    "(No column name)": "6"
                                },
                                {
                                    "SZOBA_ID": "98",
                                    "FOGLALAS_PK": "631",
                                    "ELTÖLTÖTT NAPOK": "6",
                                    "(No column name)": "7"
                                },
                                {
                                    "SZOBA_ID": "96",
                                    "FOGLALAS_PK": "623",
                                    "ELTÖLTÖTT NAPOK": "7",
                                    "(No column name)": "6"
                                },
                                {
                                    "SZOBA_ID": "187",
                                    "FOGLALAS_PK": "633",
                                    "ELTÖLTÖTT NAPOK": "6",
                                    "(No column name)": "6"
                                },
                                {
                                    "SZOBA_ID": "193",
                                    "FOGLALAS_PK": "634",
                                    "ELTÖLTÖTT NAPOK": "6",
                                    "(No column name)": "3"
                                },
                                {
                                    "SZOBA_ID": "165",
                                    "FOGLALAS_PK": "640",
                                    "ELTÖLTÖTT NAPOK": "3",
                                    "(No column name)": "3"
                                },
                                {
                                    "SZOBA_ID": "150",
                                    "FOGLALAS_PK": "641",
                                    "ELTÖLTÖTT NAPOK": "3",
                                    "(No column name)": "2"
                                },
                                {
                                    "SZOBA_ID": "127",
                                    "FOGLALAS_PK": "643",
                                    "ELTÖLTÖTT NAPOK": "2",
                                    "(No column name)": "4"
                                },
                                {
                                    "SZOBA_ID": "161",
                                    "FOGLALAS_PK": "639",
                                    "ELTÖLTÖTT NAPOK": "4",
                                    "(No column name)": "6"
                                },
                                {
                                    "SZOBA_ID": "91",
                                    "FOGLALAS_PK": "636",
                                    "ELTÖLTÖTT NAPOK": "6",
                                    "(No column name)": "5"
                                },
                                {
                                    "SZOBA_ID": "100",
                                    "FOGLALAS_PK": "637",
                                    "ELTÖLTÖTT NAPOK": "5",
                                    "(No column name)": "5"
                                },
                                {
                                    "SZOBA_ID": "67",
                                    "FOGLALAS_PK": "638",
                                    "ELTÖLTÖTT NAPOK": "5",
                                    "(No column name)": "3"
                                },
                                {
                                    "SZOBA_ID": "78",
                                    "FOGLALAS_PK": "646",
                                    "ELTÖLTÖTT NAPOK": "3",
                                    "(No column name)": "3"
                                },
                                {
                                    "SZOBA_ID": "85",
                                    "FOGLALAS_PK": "647",
                                    "ELTÖLTÖTT NAPOK": "3",
                                    "(No column name)": "5"
                                },
                                {
                                    "SZOBA_ID": "54",
                                    "FOGLALAS_PK": "642",
                                    "ELTÖLTÖTT NAPOK": "5",
                                    "(No column name)": "1"
                                },
                                {
                                    "SZOBA_ID": "149",
                                    "FOGLALAS_PK": "652",
                                    "ELTÖLTÖTT NAPOK": "1",
                                    "(No column name)": "1"
                                },
                                {
                                    "SZOBA_ID": "131",
                                    "FOGLALAS_PK": "655",
                                    "ELTÖLTÖTT NAPOK": "1",
                                    "(No column name)": "6"
                                },
                                {
                                    "SZOBA_ID": "67",
                                    "FOGLALAS_PK": "645",
                                    "ELTÖLTÖTT NAPOK": "6",
                                    "(No column name)": "4"
                                },
                                {
                                    "SZOBA_ID": "157",
                                    "FOGLALAS_PK": "648",
                                    "ELTÖLTÖTT NAPOK": "4",
                                    "(No column name)": "7"
                                },
                                {
                                    "SZOBA_ID": "166",
                                    "FOGLALAS_PK": "644",
                                    "ELTÖLTÖTT NAPOK": "7",
                                    "(No column name)": "5"
                                },
                                {
                                    "SZOBA_ID": "137",
                                    "FOGLALAS_PK": "649",
                                    "ELTÖLTÖTT NAPOK": "5",
                                    "(No column name)": "6"
                                },
                                {
                                    "SZOBA_ID": "65",
                                    "FOGLALAS_PK": "650",
                                    "ELTÖLTÖTT NAPOK": "6",
                                    "(No column name)": "5"
                                },
                                {
                                    "SZOBA_ID": "109",
                                    "FOGLALAS_PK": "654",
                                    "ELTÖLTÖTT NAPOK": "5",
                                    "(No column name)": "2"
                                },
                                {
                                    "SZOBA_ID": "179",
                                    "FOGLALAS_PK": "662",
                                    "ELTÖLTÖTT NAPOK": "2",
                                    "(No column name)": "1"
                                },
                                {
                                    "SZOBA_ID": "14",
                                    "FOGLALAS_PK": "663",
                                    "ELTÖLTÖTT NAPOK": "1",
                                    "(No column name)": "7"
                                },
                                {
                                    "SZOBA_ID": "4",
                                    "FOGLALAS_PK": "651",
                                    "ELTÖLTÖTT NAPOK": "7",
                                    "(No column name)": "7"
                                },
                                {
                                    "SZOBA_ID": "161",
                                    "FOGLALAS_PK": "653",
                                    "ELTÖLTÖTT NAPOK": "7",
                                    "(No column name)": "1"
                                },
                                {
                                    "SZOBA_ID": "53",
                                    "FOGLALAS_PK": "855",
                                    "ELTÖLTÖTT NAPOK": "1",
                                    "(No column name)": "2"
                                },
                                {
                                    "SZOBA_ID": "24",
                                    "FOGLALAS_PK": "852",
                                    "ELTÖLTÖTT NAPOK": "2",
                                    "(No column name)": "7"
                                },
                                {
                                    "SZOBA_ID": "95",
                                    "FOGLALAS_PK": "656",
                                    "ELTÖLTÖTT NAPOK": "7",
                                    "(No column name)": "6"
                                },
                                {
                                    "SZOBA_ID": "137",
                                    "FOGLALAS_PK": "657",
                                    "ELTÖLTÖTT NAPOK": "6",
                                    "(No column name)": "5"
                                },
                                {
                                    "SZOBA_ID": "21",
                                    "FOGLALAS_PK": "660",
                                    "ELTÖLTÖTT NAPOK": "5",
                                    "(No column name)": "5"
                                },
                                {
                                    "SZOBA_ID": "136",
                                    "FOGLALAS_PK": "661",
                                    "ELTÖLTÖTT NAPOK": "5",
                                    "(No column name)": "6"
                                },
                                {
                                    "SZOBA_ID": "44",
                                    "FOGLALAS_PK": "658",
                                    "ELTÖLTÖTT NAPOK": "6",
                                    "(No column name)": "6"
                                },
                                {
                                    "SZOBA_ID": "169",
                                    "FOGLALAS_PK": "659",
                                    "ELTÖLTÖTT NAPOK": "6",
                                    "(No column name)": "1"
                                },
                                {
                                    "SZOBA_ID": "86",
                                    "FOGLALAS_PK": "859",
                                    "ELTÖLTÖTT NAPOK": "1",
                                    "(No column name)": "1"
                                },
                                {
                                    "SZOBA_ID": "124",
                                    "FOGLALAS_PK": "861",
                                    "ELTÖLTÖTT NAPOK": "1",
                                    "(No column name)": "2"
                                },
                                {
                                    "SZOBA_ID": "70",
                                    "FOGLALAS_PK": "860",
                                    "ELTÖLTÖTT NAPOK": "2",
                                    "(No column name)": "5"
                                },
                                {
                                    "SZOBA_ID": "127",
                                    "FOGLALAS_PK": "853",
                                    "ELTÖLTÖTT NAPOK": "5",
                                    "(No column name)": "7"
                                },
                                {
                                    "SZOBA_ID": "42",
                                    "FOGLALAS_PK": "851",
                                    "ELTÖLTÖTT NAPOK": "7",
                                    "(No column name)": "6"
                                },
                                {
                                    "SZOBA_ID": "16",
                                    "FOGLALAS_PK": "856",
                                    "ELTÖLTÖTT NAPOK": "6",
                                    "(No column name)": "5"
                                },
                                {
                                    "SZOBA_ID": "165",
                                    "FOGLALAS_PK": "857",
                                    "ELTÖLTÖTT NAPOK": "5",
                                    "(No column name)": "5"
                                },
                                {
                                    "SZOBA_ID": "121",
                                    "FOGLALAS_PK": "858",
                                    "ELTÖLTÖTT NAPOK": "5",
                                    "(No column name)": "2"
                                },
                                {
                                    "SZOBA_ID": "88",
                                    "FOGLALAS_PK": "866",
                                    "ELTÖLTÖTT NAPOK": "2",
                                    "(No column name)": "1"
                                },
                                {
                                    "SZOBA_ID": "8",
                                    "FOGLALAS_PK": "882",
                                    "ELTÖLTÖTT NAPOK": "1",
                                    "(No column name)": "7"
                                },
                                {
                                    "SZOBA_ID": "167",
                                    "FOGLALAS_PK": "854",
                                    "ELTÖLTÖTT NAPOK": "7",
                                    "(No column name)": "4"
                                },
                                {
                                    "SZOBA_ID": "82",
                                    "FOGLALAS_PK": "862",
                                    "ELTÖLTÖTT NAPOK": "4",
                                    "(No column name)": "-27"
                                },
                                {
                                    "SZOBA_ID": "185",
                                    "FOGLALAS_PK": "863",
                                    "ELTÖLTÖTT NAPOK": "-27",
                                    "(No column name)": "-27"
                                },
                                {
                                    "SZOBA_ID": "187",
                                    "FOGLALAS_PK": "868",
                                    "ELTÖLTÖTT NAPOK": "-27",
                                    "(No column name)": "-29"
                                },
                                {
                                    "SZOBA_ID": "127",
                                    "FOGLALAS_PK": "879",
                                    "ELTÖLTÖTT NAPOK": "-29",
                                    "(No column name)": "-30"
                                },
                                {
                                    "SZOBA_ID": "69",
                                    "FOGLALAS_PK": "885",
                                    "ELTÖLTÖTT NAPOK": "-30",
                                    "(No column name)": "-28"
                                },
                                {
                                    "SZOBA_ID": "6",
                                    "FOGLALAS_PK": "873",
                                    "ELTÖLTÖTT NAPOK": "-28",
                                    "(No column name)": "-29"
                                },
                                {
                                    "SZOBA_ID": "64",
                                    "FOGLALAS_PK": "875",
                                    "ELTÖLTÖTT NAPOK": "-29",
                                    "(No column name)": "-27"
                                },
                                {
                                    "SZOBA_ID": "74",
                                    "FOGLALAS_PK": "877",
                                    "ELTÖLTÖTT NAPOK": "-27",
                                    "(No column name)": "-25"
                                },
                                {
                                    "SZOBA_ID": "175",
                                    "FOGLALAS_PK": "867",
                                    "ELTÖLTÖTT NAPOK": "-25",
                                    "(No column name)": "-27"
                                },
                                {
                                    "SZOBA_ID": "184",
                                    "FOGLALAS_PK": "880",
                                    "ELTÖLTÖTT NAPOK": "-27",
                                    "(No column name)": "-25"
                                },
                                {
                                    "SZOBA_ID": "83",
                                    "FOGLALAS_PK": "869",
                                    "ELTÖLTÖTT NAPOK": "-25",
                                    "(No column name)": "-25"
                                },
                                {
                                    "SZOBA_ID": "34",
                                    "FOGLALAS_PK": "870",
                                    "ELTÖLTÖTT NAPOK": "-25",
                                    "(No column name)": "-26"
                                },
                                {
                                    "SZOBA_ID": "82",
                                    "FOGLALAS_PK": "871",
                                    "ELTÖLTÖTT NAPOK": "-26",
                                    "(No column name)": "-26"
                                },
                                {
                                    "SZOBA_ID": "28",
                                    "FOGLALAS_PK": "872",
                                    "ELTÖLTÖTT NAPOK": "-26",
                                    "(No column name)": "-25"
                                },
                                {
                                    "SZOBA_ID": "118",
                                    "FOGLALAS_PK": "864",
                                    "ELTÖLTÖTT NAPOK": "-25",
                                    "(No column name)": "-24"
                                },
                                {
                                    "SZOBA_ID": "51",
                                    "FOGLALAS_PK": "865",
                                    "ELTÖLTÖTT NAPOK": "-24",
                                    "(No column name)": "-26"
                                },
                                {
                                    "SZOBA_ID": "58",
                                    "FOGLALAS_PK": "883",
                                    "ELTÖLTÖTT NAPOK": "-26",
                                    "(No column name)": "-26"
                                },
                                {
                                    "SZOBA_ID": "98",
                                    "FOGLALAS_PK": "884",
                                    "ELTÖLTÖTT NAPOK": "-26",
                                    "(No column name)": "2"
                                },
                                {
                                    "SZOBA_ID": "54",
                                    "FOGLALAS_PK": "889",
                                    "ELTÖLTÖTT NAPOK": "2",
                                    "(No column name)": "1"
                                },
                                {
                                    "SZOBA_ID": "29",
                                    "FOGLALAS_PK": "894",
                                    "ELTÖLTÖTT NAPOK": "1",
                                    "(No column name)": "1"
                                },
                                {
                                    "SZOBA_ID": "16",
                                    "FOGLALAS_PK": "896",
                                    "ELTÖLTÖTT NAPOK": "1",
                                    "(No column name)": "3"
                                },
                                {
                                    "SZOBA_ID": "146",
                                    "FOGLALAS_PK": "890",
                                    "ELTÖLTÖTT NAPOK": "3",
                                    "(No column name)": "1"
                                },
                                {
                                    "SZOBA_ID": "22",
                                    "FOGLALAS_PK": "906",
                                    "ELTÖLTÖTT NAPOK": "1",
                                    "(No column name)": "-25"
                                },
                                {
                                    "SZOBA_ID": "131",
                                    "FOGLALAS_PK": "881",
                                    "ELTÖLTÖTT NAPOK": "-25",
                                    "(No column name)": "4"
                                },
                                {
                                    "SZOBA_ID": "28",
                                    "FOGLALAS_PK": "886",
                                    "ELTÖLTÖTT NAPOK": "4",
                                    "(No column name)": "-25"
                                },
                                {
                                    "SZOBA_ID": "67",
                                    "FOGLALAS_PK": "874",
                                    "ELTÖLTÖTT NAPOK": "-25",
                                    "(No column name)": "-25"
                                },
                                {
                                    "SZOBA_ID": "83",
                                    "FOGLALAS_PK": "878",
                                    "ELTÖLTÖTT NAPOK": "-25",
                                    "(No column name)": "-24"
                                },
                                {
                                    "SZOBA_ID": "12",
                                    "FOGLALAS_PK": "876",
                                    "ELTÖLTÖTT NAPOK": "-24",
                                    "(No column name)": "2"
                                },
                                {
                                    "SZOBA_ID": "34",
                                    "FOGLALAS_PK": "904",
                                    "ELTÖLTÖTT NAPOK": "2",
                                    "(No column name)": "3"
                                },
                                {
                                    "SZOBA_ID": "165",
                                    "FOGLALAS_PK": "892",
                                    "ELTÖLTÖTT NAPOK": "3",
                                    "(No column name)": "3"
                                },
                                {
                                    "SZOBA_ID": "151",
                                    "FOGLALAS_PK": "893",
                                    "ELTÖLTÖTT NAPOK": "3",
                                    "(No column name)": "4"
                                },
                                {
                                    "SZOBA_ID": "185",
                                    "FOGLALAS_PK": "898",
                                    "ELTÖLTÖTT NAPOK": "4",
                                    "(No column name)": "2"
                                },
                                {
                                    "SZOBA_ID": "141",
                                    "FOGLALAS_PK": "908",
                                    "ELTÖLTÖTT NAPOK": "2",
                                    "(No column name)": "1"
                                },
                                {
                                    "SZOBA_ID": "188",
                                    "FOGLALAS_PK": "912",
                                    "ELTÖLTÖTT NAPOK": "1",
                                    "(No column name)": "1"
                                },
                                {
                                    "SZOBA_ID": "173",
                                    "FOGLALAS_PK": "913",
                                    "ELTÖLTÖTT NAPOK": "1",
                                    "(No column name)": "1"
                                },
                                {
                                    "SZOBA_ID": "36",
                                    "FOGLALAS_PK": "919",
                                    "ELTÖLTÖTT NAPOK": "1",
                                    "(No column name)": "1"
                                },
                                {
                                    "SZOBA_ID": "112",
                                    "FOGLALAS_PK": "921",
                                    "ELTÖLTÖTT NAPOK": "1",
                                    "(No column name)": "6"
                                },
                                {
                                    "SZOBA_ID": "80",
                                    "FOGLALAS_PK": "887",
                                    "ELTÖLTÖTT NAPOK": "6",
                                    "(No column name)": "2"
                                },
                                {
                                    "SZOBA_ID": "160",
                                    "FOGLALAS_PK": "922",
                                    "ELTÖLTÖTT NAPOK": "2",
                                    "(No column name)": "2"
                                },
                                {
                                    "SZOBA_ID": "130",
                                    "FOGLALAS_PK": "910",
                                    "ELTÖLTÖTT NAPOK": "2",
                                    "(No column name)": "2"
                                },
                                {
                                    "SZOBA_ID": "140",
                                    "FOGLALAS_PK": "915",
                                    "ELTÖLTÖTT NAPOK": "2",
                                    "(No column name)": "2"
                                },
                                {
                                    "SZOBA_ID": "17",
                                    "FOGLALAS_PK": "916",
                                    "ELTÖLTÖTT NAPOK": "2",
                                    "(No column name)": "2"
                                },
                                {
                                    "SZOBA_ID": "174",
                                    "FOGLALAS_PK": "917",
                                    "ELTÖLTÖTT NAPOK": "2",
                                    "(No column name)": "4"
                                },
                                {
                                    "SZOBA_ID": "28",
                                    "FOGLALAS_PK": "901",
                                    "ELTÖLTÖTT NAPOK": "4",
                                    "(No column name)": "3"
                                },
                                {
                                    "SZOBA_ID": "156",
                                    "FOGLALAS_PK": "907",
                                    "ELTÖLTÖTT NAPOK": "3",
                                    "(No column name)": "6"
                                },
                                {
                                    "SZOBA_ID": "63",
                                    "FOGLALAS_PK": "891",
                                    "ELTÖLTÖTT NAPOK": "6",
                                    "(No column name)": "5"
                                },
                                {
                                    "SZOBA_ID": "36",
                                    "FOGLALAS_PK": "895",
                                    "ELTÖLTÖTT NAPOK": "5",
                                    "(No column name)": "1"
                                },
                                {
                                    "SZOBA_ID": "193",
                                    "FOGLALAS_PK": "926",
                                    "ELTÖLTÖTT NAPOK": "1",
                                    "(No column name)": "1"
                                },
                                {
                                    "SZOBA_ID": "23",
                                    "FOGLALAS_PK": "934",
                                    "ELTÖLTÖTT NAPOK": "1",
                                    "(No column name)": "2"
                                },
                                {
                                    "SZOBA_ID": "182",
                                    "FOGLALAS_PK": "928",
                                    "ELTÖLTÖTT NAPOK": "2",
                                    "(No column name)": "2"
                                },
                                {
                                    "SZOBA_ID": "80",
                                    "FOGLALAS_PK": "929",
                                    "ELTÖLTÖTT NAPOK": "2",
                                    "(No column name)": "6"
                                },
                                {
                                    "SZOBA_ID": "165",
                                    "FOGLALAS_PK": "897",
                                    "ELTÖLTÖTT NAPOK": "6",
                                    "(No column name)": "5"
                                },
                                {
                                    "SZOBA_ID": "180",
                                    "FOGLALAS_PK": "905",
                                    "ELTÖLTÖTT NAPOK": "5",
                                    "(No column name)": "5"
                                },
                                {
                                    "SZOBA_ID": "72",
                                    "FOGLALAS_PK": "902",
                                    "ELTÖLTÖTT NAPOK": "5",
                                    "(No column name)": "6"
                                },
                                {
                                    "SZOBA_ID": "39",
                                    "FOGLALAS_PK": "899",
                                    "ELTÖLTÖTT NAPOK": "6",
                                    "(No column name)": "6"
                                },
                                {
                                    "SZOBA_ID": "165",
                                    "FOGLALAS_PK": "900",
                                    "ELTÖLTÖTT NAPOK": "6",
                                    "(No column name)": "7"
                                },
                                {
                                    "SZOBA_ID": "49",
                                    "FOGLALAS_PK": "888",
                                    "ELTÖLTÖTT NAPOK": "7",
                                    "(No column name)": "4"
                                },
                                {
                                    "SZOBA_ID": "161",
                                    "FOGLALAS_PK": "911",
                                    "ELTÖLTÖTT NAPOK": "4",
                                    "(No column name)": "4"
                                },
                                {
                                    "SZOBA_ID": "133",
                                    "FOGLALAS_PK": "909",
                                    "ELTÖLTÖTT NAPOK": "4",
                                    "(No column name)": "4"
                                },
                                {
                                    "SZOBA_ID": "32",
                                    "FOGLALAS_PK": "920",
                                    "ELTÖLTÖTT NAPOK": "4",
                                    "(No column name)": "3"
                                },
                                {
                                    "SZOBA_ID": "168",
                                    "FOGLALAS_PK": "930",
                                    "ELTÖLTÖTT NAPOK": "3",
                                    "(No column name)": "1"
                                },
                                {
                                    "SZOBA_ID": "62",
                                    "FOGLALAS_PK": "938",
                                    "ELTÖLTÖTT NAPOK": "1",
                                    "(No column name)": "3"
                                },
                                {
                                    "SZOBA_ID": "62",
                                    "FOGLALAS_PK": "936",
                                    "ELTÖLTÖTT NAPOK": "3",
                                    "(No column name)": "3"
                                },
                                {
                                    "SZOBA_ID": "181",
                                    "FOGLALAS_PK": "937",
                                    "ELTÖLTÖTT NAPOK": "3",
                                    "(No column name)": "1"
                                },
                                {
                                    "SZOBA_ID": "163",
                                    "FOGLALAS_PK": "941",
                                    "ELTÖLTÖTT NAPOK": "1",
                                    "(No column name)": "4"
                                },
                                {
                                    "SZOBA_ID": "160",
                                    "FOGLALAS_PK": "927",
                                    "ELTÖLTÖTT NAPOK": "4",
                                    "(No column name)": "4"
                                },
                                {
                                    "SZOBA_ID": "160",
                                    "FOGLALAS_PK": "933",
                                    "ELTÖLTÖTT NAPOK": "4",
                                    "(No column name)": "1"
                                },
                                {
                                    "SZOBA_ID": "1",
                                    "FOGLALAS_PK": "949",
                                    "ELTÖLTÖTT NAPOK": "1",
                                    "(No column name)": "5"
                                },
                                {
                                    "SZOBA_ID": "48",
                                    "FOGLALAS_PK": "914",
                                    "ELTÖLTÖTT NAPOK": "5",
                                    "(No column name)": "4"
                                },
                                {
                                    "SZOBA_ID": "123",
                                    "FOGLALAS_PK": "923",
                                    "ELTÖLTÖTT NAPOK": "4",
                                    "(No column name)": "7"
                                },
                                {
                                    "SZOBA_ID": "192",
                                    "FOGLALAS_PK": "903",
                                    "ELTÖLTÖTT NAPOK": "7",
                                    "(No column name)": "5"
                                },
                                {
                                    "SZOBA_ID": "40",
                                    "FOGLALAS_PK": "924",
                                    "ELTÖLTÖTT NAPOK": "5",
                                    "(No column name)": "6"
                                },
                                {
                                    "SZOBA_ID": "11",
                                    "FOGLALAS_PK": "918",
                                    "ELTÖLTÖTT NAPOK": "6",
                                    "(No column name)": "2"
                                },
                                {
                                    "SZOBA_ID": "19",
                                    "FOGLALAS_PK": "948",
                                    "ELTÖLTÖTT NAPOK": "2",
                                    "(No column name)": "4"
                                },
                                {
                                    "SZOBA_ID": "56",
                                    "FOGLALAS_PK": "935",
                                    "ELTÖLTÖTT NAPOK": "4",
                                    "(No column name)": "5"
                                },
                                {
                                    "SZOBA_ID": "110",
                                    "FOGLALAS_PK": "931",
                                    "ELTÖLTÖTT NAPOK": "5",
                                    "(No column name)": "6"
                                },
                                {
                                    "SZOBA_ID": "40",
                                    "FOGLALAS_PK": "932",
                                    "ELTÖLTÖTT NAPOK": "6",
                                    "(No column name)": "4"
                                },
                                {
                                    "SZOBA_ID": "183",
                                    "FOGLALAS_PK": "939",
                                    "ELTÖLTÖTT NAPOK": "4",
                                    "(No column name)": "3"
                                },
                                {
                                    "SZOBA_ID": "8",
                                    "FOGLALAS_PK": "947",
                                    "ELTÖLTÖTT NAPOK": "3",
                                    "(No column name)": "3"
                                },
                                {
                                    "SZOBA_ID": "66",
                                    "FOGLALAS_PK": "950",
                                    "ELTÖLTÖTT NAPOK": "3",
                                    "(No column name)": "6"
                                },
                                {
                                    "SZOBA_ID": "185",
                                    "FOGLALAS_PK": "925",
                                    "ELTÖLTÖTT NAPOK": "6",
                                    "(No column name)": "3"
                                },
                                {
                                    "SZOBA_ID": "12",
                                    "FOGLALAS_PK": "951",
                                    "ELTÖLTÖTT NAPOK": "3",
                                    "(No column name)": "3"
                                },
                                {
                                    "SZOBA_ID": "196",
                                    "FOGLALAS_PK": "952",
                                    "ELTÖLTÖTT NAPOK": "3",
                                    "(No column name)": "1"
                                },
                                {
                                    "SZOBA_ID": "47",
                                    "FOGLALAS_PK": "955",
                                    "ELTÖLTÖTT NAPOK": "1",
                                    "(No column name)": "5"
                                },
                                {
                                    "SZOBA_ID": "74",
                                    "FOGLALAS_PK": "940",
                                    "ELTÖLTÖTT NAPOK": "5",
                                    "(No column name)": "4"
                                },
                                {
                                    "SZOBA_ID": "170",
                                    "FOGLALAS_PK": "944",
                                    "ELTÖLTÖTT NAPOK": "4",
                                    "(No column name)": "5"
                                },
                                {
                                    "SZOBA_ID": "4",
                                    "FOGLALAS_PK": "946",
                                    "ELTÖLTÖTT NAPOK": "5",
                                    "(No column name)": "6"
                                },
                                {
                                    "SZOBA_ID": "92",
                                    "FOGLALAS_PK": "942",
                                    "ELTÖLTÖTT NAPOK": "6",
                                    "(No column name)": "7"
                                },
                                {
                                    "SZOBA_ID": "115",
                                    "FOGLALAS_PK": "943",
                                    "ELTÖLTÖTT NAPOK": "7",
                                    "(No column name)": "7"
                                },
                                {
                                    "SZOBA_ID": "23",
                                    "FOGLALAS_PK": "945",
                                    "ELTÖLTÖTT NAPOK": "7",
                                    "(No column name)": "5"
                                },
                                {
                                    "SZOBA_ID": "117",
                                    "FOGLALAS_PK": "953",
                                    "ELTÖLTÖTT NAPOK": "5",
                                    "(No column name)": "1"
                                },
                                {
                                    "SZOBA_ID": "74",
                                    "FOGLALAS_PK": "963",
                                    "ELTÖLTÖTT NAPOK": "1",
                                    "(No column name)": "4"
                                },
                                {
                                    "SZOBA_ID": "187",
                                    "FOGLALAS_PK": "957",
                                    "ELTÖLTÖTT NAPOK": "4",
                                    "(No column name)": "1"
                                },
                                {
                                    "SZOBA_ID": "154",
                                    "FOGLALAS_PK": "968",
                                    "ELTÖLTÖTT NAPOK": "1",
                                    "(No column name)": "5"
                                },
                                {
                                    "SZOBA_ID": "181",
                                    "FOGLALAS_PK": "958",
                                    "ELTÖLTÖTT NAPOK": "5",
                                    "(No column name)": "5"
                                },
                                {
                                    "SZOBA_ID": "84",
                                    "FOGLALAS_PK": "954",
                                    "ELTÖLTÖTT NAPOK": "5",
                                    "(No column name)": "6"
                                },
                                {
                                    "SZOBA_ID": "156",
                                    "FOGLALAS_PK": "956",
                                    "ELTÖLTÖTT NAPOK": "6",
                                    "(No column name)": "2"
                                },
                                {
                                    "SZOBA_ID": "12",
                                    "FOGLALAS_PK": "970",
                                    "ELTÖLTÖTT NAPOK": "2",
                                    "(No column name)": "4"
                                },
                                {
                                    "SZOBA_ID": "117",
                                    "FOGLALAS_PK": "962",
                                    "ELTÖLTÖTT NAPOK": "4",
                                    "(No column name)": "3"
                                },
                                {
                                    "SZOBA_ID": "35",
                                    "FOGLALAS_PK": "971",
                                    "ELTÖLTÖTT NAPOK": "3",
                                    "(No column name)": "2"
                                },
                                {
                                    "SZOBA_ID": "103",
                                    "FOGLALAS_PK": "972",
                                    "ELTÖLTÖTT NAPOK": "2",
                                    "(No column name)": "1"
                                },
                                {
                                    "SZOBA_ID": "16",
                                    "FOGLALAS_PK": "973",
                                    "ELTÖLTÖTT NAPOK": "1",
                                    "(No column name)": "1"
                                },
                                {
                                    "SZOBA_ID": "169",
                                    "FOGLALAS_PK": "974",
                                    "ELTÖLTÖTT NAPOK": "1",
                                    "(No column name)": "5"
                                },
                                {
                                    "SZOBA_ID": "123",
                                    "FOGLALAS_PK": "967",
                                    "ELTÖLTÖTT NAPOK": "5",
                                    "(No column name)": "7"
                                },
                                {
                                    "SZOBA_ID": "111",
                                    "FOGLALAS_PK": "959",
                                    "ELTÖLTÖTT NAPOK": "7",
                                    "(No column name)": "6"
                                },
                                {
                                    "SZOBA_ID": "41",
                                    "FOGLALAS_PK": "960",
                                    "ELTÖLTÖTT NAPOK": "6",
                                    "(No column name)": "6"
                                },
                                {
                                    "SZOBA_ID": "72",
                                    "FOGLALAS_PK": "961",
                                    "ELTÖLTÖTT NAPOK": "6",
                                    "(No column name)": "6"
                                },
                                {
                                    "SZOBA_ID": "110",
                                    "FOGLALAS_PK": "964",
                                    "ELTÖLTÖTT NAPOK": "6",
                                    "(No column name)": "6"
                                },
                                {
                                    "SZOBA_ID": "114",
                                    "FOGLALAS_PK": "966",
                                    "ELTÖLTÖTT NAPOK": "6",
                                    "(No column name)": "6"
                                },
                                {
                                    "SZOBA_ID": "153",
                                    "FOGLALAS_PK": "969",
                                    "ELTÖLTÖTT NAPOK": "6",
                                    "(No column name)": "1"
                                },
                                {
                                    "SZOBA_ID": "198",
                                    "FOGLALAS_PK": "978",
                                    "ELTÖLTÖTT NAPOK": "1",
                                    "(No column name)": "7"
                                },
                                {
                                    "SZOBA_ID": "5",
                                    "FOGLALAS_PK": "965",
                                    "ELTÖLTÖTT NAPOK": "7",
                                    "(No column name)": "2"
                                },
                                {
                                    "SZOBA_ID": "76",
                                    "FOGLALAS_PK": "976",
                                    "ELTÖLTÖTT NAPOK": "2",
                                    "(No column name)": "2"
                                },
                                {
                                    "SZOBA_ID": "193",
                                    "FOGLALAS_PK": "977",
                                    "ELTÖLTÖTT NAPOK": "2",
                                    "(No column name)": "3"
                                },
                                {
                                    "SZOBA_ID": "143",
                                    "FOGLALAS_PK": "980",
                                    "ELTÖLTÖTT NAPOK": "3",
                                    "(No column name)": "3"
                                },
                                {
                                    "SZOBA_ID": "77",
                                    "FOGLALAS_PK": "982",
                                    "ELTÖLTÖTT NAPOK": "3",
                                    "(No column name)": "5"
                                },
                                {
                                    "SZOBA_ID": "94",
                                    "FOGLALAS_PK": "975",
                                    "ELTÖLTÖTT NAPOK": "5",
                                    "(No column name)": "4"
                                },
                                {
                                    "SZOBA_ID": "171",
                                    "FOGLALAS_PK": "981",
                                    "ELTÖLTÖTT NAPOK": "4",
                                    "(No column name)": "4"
                                },
                                {
                                    "SZOBA_ID": "172",
                                    "FOGLALAS_PK": "984",
                                    "ELTÖLTÖTT NAPOK": "4",
                                    "(No column name)": "1"
                                },
                                {
                                    "SZOBA_ID": "190",
                                    "FOGLALAS_PK": "989",
                                    "ELTÖLTÖTT NAPOK": "1",
                                    "(No column name)": "6"
                                },
                                {
                                    "SZOBA_ID": "80",
                                    "FOGLALAS_PK": "983",
                                    "ELTÖLTÖTT NAPOK": "6",
                                    "(No column name)": "7"
                                },
                                {
                                    "SZOBA_ID": "35",
                                    "FOGLALAS_PK": "979",
                                    "ELTÖLTÖTT NAPOK": "7",
                                    "(No column name)": "6"
                                },
                                {
                                    "SZOBA_ID": "36",
                                    "FOGLALAS_PK": "985",
                                    "ELTÖLTÖTT NAPOK": "6",
                                    "(No column name)": "5"
                                },
                                {
                                    "SZOBA_ID": "48",
                                    "FOGLALAS_PK": "986",
                                    "ELTÖLTÖTT NAPOK": "5",
                                    "(No column name)": "4"
                                },
                                {
                                    "SZOBA_ID": "53",
                                    "FOGLALAS_PK": "987",
                                    "ELTÖLTÖTT NAPOK": "4",
                                    "(No column name)": "3"
                                },
                                {
                                    "SZOBA_ID": "133",
                                    "FOGLALAS_PK": "988",
                                    "ELTÖLTÖTT NAPOK": "3",
                                    "(No column name)": "-26"
                                },
                                {
                                    "SZOBA_ID": "6",
                                    "FOGLALAS_PK": "990",
                                    "ELTÖLTÖTT NAPOK": "-26",
                                    "(No column name)": "3"
                                },
                                {
                                    "SZOBA_ID": "118",
                                    "FOGLALAS_PK": "996",
                                    "ELTÖLTÖTT NAPOK": "3",
                                    "(No column name)": "3"
                                },
                                {
                                    "SZOBA_ID": "120",
                                    "FOGLALAS_PK": "998",
                                    "ELTÖLTÖTT NAPOK": "3",
                                    "(No column name)": "1"
                                },
                                {
                                    "SZOBA_ID": "117",
                                    "FOGLALAS_PK": "1002",
                                    "ELTÖLTÖTT NAPOK": "1",
                                    "(No column name)": "1"
                                },
                                {
                                    "SZOBA_ID": "71",
                                    "FOGLALAS_PK": "1009",
                                    "ELTÖLTÖTT NAPOK": "1",
                                    "(No column name)": "4"
                                },
                                {
                                    "SZOBA_ID": "73",
                                    "FOGLALAS_PK": "1000",
                                    "ELTÖLTÖTT NAPOK": "4",
                                    "(No column name)": "-25"
                                },
                                {
                                    "SZOBA_ID": "83",
                                    "FOGLALAS_PK": "995",
                                    "ELTÖLTÖTT NAPOK": "-25",
                                    "(No column name)": "-23"
                                },
                                {
                                    "SZOBA_ID": "178",
                                    "FOGLALAS_PK": "991",
                                    "ELTÖLTÖTT NAPOK": "-23",
                                    "(No column name)": "-23"
                                },
                                {
                                    "SZOBA_ID": "103",
                                    "FOGLALAS_PK": "992",
                                    "ELTÖLTÖTT NAPOK": "-23",
                                    "(No column name)": "2"
                                },
                                {
                                    "SZOBA_ID": "164",
                                    "FOGLALAS_PK": "1010",
                                    "ELTÖLTÖTT NAPOK": "2",
                                    "(No column name)": "3"
                                },
                                {
                                    "SZOBA_ID": "22",
                                    "FOGLALAS_PK": "1005",
                                    "ELTÖLTÖTT NAPOK": "3",
                                    "(No column name)": "3"
                                },
                                {
                                    "SZOBA_ID": "70",
                                    "FOGLALAS_PK": "1006",
                                    "ELTÖLTÖTT NAPOK": "3",
                                    "(No column name)": "2"
                                },
                                {
                                    "SZOBA_ID": "122",
                                    "FOGLALAS_PK": "1007",
                                    "ELTÖLTÖTT NAPOK": "2",
                                    "(No column name)": "4"
                                },
                                {
                                    "SZOBA_ID": "36",
                                    "FOGLALAS_PK": "1003",
                                    "ELTÖLTÖTT NAPOK": "4",
                                    "(No column name)": "1"
                                },
                                {
                                    "SZOBA_ID": "137",
                                    "FOGLALAS_PK": "1014",
                                    "ELTÖLTÖTT NAPOK": "1",
                                    "(No column name)": "-23"
                                },
                                {
                                    "SZOBA_ID": "197",
                                    "FOGLALAS_PK": "993",
                                    "ELTÖLTÖTT NAPOK": "-23",
                                    "(No column name)": "-23"
                                },
                                {
                                    "SZOBA_ID": "118",
                                    "FOGLALAS_PK": "994",
                                    "ELTÖLTÖTT NAPOK": "-23",
                                    "(No column name)": "6"
                                },
                                {
                                    "SZOBA_ID": "82",
                                    "FOGLALAS_PK": "997",
                                    "ELTÖLTÖTT NAPOK": "6",
                                    "(No column name)": "6"
                                },
                                {
                                    "SZOBA_ID": "132",
                                    "FOGLALAS_PK": "999",
                                    "ELTÖLTÖTT NAPOK": "6",
                                    "(No column name)": "5"
                                },
                                {
                                    "SZOBA_ID": "134",
                                    "FOGLALAS_PK": "1004",
                                    "ELTÖLTÖTT NAPOK": "5",
                                    "(No column name)": "2"
                                },
                                {
                                    "SZOBA_ID": "92",
                                    "FOGLALAS_PK": "1016",
                                    "ELTÖLTÖTT NAPOK": "2",
                                    "(No column name)": "1"
                                },
                                {
                                    "SZOBA_ID": "190",
                                    "FOGLALAS_PK": "1017",
                                    "ELTÖLTÖTT NAPOK": "1",
                                    "(No column name)": "7"
                                },
                                {
                                    "SZOBA_ID": "4",
                                    "FOGLALAS_PK": "1001",
                                    "ELTÖLTÖTT NAPOK": "7",
                                    "(No column name)": "6"
                                },
                                {
                                    "SZOBA_ID": "182",
                                    "FOGLALAS_PK": "1008",
                                    "ELTÖLTÖTT NAPOK": "6",
                                    "(No column name)": "1"
                                },
                                {
                                    "SZOBA_ID": "179",
                                    "FOGLALAS_PK": "1021",
                                    "ELTÖLTÖTT NAPOK": "1",
                                    "(No column name)": "1"
                                },
                                {
                                    "SZOBA_ID": "181",
                                    "FOGLALAS_PK": "1022",
                                    "ELTÖLTÖTT NAPOK": "1",
                                    "(No column name)": "5"
                                },
                                {
                                    "SZOBA_ID": "75",
                                    "FOGLALAS_PK": "1013",
                                    "ELTÖLTÖTT NAPOK": "5",
                                    "(No column name)": "7"
                                },
                                {
                                    "SZOBA_ID": "198",
                                    "FOGLALAS_PK": "1011",
                                    "ELTÖLTÖTT NAPOK": "7",
                                    "(No column name)": "5"
                                },
                                {
                                    "SZOBA_ID": "174",
                                    "FOGLALAS_PK": "1015",
                                    "ELTÖLTÖTT NAPOK": "5",
                                    "(No column name)": "4"
                                },
                                {
                                    "SZOBA_ID": "43",
                                    "FOGLALAS_PK": "1019",
                                    "ELTÖLTÖTT NAPOK": "4",
                                    "(No column name)": "7"
                                },
                                {
                                    "SZOBA_ID": "33",
                                    "FOGLALAS_PK": "1012",
                                    "ELTÖLTÖTT NAPOK": "7",
                                    "(No column name)": "1"
                                },
                                {
                                    "SZOBA_ID": "134",
                                    "FOGLALAS_PK": "1024",
                                    "ELTÖLTÖTT NAPOK": "1",
                                    "(No column name)": "5"
                                },
                                {
                                    "SZOBA_ID": "40",
                                    "FOGLALAS_PK": "1018",
                                    "ELTÖLTÖTT NAPOK": "5",
                                    "(No column name)": "5"
                                },
                                {
                                    "SZOBA_ID": "12",
                                    "FOGLALAS_PK": "1020",
                                    "ELTÖLTÖTT NAPOK": "5",
                                    "(No column name)": "3"
                                },
                                {
                                    "SZOBA_ID": "157",
                                    "FOGLALAS_PK": "1025",
                                    "ELTÖLTÖTT NAPOK": "3",
                                    "(No column name)": "3"
                                },
                                {
                                    "SZOBA_ID": "119",
                                    "FOGLALAS_PK": "1026",
                                    "ELTÖLTÖTT NAPOK": "3",
                                    "(No column name)": "2"
                                },
                                {
                                    "SZOBA_ID": "15",
                                    "FOGLALAS_PK": "1028",
                                    "ELTÖLTÖTT NAPOK": "2",
                                    "(No column name)": "1"
                                },
                                {
                                    "SZOBA_ID": "54",
                                    "FOGLALAS_PK": "668",
                                    "ELTÖLTÖTT NAPOK": "1",
                                    "(No column name)": "3"
                                },
                                {
                                    "SZOBA_ID": "146",
                                    "FOGLALAS_PK": "664",
                                    "ELTÖLTÖTT NAPOK": "3",
                                    "(No column name)": "2"
                                },
                                {
                                    "SZOBA_ID": "193",
                                    "FOGLALAS_PK": "675",
                                    "ELTÖLTÖTT NAPOK": "2",
                                    "(No column name)": "3"
                                },
                                {
                                    "SZOBA_ID": "185",
                                    "FOGLALAS_PK": "672",
                                    "ELTÖLTÖTT NAPOK": "3",
                                    "(No column name)": "7"
                                },
                                {
                                    "SZOBA_ID": "30",
                                    "FOGLALAS_PK": "1023",
                                    "ELTÖLTÖTT NAPOK": "7",
                                    "(No column name)": "2"
                                },
                                {
                                    "SZOBA_ID": "60",
                                    "FOGLALAS_PK": "676",
                                    "ELTÖLTÖTT NAPOK": "2",
                                    "(No column name)": "4"
                                },
                                {
                                    "SZOBA_ID": "43",
                                    "FOGLALAS_PK": "670",
                                    "ELTÖLTÖTT NAPOK": "4",
                                    "(No column name)": "4"
                                },
                                {
                                    "SZOBA_ID": "96",
                                    "FOGLALAS_PK": "671",
                                    "ELTÖLTÖTT NAPOK": "4",
                                    "(No column name)": "5"
                                },
                                {
                                    "SZOBA_ID": "196",
                                    "FOGLALAS_PK": "673",
                                    "ELTÖLTÖTT NAPOK": "5",
                                    "(No column name)": "4"
                                },
                                {
                                    "SZOBA_ID": "83",
                                    "FOGLALAS_PK": "674",
                                    "ELTÖLTÖTT NAPOK": "4",
                                    "(No column name)": "1"
                                },
                                {
                                    "SZOBA_ID": "110",
                                    "FOGLALAS_PK": "685",
                                    "ELTÖLTÖTT NAPOK": "1",
                                    "(No column name)": "6"
                                },
                                {
                                    "SZOBA_ID": "3",
                                    "FOGLALAS_PK": "666",
                                    "ELTÖLTÖTT NAPOK": "6",
                                    "(No column name)": "6"
                                },
                                {
                                    "SZOBA_ID": "80",
                                    "FOGLALAS_PK": "667",
                                    "ELTÖLTÖTT NAPOK": "6",
                                    "(No column name)": "7"
                                },
                                {
                                    "SZOBA_ID": "68",
                                    "FOGLALAS_PK": "1027",
                                    "ELTÖLTÖTT NAPOK": "7",
                                    "(No column name)": "7"
                                },
                                {
                                    "SZOBA_ID": "94",
                                    "FOGLALAS_PK": "665",
                                    "ELTÖLTÖTT NAPOK": "7",
                                    "(No column name)": "4"
                                },
                                {
                                    "SZOBA_ID": "181",
                                    "FOGLALAS_PK": "677",
                                    "ELTÖLTÖTT NAPOK": "4",
                                    "(No column name)": "4"
                                },
                                {
                                    "SZOBA_ID": "148",
                                    "FOGLALAS_PK": "678",
                                    "ELTÖLTÖTT NAPOK": "4",
                                    "(No column name)": "7"
                                },
                                {
                                    "SZOBA_ID": "173",
                                    "FOGLALAS_PK": "669",
                                    "ELTÖLTÖTT NAPOK": "7",
                                    "(No column name)": "4"
                                },
                                {
                                    "SZOBA_ID": "192",
                                    "FOGLALAS_PK": "680",
                                    "ELTÖLTÖTT NAPOK": "4",
                                    "(No column name)": "3"
                                },
                                {
                                    "SZOBA_ID": "71",
                                    "FOGLALAS_PK": "681",
                                    "ELTÖLTÖTT NAPOK": "3",
                                    "(No column name)": "3"
                                },
                                {
                                    "SZOBA_ID": "174",
                                    "FOGLALAS_PK": "682",
                                    "ELTÖLTÖTT NAPOK": "3",
                                    "(No column name)": "3"
                                },
                                {
                                    "SZOBA_ID": "16",
                                    "FOGLALAS_PK": "687",
                                    "ELTÖLTÖTT NAPOK": "3",
                                    "(No column name)": "2"
                                },
                                {
                                    "SZOBA_ID": "37",
                                    "FOGLALAS_PK": "688",
                                    "ELTÖLTÖTT NAPOK": "2",
                                    "(No column name)": "1"
                                },
                                {
                                    "SZOBA_ID": "19",
                                    "FOGLALAS_PK": "696",
                                    "ELTÖLTÖTT NAPOK": "1",
                                    "(No column name)": "3"
                                },
                                {
                                    "SZOBA_ID": "184",
                                    "FOGLALAS_PK": "684",
                                    "ELTÖLTÖTT NAPOK": "3",
                                    "(No column name)": "2"
                                },
                                {
                                    "SZOBA_ID": "12",
                                    "FOGLALAS_PK": "697",
                                    "ELTÖLTÖTT NAPOK": "2",
                                    "(No column name)": "2"
                                },
                                {
                                    "SZOBA_ID": "185",
                                    "FOGLALAS_PK": "693",
                                    "ELTÖLTÖTT NAPOK": "2",
                                    "(No column name)": "2"
                                },
                                {
                                    "SZOBA_ID": "189",
                                    "FOGLALAS_PK": "699",
                                    "ELTÖLTÖTT NAPOK": "2",
                                    "(No column name)": "5"
                                },
                                {
                                    "SZOBA_ID": "185",
                                    "FOGLALAS_PK": "679",
                                    "ELTÖLTÖTT NAPOK": "5",
                                    "(No column name)": "2"
                                },
                                {
                                    "SZOBA_ID": "61",
                                    "FOGLALAS_PK": "701",
                                    "ELTÖLTÖTT NAPOK": "2",
                                    "(No column name)": "4"
                                },
                                {
                                    "SZOBA_ID": "188",
                                    "FOGLALAS_PK": "690",
                                    "ELTÖLTÖTT NAPOK": "4",
                                    "(No column name)": "5"
                                },
                                {
                                    "SZOBA_ID": "102",
                                    "FOGLALAS_PK": "689",
                                    "ELTÖLTÖTT NAPOK": "5",
                                    "(No column name)": "4"
                                },
                                {
                                    "SZOBA_ID": "8",
                                    "FOGLALAS_PK": "694",
                                    "ELTÖLTÖTT NAPOK": "4",
                                    "(No column name)": "4"
                                },
                                {
                                    "SZOBA_ID": "77",
                                    "FOGLALAS_PK": "698",
                                    "ELTÖLTÖTT NAPOK": "4",
                                    "(No column name)": "2"
                                },
                                {
                                    "SZOBA_ID": "119",
                                    "FOGLALAS_PK": "706",
                                    "ELTÖLTÖTT NAPOK": "2",
                                    "(No column name)": "6"
                                },
                                {
                                    "SZOBA_ID": "35",
                                    "FOGLALAS_PK": "686",
                                    "ELTÖLTÖTT NAPOK": "6",
                                    "(No column name)": "7"
                                },
                                {
                                    "SZOBA_ID": "76",
                                    "FOGLALAS_PK": "683",
                                    "ELTÖLTÖTT NAPOK": "7",
                                    "(No column name)": "2"
                                },
                                {
                                    "SZOBA_ID": "35",
                                    "FOGLALAS_PK": "707",
                                    "ELTÖLTÖTT NAPOK": "2",
                                    "(No column name)": "3"
                                },
                                {
                                    "SZOBA_ID": "70",
                                    "FOGLALAS_PK": "704",
                                    "ELTÖLTÖTT NAPOK": "3",
                                    "(No column name)": "5"
                                },
                                {
                                    "SZOBA_ID": "78",
                                    "FOGLALAS_PK": "700",
                                    "ELTÖLTÖTT NAPOK": "5",
                                    "(No column name)": "5"
                                },
                                {
                                    "SZOBA_ID": "99",
                                    "FOGLALAS_PK": "691",
                                    "ELTÖLTÖTT NAPOK": "5",
                                    "(No column name)": "1"
                                },
                                {
                                    "SZOBA_ID": "71",
                                    "FOGLALAS_PK": "712",
                                    "ELTÖLTÖTT NAPOK": "1",
                                    "(No column name)": "6"
                                },
                                {
                                    "SZOBA_ID": "156",
                                    "FOGLALAS_PK": "692",
                                    "ELTÖLTÖTT NAPOK": "6",
                                    "(No column name)": "6"
                                },
                                {
                                    "SZOBA_ID": "187",
                                    "FOGLALAS_PK": "695",
                                    "ELTÖLTÖTT NAPOK": "6",
                                    "(No column name)": "5"
                                },
                                {
                                    "SZOBA_ID": "62",
                                    "FOGLALAS_PK": "702",
                                    "ELTÖLTÖTT NAPOK": "5",
                                    "(No column name)": "4"
                                },
                                {
                                    "SZOBA_ID": "145",
                                    "FOGLALAS_PK": "703",
                                    "ELTÖLTÖTT NAPOK": "4",
                                    "(No column name)": "4"
                                },
                                {
                                    "SZOBA_ID": "37",
                                    "FOGLALAS_PK": "705",
                                    "ELTÖLTÖTT NAPOK": "4",
                                    "(No column name)": "1"
                                },
                                {
                                    "SZOBA_ID": "118",
                                    "FOGLALAS_PK": "716",
                                    "ELTÖLTÖTT NAPOK": "1",
                                    "(No column name)": "3"
                                },
                                {
                                    "SZOBA_ID": "185",
                                    "FOGLALAS_PK": "711",
                                    "ELTÖLTÖTT NAPOK": "3",
                                    "(No column name)": "2"
                                },
                                {
                                    "SZOBA_ID": "128",
                                    "FOGLALAS_PK": "717",
                                    "ELTÖLTÖTT NAPOK": "2",
                                    "(No column name)": "3"
                                },
                                {
                                    "SZOBA_ID": "101",
                                    "FOGLALAS_PK": "715",
                                    "ELTÖLTÖTT NAPOK": "3",
                                    "(No column name)": "1"
                                },
                                {
                                    "SZOBA_ID": "119",
                                    "FOGLALAS_PK": "722",
                                    "ELTÖLTÖTT NAPOK": "1",
                                    "(No column name)": "2"
                                },
                                {
                                    "SZOBA_ID": "160",
                                    "FOGLALAS_PK": "720",
                                    "ELTÖLTÖTT NAPOK": "2",
                                    "(No column name)": "5"
                                },
                                {
                                    "SZOBA_ID": "172",
                                    "FOGLALAS_PK": "709",
                                    "ELTÖLTÖTT NAPOK": "5",
                                    "(No column name)": "1"
                                },
                                {
                                    "SZOBA_ID": "140",
                                    "FOGLALAS_PK": "733",
                                    "ELTÖLTÖTT NAPOK": "1",
                                    "(No column name)": "3"
                                },
                                {
                                    "SZOBA_ID": "94",
                                    "FOGLALAS_PK": "727",
                                    "ELTÖLTÖTT NAPOK": "3",
                                    "(No column name)": "2"
                                },
                                {
                                    "SZOBA_ID": "90",
                                    "FOGLALAS_PK": "729",
                                    "ELTÖLTÖTT NAPOK": "2",
                                    "(No column name)": "2"
                                },
                                {
                                    "SZOBA_ID": "152",
                                    "FOGLALAS_PK": "730",
                                    "ELTÖLTÖTT NAPOK": "2",
                                    "(No column name)": "6"
                                },
                                {
                                    "SZOBA_ID": "17",
                                    "FOGLALAS_PK": "713",
                                    "ELTÖLTÖTT NAPOK": "6",
                                    "(No column name)": "3"
                                },
                                {
                                    "SZOBA_ID": "58",
                                    "FOGLALAS_PK": "719",
                                    "ELTÖLTÖTT NAPOK": "3",
                                    "(No column name)": "7"
                                },
                                {
                                    "SZOBA_ID": "106",
                                    "FOGLALAS_PK": "708",
                                    "ELTÖLTÖTT NAPOK": "7",
                                    "(No column name)": "4"
                                },
                                {
                                    "SZOBA_ID": "195",
                                    "FOGLALAS_PK": "721",
                                    "ELTÖLTÖTT NAPOK": "4",
                                    "(No column name)": "7"
                                },
                                {
                                    "SZOBA_ID": "188",
                                    "FOGLALAS_PK": "710",
                                    "ELTÖLTÖTT NAPOK": "7",
                                    "(No column name)": "4"
                                },
                                {
                                    "SZOBA_ID": "31",
                                    "FOGLALAS_PK": "728",
                                    "ELTÖLTÖTT NAPOK": "4",
                                    "(No column name)": "4"
                                },
                                {
                                    "SZOBA_ID": "97",
                                    "FOGLALAS_PK": "726",
                                    "ELTÖLTÖTT NAPOK": "4",
                                    "(No column name)": "2"
                                },
                                {
                                    "SZOBA_ID": "114",
                                    "FOGLALAS_PK": "737",
                                    "ELTÖLTÖTT NAPOK": "2",
                                    "(No column name)": "-28"
                                },
                                {
                                    "SZOBA_ID": "66",
                                    "FOGLALAS_PK": "736",
                                    "ELTÖLTÖTT NAPOK": "-28",
                                    "(No column name)": "-27"
                                },
                                {
                                    "SZOBA_ID": "91",
                                    "FOGLALAS_PK": "732",
                                    "ELTÖLTÖTT NAPOK": "-27",
                                    "(No column name)": "-24"
                                },
                                {
                                    "SZOBA_ID": "73",
                                    "FOGLALAS_PK": "714",
                                    "ELTÖLTÖTT NAPOK": "-24",
                                    "(No column name)": "-26"
                                },
                                {
                                    "SZOBA_ID": "28",
                                    "FOGLALAS_PK": "725",
                                    "ELTÖLTÖTT NAPOK": "-26",
                                    "(No column name)": "-25"
                                },
                                {
                                    "SZOBA_ID": "135",
                                    "FOGLALAS_PK": "724",
                                    "ELTÖLTÖTT NAPOK": "-25",
                                    "(No column name)": "-29"
                                },
                                {
                                    "SZOBA_ID": "187",
                                    "FOGLALAS_PK": "743",
                                    "ELTÖLTÖTT NAPOK": "-29",
                                    "(No column name)": "1"
                                },
                                {
                                    "SZOBA_ID": "17",
                                    "FOGLALAS_PK": "744",
                                    "ELTÖLTÖTT NAPOK": "1",
                                    "(No column name)": "1"
                                },
                                {
                                    "SZOBA_ID": "139",
                                    "FOGLALAS_PK": "745",
                                    "ELTÖLTÖTT NAPOK": "1",
                                    "(No column name)": "-28"
                                },
                                {
                                    "SZOBA_ID": "182",
                                    "FOGLALAS_PK": "740",
                                    "ELTÖLTÖTT NAPOK": "-28",
                                    "(No column name)": "-25"
                                },
                                {
                                    "SZOBA_ID": "55",
                                    "FOGLALAS_PK": "734",
                                    "ELTÖLTÖTT NAPOK": "-25",
                                    "(No column name)": "-25"
                                },
                                {
                                    "SZOBA_ID": "121",
                                    "FOGLALAS_PK": "735",
                                    "ELTÖLTÖTT NAPOK": "-25",
                                    "(No column name)": "-25"
                                },
                                {
                                    "SZOBA_ID": "181",
                                    "FOGLALAS_PK": "731",
                                    "ELTÖLTÖTT NAPOK": "-25",
                                    "(No column name)": "-24"
                                },
                                {
                                    "SZOBA_ID": "129",
                                    "FOGLALAS_PK": "723",
                                    "ELTÖLTÖTT NAPOK": "-24",
                                    "(No column name)": "-24"
                                },
                                {
                                    "SZOBA_ID": "97",
                                    "FOGLALAS_PK": "718",
                                    "ELTÖLTÖTT NAPOK": "-24",
                                    "(No column name)": "3"
                                },
                                {
                                    "SZOBA_ID": "188",
                                    "FOGLALAS_PK": "747",
                                    "ELTÖLTÖTT NAPOK": "3",
                                    "(No column name)": "2"
                                },
                                {
                                    "SZOBA_ID": "36",
                                    "FOGLALAS_PK": "748",
                                    "ELTÖLTÖTT NAPOK": "2",
                                    "(No column name)": "1"
                                },
                                {
                                    "SZOBA_ID": "189",
                                    "FOGLALAS_PK": "753",
                                    "ELTÖLTÖTT NAPOK": "1",
                                    "(No column name)": "-25"
                                },
                                {
                                    "SZOBA_ID": "121",
                                    "FOGLALAS_PK": "739",
                                    "ELTÖLTÖTT NAPOK": "-25",
                                    "(No column name)": "-24"
                                },
                                {
                                    "SZOBA_ID": "1",
                                    "FOGLALAS_PK": "738",
                                    "ELTÖLTÖTT NAPOK": "-24",
                                    "(No column name)": "-24"
                                },
                                {
                                    "SZOBA_ID": "93",
                                    "FOGLALAS_PK": "741",
                                    "ELTÖLTÖTT NAPOK": "-24",
                                    "(No column name)": "-25"
                                },
                                {
                                    "SZOBA_ID": "164",
                                    "FOGLALAS_PK": "742",
                                    "ELTÖLTÖTT NAPOK": "-25",
                                    "(No column name)": "4"
                                },
                                {
                                    "SZOBA_ID": "139",
                                    "FOGLALAS_PK": "751",
                                    "ELTÖLTÖTT NAPOK": "4",
                                    "(No column name)": "5"
                                },
                                {
                                    "SZOBA_ID": "46",
                                    "FOGLALAS_PK": "752",
                                    "ELTÖLTÖTT NAPOK": "5",
                                    "(No column name)": "6"
                                },
                                {
                                    "SZOBA_ID": "172",
                                    "FOGLALAS_PK": "749",
                                    "ELTÖLTÖTT NAPOK": "6",
                                    "(No column name)": "4"
                                },
                                {
                                    "SZOBA_ID": "126",
                                    "FOGLALAS_PK": "754",
                                    "ELTÖLTÖTT NAPOK": "4",
                                    "(No column name)": "3"
                                },
                                {
                                    "SZOBA_ID": "27",
                                    "FOGLALAS_PK": "758",
                                    "ELTÖLTÖTT NAPOK": "3",
                                    "(No column name)": "7"
                                },
                                {
                                    "SZOBA_ID": "169",
                                    "FOGLALAS_PK": "746",
                                    "ELTÖLTÖTT NAPOK": "7",
                                    "(No column name)": "3"
                                },
                                {
                                    "SZOBA_ID": "141",
                                    "FOGLALAS_PK": "761",
                                    "ELTÖLTÖTT NAPOK": "3",
                                    "(No column name)": "6"
                                },
                                {
                                    "SZOBA_ID": "36",
                                    "FOGLALAS_PK": "750",
                                    "ELTÖLTÖTT NAPOK": "6",
                                    "(No column name)": "3"
                                },
                                {
                                    "SZOBA_ID": "120",
                                    "FOGLALAS_PK": "762",
                                    "ELTÖLTÖTT NAPOK": "3",
                                    "(No column name)": "6"
                                },
                                {
                                    "SZOBA_ID": "20",
                                    "FOGLALAS_PK": "755",
                                    "ELTÖLTÖTT NAPOK": "6",
                                    "(No column name)": "4"
                                },
                                {
                                    "SZOBA_ID": "131",
                                    "FOGLALAS_PK": "760",
                                    "ELTÖLTÖTT NAPOK": "4",
                                    "(No column name)": "1"
                                },
                                {
                                    "SZOBA_ID": "187",
                                    "FOGLALAS_PK": "766",
                                    "ELTÖLTÖTT NAPOK": "1",
                                    "(No column name)": "6"
                                },
                                {
                                    "SZOBA_ID": "61",
                                    "FOGLALAS_PK": "756",
                                    "ELTÖLTÖTT NAPOK": "6",
                                    "(No column name)": "7"
                                },
                                {
                                    "SZOBA_ID": "88",
                                    "FOGLALAS_PK": "757",
                                    "ELTÖLTÖTT NAPOK": "7",
                                    "(No column name)": "4"
                                },
                                {
                                    "SZOBA_ID": "13",
                                    "FOGLALAS_PK": "763",
                                    "ELTÖLTÖTT NAPOK": "4",
                                    "(No column name)": "3"
                                },
                                {
                                    "SZOBA_ID": "148",
                                    "FOGLALAS_PK": "765",
                                    "ELTÖLTÖTT NAPOK": "3",
                                    "(No column name)": "7"
                                },
                                {
                                    "SZOBA_ID": "7",
                                    "FOGLALAS_PK": "759",
                                    "ELTÖLTÖTT NAPOK": "7",
                                    "(No column name)": "3"
                                },
                                {
                                    "SZOBA_ID": "18",
                                    "FOGLALAS_PK": "767",
                                    "ELTÖLTÖTT NAPOK": "3",
                                    "(No column name)": "2"
                                },
                                {
                                    "SZOBA_ID": "58",
                                    "FOGLALAS_PK": "773",
                                    "ELTÖLTÖTT NAPOK": "2",
                                    "(No column name)": "1"
                                },
                                {
                                    "SZOBA_ID": "19",
                                    "FOGLALAS_PK": "778",
                                    "ELTÖLTÖTT NAPOK": "1",
                                    "(No column name)": "3"
                                },
                                {
                                    "SZOBA_ID": "42",
                                    "FOGLALAS_PK": "770",
                                    "ELTÖLTÖTT NAPOK": "3",
                                    "(No column name)": "4"
                                },
                                {
                                    "SZOBA_ID": "147",
                                    "FOGLALAS_PK": "771",
                                    "ELTÖLTÖTT NAPOK": "4",
                                    "(No column name)": "7"
                                },
                                {
                                    "SZOBA_ID": "197",
                                    "FOGLALAS_PK": "764",
                                    "ELTÖLTÖTT NAPOK": "7",
                                    "(No column name)": "1"
                                },
                                {
                                    "SZOBA_ID": "96",
                                    "FOGLALAS_PK": "780",
                                    "ELTÖLTÖTT NAPOK": "1",
                                    "(No column name)": "5"
                                },
                                {
                                    "SZOBA_ID": "63",
                                    "FOGLALAS_PK": "769",
                                    "ELTÖLTÖTT NAPOK": "5",
                                    "(No column name)": "3"
                                },
                                {
                                    "SZOBA_ID": "34",
                                    "FOGLALAS_PK": "777",
                                    "ELTÖLTÖTT NAPOK": "3",
                                    "(No column name)": "4"
                                },
                                {
                                    "SZOBA_ID": "12",
                                    "FOGLALAS_PK": "775",
                                    "ELTÖLTÖTT NAPOK": "4",
                                    "(No column name)": "4"
                                },
                                {
                                    "SZOBA_ID": "112",
                                    "FOGLALAS_PK": "776",
                                    "ELTÖLTÖTT NAPOK": "4",
                                    "(No column name)": "5"
                                },
                                {
                                    "SZOBA_ID": "190",
                                    "FOGLALAS_PK": "774",
                                    "ELTÖLTÖTT NAPOK": "5",
                                    "(No column name)": "6"
                                },
                                {
                                    "SZOBA_ID": "6",
                                    "FOGLALAS_PK": "772",
                                    "ELTÖLTÖTT NAPOK": "6",
                                    "(No column name)": "6"
                                },
                                {
                                    "SZOBA_ID": "138",
                                    "FOGLALAS_PK": "768",
                                    "ELTÖLTÖTT NAPOK": "6",
                                    "(No column name)": "3"
                                },
                                {
                                    "SZOBA_ID": "163",
                                    "FOGLALAS_PK": "782",
                                    "ELTÖLTÖTT NAPOK": "3",
                                    "(No column name)": "3"
                                },
                                {
                                    "SZOBA_ID": "177",
                                    "FOGLALAS_PK": "785",
                                    "ELTÖLTÖTT NAPOK": "3",
                                    "(No column name)": "3"
                                },
                                {
                                    "SZOBA_ID": "50",
                                    "FOGLALAS_PK": "787",
                                    "ELTÖLTÖTT NAPOK": "3",
                                    "(No column name)": "3"
                                },
                                {
                                    "SZOBA_ID": "168",
                                    "FOGLALAS_PK": "792",
                                    "ELTÖLTÖTT NAPOK": "3",
                                    "(No column name)": "4"
                                },
                                {
                                    "SZOBA_ID": "111",
                                    "FOGLALAS_PK": "786",
                                    "ELTÖLTÖTT NAPOK": "4",
                                    "(No column name)": "5"
                                },
                                {
                                    "SZOBA_ID": "10",
                                    "FOGLALAS_PK": "790",
                                    "ELTÖLTÖTT NAPOK": "5",
                                    "(No column name)": "5"
                                },
                                {
                                    "SZOBA_ID": "15",
                                    "FOGLALAS_PK": "791",
                                    "ELTÖLTÖTT NAPOK": "5",
                                    "(No column name)": "4"
                                },
                                {
                                    "SZOBA_ID": "168",
                                    "FOGLALAS_PK": "794",
                                    "ELTÖLTÖTT NAPOK": "4",
                                    "(No column name)": "4"
                                },
                                {
                                    "SZOBA_ID": "10",
                                    "FOGLALAS_PK": "795",
                                    "ELTÖLTÖTT NAPOK": "4",
                                    "(No column name)": "4"
                                },
                                {
                                    "SZOBA_ID": "138",
                                    "FOGLALAS_PK": "796",
                                    "ELTÖLTÖTT NAPOK": "4",
                                    "(No column name)": "6"
                                },
                                {
                                    "SZOBA_ID": "130",
                                    "FOGLALAS_PK": "779",
                                    "ELTÖLTÖTT NAPOK": "6",
                                    "(No column name)": "6"
                                },
                                {
                                    "SZOBA_ID": "3",
                                    "FOGLALAS_PK": "788",
                                    "ELTÖLTÖTT NAPOK": "6",
                                    "(No column name)": "4"
                                },
                                {
                                    "SZOBA_ID": "83",
                                    "FOGLALAS_PK": "798",
                                    "ELTÖLTÖTT NAPOK": "4",
                                    "(No column name)": "1"
                                },
                                {
                                    "SZOBA_ID": "21",
                                    "FOGLALAS_PK": "805",
                                    "ELTÖLTÖTT NAPOK": "1",
                                    "(No column name)": "4"
                                },
                                {
                                    "SZOBA_ID": "175",
                                    "FOGLALAS_PK": "799",
                                    "ELTÖLTÖTT NAPOK": "4",
                                    "(No column name)": "7"
                                },
                                {
                                    "SZOBA_ID": "146",
                                    "FOGLALAS_PK": "789",
                                    "ELTÖLTÖTT NAPOK": "7",
                                    "(No column name)": "7"
                                },
                                {
                                    "SZOBA_ID": "148",
                                    "FOGLALAS_PK": "783",
                                    "ELTÖLTÖTT NAPOK": "7",
                                    "(No column name)": "7"
                                },
                                {
                                    "SZOBA_ID": "141",
                                    "FOGLALAS_PK": "784",
                                    "ELTÖLTÖTT NAPOK": "7",
                                    "(No column name)": "7"
                                },
                                {
                                    "SZOBA_ID": "166",
                                    "FOGLALAS_PK": "781",
                                    "ELTÖLTÖTT NAPOK": "7",
                                    "(No column name)": "5"
                                },
                                {
                                    "SZOBA_ID": "74",
                                    "FOGLALAS_PK": "797",
                                    "ELTÖLTÖTT NAPOK": "5",
                                    "(No column name)": "6"
                                },
                                {
                                    "SZOBA_ID": "49",
                                    "FOGLALAS_PK": "793",
                                    "ELTÖLTÖTT NAPOK": "6",
                                    "(No column name)": "4"
                                },
                                {
                                    "SZOBA_ID": "1",
                                    "FOGLALAS_PK": "803",
                                    "ELTÖLTÖTT NAPOK": "4",
                                    "(No column name)": "2"
                                },
                                {
                                    "SZOBA_ID": "27",
                                    "FOGLALAS_PK": "807",
                                    "ELTÖLTÖTT NAPOK": "2",
                                    "(No column name)": "2"
                                },
                                {
                                    "SZOBA_ID": "148",
                                    "FOGLALAS_PK": "808",
                                    "ELTÖLTÖTT NAPOK": "2",
                                    "(No column name)": "2"
                                },
                                {
                                    "SZOBA_ID": "109",
                                    "FOGLALAS_PK": "810",
                                    "ELTÖLTÖTT NAPOK": "2",
                                    "(No column name)": "2"
                                },
                                {
                                    "SZOBA_ID": "51",
                                    "FOGLALAS_PK": "811",
                                    "ELTÖLTÖTT NAPOK": "2",
                                    "(No column name)": "1"
                                },
                                {
                                    "SZOBA_ID": "128",
                                    "FOGLALAS_PK": "815",
                                    "ELTÖLTÖTT NAPOK": "1",
                                    "(No column name)": "5"
                                },
                                {
                                    "SZOBA_ID": "45",
                                    "FOGLALAS_PK": "800",
                                    "ELTÖLTÖTT NAPOK": "5",
                                    "(No column name)": "5"
                                },
                                {
                                    "SZOBA_ID": "112",
                                    "FOGLALAS_PK": "801",
                                    "ELTÖLTÖTT NAPOK": "5",
                                    "(No column name)": "1"
                                },
                                {
                                    "SZOBA_ID": "20",
                                    "FOGLALAS_PK": "820",
                                    "ELTÖLTÖTT NAPOK": "1",
                                    "(No column name)": "1"
                                },
                                {
                                    "SZOBA_ID": "34",
                                    "FOGLALAS_PK": "821",
                                    "ELTÖLTÖTT NAPOK": "1",
                                    "(No column name)": "2"
                                },
                                {
                                    "SZOBA_ID": "84",
                                    "FOGLALAS_PK": "819",
                                    "ELTÖLTÖTT NAPOK": "2",
                                    "(No column name)": "3"
                                },
                                {
                                    "SZOBA_ID": "92",
                                    "FOGLALAS_PK": "809",
                                    "ELTÖLTÖTT NAPOK": "3",
                                    "(No column name)": "3"
                                },
                                {
                                    "SZOBA_ID": "14",
                                    "FOGLALAS_PK": "813",
                                    "ELTÖLTÖTT NAPOK": "3",
                                    "(No column name)": "3"
                                },
                                {
                                    "SZOBA_ID": "70",
                                    "FOGLALAS_PK": "814",
                                    "ELTÖLTÖTT NAPOK": "3",
                                    "(No column name)": "7"
                                },
                                {
                                    "SZOBA_ID": "45",
                                    "FOGLALAS_PK": "802",
                                    "ELTÖLTÖTT NAPOK": "7",
                                    "(No column name)": "7"
                                },
                                {
                                    "SZOBA_ID": "146",
                                    "FOGLALAS_PK": "804",
                                    "ELTÖLTÖTT NAPOK": "7",
                                    "(No column name)": "6"
                                },
                                {
                                    "SZOBA_ID": "126",
                                    "FOGLALAS_PK": "806",
                                    "ELTÖLTÖTT NAPOK": "6",
                                    "(No column name)": "3"
                                },
                                {
                                    "SZOBA_ID": "89",
                                    "FOGLALAS_PK": "817",
                                    "ELTÖLTÖTT NAPOK": "3",
                                    "(No column name)": "2"
                                },
                                {
                                    "SZOBA_ID": "44",
                                    "FOGLALAS_PK": "823",
                                    "ELTÖLTÖTT NAPOK": "2",
                                    "(No column name)": "2"
                                },
                                {
                                    "SZOBA_ID": "48",
                                    "FOGLALAS_PK": "824",
                                    "ELTÖLTÖTT NAPOK": "2",
                                    "(No column name)": "4"
                                },
                                {
                                    "SZOBA_ID": "8",
                                    "FOGLALAS_PK": "818",
                                    "ELTÖLTÖTT NAPOK": "4",
                                    "(No column name)": "4"
                                },
                                {
                                    "SZOBA_ID": "178",
                                    "FOGLALAS_PK": "816",
                                    "ELTÖLTÖTT NAPOK": "4",
                                    "(No column name)": "6"
                                },
                                {
                                    "SZOBA_ID": "148",
                                    "FOGLALAS_PK": "812",
                                    "ELTÖLTÖTT NAPOK": "6",
                                    "(No column name)": "4"
                                },
                                {
                                    "SZOBA_ID": "158",
                                    "FOGLALAS_PK": "825",
                                    "ELTÖLTÖTT NAPOK": "4",
                                    "(No column name)": "1"
                                },
                                {
                                    "SZOBA_ID": "74",
                                    "FOGLALAS_PK": "830",
                                    "ELTÖLTÖTT NAPOK": "1",
                                    "(No column name)": "3"
                                },
                                {
                                    "SZOBA_ID": "2",
                                    "FOGLALAS_PK": "828",
                                    "ELTÖLTÖTT NAPOK": "3",
                                    "(No column name)": "2"
                                },
                                {
                                    "SZOBA_ID": "35",
                                    "FOGLALAS_PK": "829",
                                    "ELTÖLTÖTT NAPOK": "2",
                                    "(No column name)": "2"
                                },
                                {
                                    "SZOBA_ID": "149",
                                    "FOGLALAS_PK": "833",
                                    "ELTÖLTÖTT NAPOK": "2",
                                    "(No column name)": "4"
                                },
                                {
                                    "SZOBA_ID": "49",
                                    "FOGLALAS_PK": "826",
                                    "ELTÖLTÖTT NAPOK": "4",
                                    "(No column name)": "7"
                                },
                                {
                                    "SZOBA_ID": "52",
                                    "FOGLALAS_PK": "822",
                                    "ELTÖLTÖTT NAPOK": "7",
                                    "(No column name)": "2"
                                },
                                {
                                    "SZOBA_ID": "56",
                                    "FOGLALAS_PK": "838",
                                    "ELTÖLTÖTT NAPOK": "2",
                                    "(No column name)": "2"
                                },
                                {
                                    "SZOBA_ID": "193",
                                    "FOGLALAS_PK": "835",
                                    "ELTÖLTÖTT NAPOK": "2",
                                    "(No column name)": "2"
                                },
                                {
                                    "SZOBA_ID": "97",
                                    "FOGLALAS_PK": "836",
                                    "ELTÖLTÖTT NAPOK": "2",
                                    "(No column name)": "-27"
                                },
                                {
                                    "SZOBA_ID": "8",
                                    "FOGLALAS_PK": "832",
                                    "ELTÖLTÖTT NAPOK": "-27",
                                    "(No column name)": "-24"
                                },
                                {
                                    "SZOBA_ID": "114",
                                    "FOGLALAS_PK": "827",
                                    "ELTÖLTÖTT NAPOK": "-24",
                                    "(No column name)": "-27"
                                },
                                {
                                    "SZOBA_ID": "104",
                                    "FOGLALAS_PK": "837",
                                    "ELTÖLTÖTT NAPOK": "-27",
                                    "(No column name)": "-26"
                                },
                                {
                                    "SZOBA_ID": "172",
                                    "FOGLALAS_PK": "839",
                                    "ELTÖLTÖTT NAPOK": "-26",
                                    "(No column name)": "-27"
                                },
                                {
                                    "SZOBA_ID": "158",
                                    "FOGLALAS_PK": "840",
                                    "ELTÖLTÖTT NAPOK": "-27",
                                    "(No column name)": "1"
                                },
                                {
                                    "SZOBA_ID": "87",
                                    "FOGLALAS_PK": "844",
                                    "ELTÖLTÖTT NAPOK": "1",
                                    "(No column name)": "1"
                                },
                                {
                                    "SZOBA_ID": "63",
                                    "FOGLALAS_PK": "845",
                                    "ELTÖLTÖTT NAPOK": "1",
                                    "(No column name)": "-26"
                                },
                                {
                                    "SZOBA_ID": "149",
                                    "FOGLALAS_PK": "834",
                                    "ELTÖLTÖTT NAPOK": "-26",
                                    "(No column name)": "-24"
                                },
                                {
                                    "SZOBA_ID": "177",
                                    "FOGLALAS_PK": "831",
                                    "ELTÖLTÖTT NAPOK": "-24",
                                    "(No column name)": "-27"
                                },
                                {
                                    "SZOBA_ID": "195",
                                    "FOGLALAS_PK": "842",
                                    "ELTÖLTÖTT NAPOK": "-27",
                                    "(No column name)": "4"
                                },
                                {
                                    "SZOBA_ID": "149",
                                    "FOGLALAS_PK": "843",
                                    "ELTÖLTÖTT NAPOK": "4",
                                    "(No column name)": "3"
                                },
                                {
                                    "SZOBA_ID": "45",
                                    "FOGLALAS_PK": "846",
                                    "ELTÖLTÖTT NAPOK": "3",
                                    "(No column name)": "1"
                                },
                                {
                                    "SZOBA_ID": "23",
                                    "FOGLALAS_PK": "848",
                                    "ELTÖLTÖTT NAPOK": "1",
                                    "(No column name)": "3"
                                },
                                {
                                    "SZOBA_ID": "74",
                                    "FOGLALAS_PK": "847",
                                    "ELTÖLTÖTT NAPOK": "3",
                                    "(No column name)": "-25"
                                },
                                {
                                    "SZOBA_ID": "92",
                                    "FOGLALAS_PK": "841",
                                    "ELTÖLTÖTT NAPOK": "-25",
                                    "(No column name)": "2"
                                },
                                {
                                    "SZOBA_ID": "6",
                                    "FOGLALAS_PK": "850",
                                    "ELTÖLTÖTT NAPOK": "2",
                                    "(No column name)": "2"
                                },
                                {
                                    "SZOBA_ID": "27",
                                    "FOGLALAS_PK": "1031",
                                    "ELTÖLTÖTT NAPOK": "2",
                                    "(No column name)": "2"
                                },
                                {
                                    "SZOBA_ID": "38",
                                    "FOGLALAS_PK": "1033",
                                    "ELTÖLTÖTT NAPOK": "2",
                                    "(No column name)": "4"
                                },
                                {
                                    "SZOBA_ID": "188",
                                    "FOGLALAS_PK": "1030",
                                    "ELTÖLTÖTT NAPOK": "4",
                                    "(No column name)": "5"
                                },
                                {
                                    "SZOBA_ID": "146",
                                    "FOGLALAS_PK": "1032",
                                    "ELTÖLTÖTT NAPOK": "5",
                                    "(No column name)": "2"
                                },
                                {
                                    "SZOBA_ID": "122",
                                    "FOGLALAS_PK": "1036",
                                    "ELTÖLTÖTT NAPOK": "2",
                                    "(No column name)": "5"
                                },
                                {
                                    "SZOBA_ID": "113",
                                    "FOGLALAS_PK": "1029",
                                    "ELTÖLTÖTT NAPOK": "5",
                                    "(No column name)": "1"
                                },
                                {
                                    "SZOBA_ID": "130",
                                    "FOGLALAS_PK": "1040",
                                    "ELTÖLTÖTT NAPOK": "1",
                                    "(No column name)": "3"
                                },
                                {
                                    "SZOBA_ID": "3",
                                    "FOGLALAS_PK": "1038",
                                    "ELTÖLTÖTT NAPOK": "3",
                                    "(No column name)": "2"
                                },
                                {
                                    "SZOBA_ID": "139",
                                    "FOGLALAS_PK": "1042",
                                    "ELTÖLTÖTT NAPOK": "2",
                                    "(No column name)": "6"
                                },
                                {
                                    "SZOBA_ID": "127",
                                    "FOGLALAS_PK": "1034",
                                    "ELTÖLTÖTT NAPOK": "6",
                                    "(No column name)": "7"
                                },
                                {
                                    "SZOBA_ID": "135",
                                    "FOGLALAS_PK": "849",
                                    "ELTÖLTÖTT NAPOK": "7",
                                    "(No column name)": "6"
                                },
                                {
                                    "SZOBA_ID": "18",
                                    "FOGLALAS_PK": "1035",
                                    "ELTÖLTÖTT NAPOK": "6",
                                    "(No column name)": "3"
                                },
                                {
                                    "SZOBA_ID": "110",
                                    "FOGLALAS_PK": "1041",
                                    "ELTÖLTÖTT NAPOK": "3",
                                    "(No column name)": "2"
                                },
                                {
                                    "SZOBA_ID": "134",
                                    "FOGLALAS_PK": "1045",
                                    "ELTÖLTÖTT NAPOK": "2",
                                    "(No column name)": "6"
                                },
                                {
                                    "SZOBA_ID": "191",
                                    "FOGLALAS_PK": "1039",
                                    "ELTÖLTÖTT NAPOK": "6",
                                    "(No column name)": "1"
                                },
                                {
                                    "SZOBA_ID": "2",
                                    "FOGLALAS_PK": "1051",
                                    "ELTÖLTÖTT NAPOK": "1",
                                    "(No column name)": "7"
                                },
                                {
                                    "SZOBA_ID": "89",
                                    "FOGLALAS_PK": "1037",
                                    "ELTÖLTÖTT NAPOK": "7",
                                    "(No column name)": "3"
                                },
                                {
                                    "SZOBA_ID": "95",
                                    "FOGLALAS_PK": "1048",
                                    "ELTÖLTÖTT NAPOK": "3",
                                    "(No column name)": "3"
                                },
                                {
                                    "SZOBA_ID": "121",
                                    "FOGLALAS_PK": "1049",
                                    "ELTÖLTÖTT NAPOK": "3",
                                    "(No column name)": "1"
                                },
                                {
                                    "SZOBA_ID": "33",
                                    "FOGLALAS_PK": "1053",
                                    "ELTÖLTÖTT NAPOK": "1",
                                    "(No column name)": "1"
                                },
                                {
                                    "SZOBA_ID": "79",
                                    "FOGLALAS_PK": "1054",
                                    "ELTÖLTÖTT NAPOK": "1",
                                    "(No column name)": "4"
                                },
                                {
                                    "SZOBA_ID": "136",
                                    "FOGLALAS_PK": "1046",
                                    "ELTÖLTÖTT NAPOK": "4",
                                    "(No column name)": "4"
                                },
                                {
                                    "SZOBA_ID": "157",
                                    "FOGLALAS_PK": "1047",
                                    "ELTÖLTÖTT NAPOK": "4",
                                    "(No column name)": "6"
                                },
                                {
                                    "SZOBA_ID": "193",
                                    "FOGLALAS_PK": "1043",
                                    "ELTÖLTÖTT NAPOK": "6",
                                    "(No column name)": "3"
                                },
                                {
                                    "SZOBA_ID": "25",
                                    "FOGLALAS_PK": "1052",
                                    "ELTÖLTÖTT NAPOK": "3",
                                    "(No column name)": "6"
                                },
                                {
                                    "SZOBA_ID": "13",
                                    "FOGLALAS_PK": "1044",
                                    "ELTÖLTÖTT NAPOK": "6",
                                    "(No column name)": "6"
                                },
                                {
                                    "SZOBA_ID": "98",
                                    "FOGLALAS_PK": "1050",
                                    "ELTÖLTÖTT NAPOK": "6",
                                    "(No column name)": "3"
                                },
                                {
                                    "SZOBA_ID": "151",
                                    "FOGLALAS_PK": "1058",
                                    "ELTÖLTÖTT NAPOK": "3",
                                    "(No column name)": "2"
                                },
                                {
                                    "SZOBA_ID": "38",
                                    "FOGLALAS_PK": "1060",
                                    "ELTÖLTÖTT NAPOK": "2",
                                    "(No column name)": "3"
                                },
                                {
                                    "SZOBA_ID": "85",
                                    "FOGLALAS_PK": "1059",
                                    "ELTÖLTÖTT NAPOK": "3",
                                    "(No column name)": "3"
                                },
                                {
                                    "SZOBA_ID": "122",
                                    "FOGLALAS_PK": "1062",
                                    "ELTÖLTÖTT NAPOK": "3",
                                    "(No column name)": "2"
                                },
                                {
                                    "SZOBA_ID": "50",
                                    "FOGLALAS_PK": "1063",
                                    "ELTÖLTÖTT NAPOK": "2",
                                    "(No column name)": "1"
                                },
                                {
                                    "SZOBA_ID": "20",
                                    "FOGLALAS_PK": "1070",
                                    "ELTÖLTÖTT NAPOK": "1",
                                    "(No column name)": "5"
                                },
                                {
                                    "SZOBA_ID": "69",
                                    "FOGLALAS_PK": "1055",
                                    "ELTÖLTÖTT NAPOK": "5",
                                    "(No column name)": "1"
                                },
                                {
                                    "SZOBA_ID": "99",
                                    "FOGLALAS_PK": "1072",
                                    "ELTÖLTÖTT NAPOK": "1",
                                    "(No column name)": "3"
                                },
                                {
                                    "SZOBA_ID": "198",
                                    "FOGLALAS_PK": "1065",
                                    "ELTÖLTÖTT NAPOK": "3",
                                    "(No column name)": "5"
                                },
                                {
                                    "SZOBA_ID": "86",
                                    "FOGLALAS_PK": "1057",
                                    "ELTÖLTÖTT NAPOK": "5",
                                    "(No column name)": "7"
                                },
                                {
                                    "SZOBA_ID": "47",
                                    "FOGLALAS_PK": "1056",
                                    "ELTÖLTÖTT NAPOK": "7",
                                    "(No column name)": "6"
                                },
                                {
                                    "SZOBA_ID": "139",
                                    "FOGLALAS_PK": "1064",
                                    "ELTÖLTÖTT NAPOK": "6",
                                    "(No column name)": "7"
                                },
                                {
                                    "SZOBA_ID": "154",
                                    "FOGLALAS_PK": "1061",
                                    "ELTÖLTÖTT NAPOK": "7",
                                    "(No column name)": "4"
                                },
                                {
                                    "SZOBA_ID": "80",
                                    "FOGLALAS_PK": "1071",
                                    "ELTÖLTÖTT NAPOK": "4",
                                    "(No column name)": "1"
                                },
                                {
                                    "SZOBA_ID": "145",
                                    "FOGLALAS_PK": "1077",
                                    "ELTÖLTÖTT NAPOK": "1",
                                    "(No column name)": "6"
                                },
                                {
                                    "SZOBA_ID": "161",
                                    "FOGLALAS_PK": "1068",
                                    "ELTÖLTÖTT NAPOK": "6",
                                    "(No column name)": "7"
                                },
                                {
                                    "SZOBA_ID": "49",
                                    "FOGLALAS_PK": "1066",
                                    "ELTÖLTÖTT NAPOK": "7",
                                    "(No column name)": "7"
                                },
                                {
                                    "SZOBA_ID": "183",
                                    "FOGLALAS_PK": "1067",
                                    "ELTÖLTÖTT NAPOK": "7",
                                    "(No column name)": "7"
                                },
                                {
                                    "SZOBA_ID": "2",
                                    "FOGLALAS_PK": "1069",
                                    "ELTÖLTÖTT NAPOK": "7",
                                    "(No column name)": "5"
                                },
                                {
                                    "SZOBA_ID": "5",
                                    "FOGLALAS_PK": "1073",
                                    "ELTÖLTÖTT NAPOK": "5",
                                    "(No column name)": "1"
                                },
                                {
                                    "SZOBA_ID": "59",
                                    "FOGLALAS_PK": "1080",
                                    "ELTÖLTÖTT NAPOK": "1",
                                    "(No column name)": "4"
                                },
                                {
                                    "SZOBA_ID": "163",
                                    "FOGLALAS_PK": "1075",
                                    "ELTÖLTÖTT NAPOK": "4",
                                    "(No column name)": "4"
                                },
                                {
                                    "SZOBA_ID": "86",
                                    "FOGLALAS_PK": "1079",
                                    "ELTÖLTÖTT NAPOK": "4",
                                    "(No column name)": "1"
                                },
                                {
                                    "SZOBA_ID": "109",
                                    "FOGLALAS_PK": "1083",
                                    "ELTÖLTÖTT NAPOK": "1",
                                    "(No column name)": "7"
                                },
                                {
                                    "SZOBA_ID": "195",
                                    "FOGLALAS_PK": "1074",
                                    "ELTÖLTÖTT NAPOK": "7",
                                    "(No column name)": "7"
                                },
                                {
                                    "SZOBA_ID": "29",
                                    "FOGLALAS_PK": "1076",
                                    "ELTÖLTÖTT NAPOK": "7",
                                    "(No column name)": "2"
                                },
                                {
                                    "SZOBA_ID": "59",
                                    "FOGLALAS_PK": "1084",
                                    "ELTÖLTÖTT NAPOK": "2",
                                    "(No column name)": "7"
                                },
                                {
                                    "SZOBA_ID": "38",
                                    "FOGLALAS_PK": "1078",
                                    "ELTÖLTÖTT NAPOK": "7",
                                    "(No column name)": "-28"
                                },
                                {
                                    "SZOBA_ID": "144",
                                    "FOGLALAS_PK": "1087",
                                    "ELTÖLTÖTT NAPOK": "-28",
                                    "(No column name)": "-28"
                                },
                                {
                                    "SZOBA_ID": "43",
                                    "FOGLALAS_PK": "1088",
                                    "ELTÖLTÖTT NAPOK": "-28",
                                    "(No column name)": "-25"
                                },
                                {
                                    "SZOBA_ID": "27",
                                    "FOGLALAS_PK": "1082",
                                    "ELTÖLTÖTT NAPOK": "-25",
                                    "(No column name)": "-26"
                                },
                                {
                                    "SZOBA_ID": "113",
                                    "FOGLALAS_PK": "1085",
                                    "ELTÖLTÖTT NAPOK": "-26",
                                    "(No column name)": "1"
                                },
                                {
                                    "SZOBA_ID": "77",
                                    "FOGLALAS_PK": "1104",
                                    "ELTÖLTÖTT NAPOK": "1",
                                    "(No column name)": "1"
                                },
                                {
                                    "SZOBA_ID": "150",
                                    "FOGLALAS_PK": "1105",
                                    "ELTÖLTÖTT NAPOK": "1",
                                    "(No column name)": "1"
                                },
                                {
                                    "SZOBA_ID": "108",
                                    "FOGLALAS_PK": "1102",
                                    "ELTÖLTÖTT NAPOK": "1",
                                    "(No column name)": "1"
                                },
                                {
                                    "SZOBA_ID": "86",
                                    "FOGLALAS_PK": "1108",
                                    "ELTÖLTÖTT NAPOK": "1",
                                    "(No column name)": "2"
                                },
                                {
                                    "SZOBA_ID": "20",
                                    "FOGLALAS_PK": "1106",
                                    "ELTÖLTÖTT NAPOK": "2",
                                    "(No column name)": "2"
                                },
                                {
                                    "SZOBA_ID": "140",
                                    "FOGLALAS_PK": "1098",
                                    "ELTÖLTÖTT NAPOK": "2",
                                    "(No column name)": "-25"
                                },
                                {
                                    "SZOBA_ID": "55",
                                    "FOGLALAS_PK": "1086",
                                    "ELTÖLTÖTT NAPOK": "-25",
                                    "(No column name)": "-23"
                                },
                                {
                                    "SZOBA_ID": "62",
                                    "FOGLALAS_PK": "1081",
                                    "ELTÖLTÖTT NAPOK": "-23",
                                    "(No column name)": "-27"
                                },
                                {
                                    "SZOBA_ID": "70",
                                    "FOGLALAS_PK": "1092",
                                    "ELTÖLTÖTT NAPOK": "-27",
                                    "(No column name)": "-26"
                                },
                                {
                                    "SZOBA_ID": "54",
                                    "FOGLALAS_PK": "1096",
                                    "ELTÖLTÖTT NAPOK": "-26",
                                    "(No column name)": "3"
                                },
                                {
                                    "SZOBA_ID": "163",
                                    "FOGLALAS_PK": "1107",
                                    "ELTÖLTÖTT NAPOK": "3",
                                    "(No column name)": "3"
                                },
                                {
                                    "SZOBA_ID": "87",
                                    "FOGLALAS_PK": "1103",
                                    "ELTÖLTÖTT NAPOK": "3",
                                    "(No column name)": "3"
                                },
                                {
                                    "SZOBA_ID": "132",
                                    "FOGLALAS_PK": "1111",
                                    "ELTÖLTÖTT NAPOK": "3",
                                    "(No column name)": "3"
                                },
                                {
                                    "SZOBA_ID": "58",
                                    "FOGLALAS_PK": "1113",
                                    "ELTÖLTÖTT NAPOK": "3",
                                    "(No column name)": "1"
                                },
                                {
                                    "SZOBA_ID": "198",
                                    "FOGLALAS_PK": "1116",
                                    "ELTÖLTÖTT NAPOK": "1",
                                    "(No column name)": "4"
                                },
                                {
                                    "SZOBA_ID": "155",
                                    "FOGLALAS_PK": "1112",
                                    "ELTÖLTÖTT NAPOK": "4",
                                    "(No column name)": "3"
                                },
                                {
                                    "SZOBA_ID": "151",
                                    "FOGLALAS_PK": "1115",
                                    "ELTÖLTÖTT NAPOK": "3",
                                    "(No column name)": "1"
                                },
                                {
                                    "SZOBA_ID": "145",
                                    "FOGLALAS_PK": "1120",
                                    "ELTÖLTÖTT NAPOK": "1",
                                    "(No column name)": "4"
                                },
                                {
                                    "SZOBA_ID": "95",
                                    "FOGLALAS_PK": "1097",
                                    "ELTÖLTÖTT NAPOK": "4",
                                    "(No column name)": "-25"
                                },
                                {
                                    "SZOBA_ID": "175",
                                    "FOGLALAS_PK": "1094",
                                    "ELTÖLTÖTT NAPOK": "-25",
                                    "(No column name)": "-25"
                                },
                                {
                                    "SZOBA_ID": "194",
                                    "FOGLALAS_PK": "1095",
                                    "ELTÖLTÖTT NAPOK": "-25",
                                    "(No column name)": "4"
                                },
                                {
                                    "SZOBA_ID": "6",
                                    "FOGLALAS_PK": "1099",
                                    "ELTÖLTÖTT NAPOK": "4",
                                    "(No column name)": "5"
                                },
                                {
                                    "SZOBA_ID": "150",
                                    "FOGLALAS_PK": "1100",
                                    "ELTÖLTÖTT NAPOK": "5",
                                    "(No column name)": "5"
                                },
                                {
                                    "SZOBA_ID": "89",
                                    "FOGLALAS_PK": "1101",
                                    "ELTÖLTÖTT NAPOK": "5",
                                    "(No column name)": "5"
                                },
                                {
                                    "SZOBA_ID": "110",
                                    "FOGLALAS_PK": "1109",
                                    "ELTÖLTÖTT NAPOK": "5",
                                    "(No column name)": "-24"
                                },
                                {
                                    "SZOBA_ID": "74",
                                    "FOGLALAS_PK": "1093",
                                    "ELTÖLTÖTT NAPOK": "-24",
                                    "(No column name)": "-24"
                                },
                                {
                                    "SZOBA_ID": "120",
                                    "FOGLALAS_PK": "1089",
                                    "ELTÖLTÖTT NAPOK": "-24",
                                    "(No column name)": "5"
                                },
                                {
                                    "SZOBA_ID": "20",
                                    "FOGLALAS_PK": "1114",
                                    "ELTÖLTÖTT NAPOK": "5",
                                    "(No column name)": "3"
                                },
                                {
                                    "SZOBA_ID": "158",
                                    "FOGLALAS_PK": "1117",
                                    "ELTÖLTÖTT NAPOK": "3",
                                    "(No column name)": "-23"
                                },
                                {
                                    "SZOBA_ID": "132",
                                    "FOGLALAS_PK": "1090",
                                    "ELTÖLTÖTT NAPOK": "-23",
                                    "(No column name)": "-23"
                                },
                                {
                                    "SZOBA_ID": "197",
                                    "FOGLALAS_PK": "1091",
                                    "ELTÖLTÖTT NAPOK": "-23",
                                    "(No column name)": "7"
                                },
                                {
                                    "SZOBA_ID": "3",
                                    "FOGLALAS_PK": "1110",
                                    "ELTÖLTÖTT NAPOK": "7",
                                    "(No column name)": "5"
                                },
                                {
                                    "SZOBA_ID": "40",
                                    "FOGLALAS_PK": "1118",
                                    "ELTÖLTÖTT NAPOK": "5",
                                    "(No column name)": "3"
                                },
                                {
                                    "SZOBA_ID": "185",
                                    "FOGLALAS_PK": "1125",
                                    "ELTÖLTÖTT NAPOK": "3",
                                    "(No column name)": "4"
                                },
                                {
                                    "SZOBA_ID": "64",
                                    "FOGLALAS_PK": "1122",
                                    "ELTÖLTÖTT NAPOK": "4",
                                    "(No column name)": "1"
                                },
                                {
                                    "SZOBA_ID": "22",
                                    "FOGLALAS_PK": "1130",
                                    "ELTÖLTÖTT NAPOK": "1",
                                    "(No column name)": "1"
                                },
                                {
                                    "SZOBA_ID": "7",
                                    "FOGLALAS_PK": "1131",
                                    "ELTÖLTÖTT NAPOK": "1",
                                    "(No column name)": "1"
                                },
                                {
                                    "SZOBA_ID": "126",
                                    "FOGLALAS_PK": "1134",
                                    "ELTÖLTÖTT NAPOK": "1",
                                    "(No column name)": "5"
                                },
                                {
                                    "SZOBA_ID": "11",
                                    "FOGLALAS_PK": "1123",
                                    "ELTÖLTÖTT NAPOK": "5",
                                    "(No column name)": "2"
                                },
                                {
                                    "SZOBA_ID": "175",
                                    "FOGLALAS_PK": "1133",
                                    "ELTÖLTÖTT NAPOK": "2",
                                    "(No column name)": "1"
                                },
                                {
                                    "SZOBA_ID": "165",
                                    "FOGLALAS_PK": "1141",
                                    "ELTÖLTÖTT NAPOK": "1",
                                    "(No column name)": "3"
                                },
                                {
                                    "SZOBA_ID": "70",
                                    "FOGLALAS_PK": "1126",
                                    "ELTÖLTÖTT NAPOK": "3",
                                    "(No column name)": "3"
                                },
                                {
                                    "SZOBA_ID": "4",
                                    "FOGLALAS_PK": "1127",
                                    "ELTÖLTÖTT NAPOK": "3",
                                    "(No column name)": "6"
                                },
                                {
                                    "SZOBA_ID": "83",
                                    "FOGLALAS_PK": "1119",
                                    "ELTÖLTÖTT NAPOK": "6",
                                    "(No column name)": "1"
                                },
                                {
                                    "SZOBA_ID": "41",
                                    "FOGLALAS_PK": "1144",
                                    "ELTÖLTÖTT NAPOK": "1",
                                    "(No column name)": "7"
                                },
                                {
                                    "SZOBA_ID": "115",
                                    "FOGLALAS_PK": "1121",
                                    "ELTÖLTÖTT NAPOK": "7",
                                    "(No column name)": "2"
                                },
                                {
                                    "SZOBA_ID": "1",
                                    "FOGLALAS_PK": "1137",
                                    "ELTÖLTÖTT NAPOK": "2",
                                    "(No column name)": "3"
                                },
                                {
                                    "SZOBA_ID": "45",
                                    "FOGLALAS_PK": "1135",
                                    "ELTÖLTÖTT NAPOK": "3",
                                    "(No column name)": "6"
                                },
                                {
                                    "SZOBA_ID": "112",
                                    "FOGLALAS_PK": "1124",
                                    "ELTÖLTÖTT NAPOK": "6",
                                    "(No column name)": "3"
                                },
                                {
                                    "SZOBA_ID": "12",
                                    "FOGLALAS_PK": "1140",
                                    "ELTÖLTÖTT NAPOK": "3",
                                    "(No column name)": "4"
                                },
                                {
                                    "SZOBA_ID": "121",
                                    "FOGLALAS_PK": "1128",
                                    "ELTÖLTÖTT NAPOK": "4",
                                    "(No column name)": "4"
                                },
                                {
                                    "SZOBA_ID": "15",
                                    "FOGLALAS_PK": "1129",
                                    "ELTÖLTÖTT NAPOK": "4",
                                    "(No column name)": "4"
                                },
                                {
                                    "SZOBA_ID": "172",
                                    "FOGLALAS_PK": "1142",
                                    "ELTÖLTÖTT NAPOK": "4",
                                    "(No column name)": "4"
                                },
                                {
                                    "SZOBA_ID": "145",
                                    "FOGLALAS_PK": "1145",
                                    "ELTÖLTÖTT NAPOK": "4",
                                    "(No column name)": "4"
                                },
                                {
                                    "SZOBA_ID": "183",
                                    "FOGLALAS_PK": "1147",
                                    "ELTÖLTÖTT NAPOK": "4",
                                    "(No column name)": "3"
                                },
                                {
                                    "SZOBA_ID": "61",
                                    "FOGLALAS_PK": "1148",
                                    "ELTÖLTÖTT NAPOK": "3",
                                    "(No column name)": "6"
                                },
                                {
                                    "SZOBA_ID": "4",
                                    "FOGLALAS_PK": "1132",
                                    "ELTÖLTÖTT NAPOK": "6",
                                    "(No column name)": "5"
                                },
                                {
                                    "SZOBA_ID": "30",
                                    "FOGLALAS_PK": "1136",
                                    "ELTÖLTÖTT NAPOK": "5",
                                    "(No column name)": "5"
                                },
                                {
                                    "SZOBA_ID": "198",
                                    "FOGLALAS_PK": "1138",
                                    "ELTÖLTÖTT NAPOK": "5",
                                    "(No column name)": "6"
                                },
                                {
                                    "SZOBA_ID": "176",
                                    "FOGLALAS_PK": "1143",
                                    "ELTÖLTÖTT NAPOK": "6",
                                    "(No column name)": "1"
                                },
                                {
                                    "SZOBA_ID": "3",
                                    "FOGLALAS_PK": "1151",
                                    "ELTÖLTÖTT NAPOK": "1",
                                    "(No column name)": "1"
                                },
                                {
                                    "SZOBA_ID": "1",
                                    "FOGLALAS_PK": "1152",
                                    "ELTÖLTÖTT NAPOK": "1",
                                    "(No column name)": "6"
                                },
                                {
                                    "SZOBA_ID": "149",
                                    "FOGLALAS_PK": "1146",
                                    "ELTÖLTÖTT NAPOK": "6",
                                    "(No column name)": "7"
                                },
                                {
                                    "SZOBA_ID": "19",
                                    "FOGLALAS_PK": "1139",
                                    "ELTÖLTÖTT NAPOK": "7",
                                    "(No column name)": "3"
                                },
                                {
                                    "SZOBA_ID": "140",
                                    "FOGLALAS_PK": "1156",
                                    "ELTÖLTÖTT NAPOK": "3",
                                    "(No column name)": "3"
                                },
                                {
                                    "SZOBA_ID": "186",
                                    "FOGLALAS_PK": "1153",
                                    "ELTÖLTÖTT NAPOK": "3",
                                    "(No column name)": "2"
                                },
                                {
                                    "SZOBA_ID": "26",
                                    "FOGLALAS_PK": "1158",
                                    "ELTÖLTÖTT NAPOK": "2",
                                    "(No column name)": "2"
                                },
                                {
                                    "SZOBA_ID": "110",
                                    "FOGLALAS_PK": "1162",
                                    "ELTÖLTÖTT NAPOK": "2",
                                    "(No column name)": "2"
                                },
                                {
                                    "SZOBA_ID": "55",
                                    "FOGLALAS_PK": "1163",
                                    "ELTÖLTÖTT NAPOK": "2",
                                    "(No column name)": "4"
                                },
                                {
                                    "SZOBA_ID": "115",
                                    "FOGLALAS_PK": "1154",
                                    "ELTÖLTÖTT NAPOK": "4",
                                    "(No column name)": "7"
                                },
                                {
                                    "SZOBA_ID": "133",
                                    "FOGLALAS_PK": "1149",
                                    "ELTÖLTÖTT NAPOK": "7",
                                    "(No column name)": "6"
                                },
                                {
                                    "SZOBA_ID": "28",
                                    "FOGLALAS_PK": "1150",
                                    "ELTÖLTÖTT NAPOK": "6",
                                    "(No column name)": "1"
                                },
                                {
                                    "SZOBA_ID": "24",
                                    "FOGLALAS_PK": "1167",
                                    "ELTÖLTÖTT NAPOK": "1",
                                    "(No column name)": "6"
                                },
                                {
                                    "SZOBA_ID": "9",
                                    "FOGLALAS_PK": "1157",
                                    "ELTÖLTÖTT NAPOK": "6",
                                    "(No column name)": "5"
                                },
                                {
                                    "SZOBA_ID": "73",
                                    "FOGLALAS_PK": "1159",
                                    "ELTÖLTÖTT NAPOK": "5",
                                    "(No column name)": "5"
                                },
                                {
                                    "SZOBA_ID": "198",
                                    "FOGLALAS_PK": "1161",
                                    "ELTÖLTÖTT NAPOK": "5",
                                    "(No column name)": "7"
                                },
                                {
                                    "SZOBA_ID": "143",
                                    "FOGLALAS_PK": "1155",
                                    "ELTÖLTÖTT NAPOK": "7",
                                    "(No column name)": "4"
                                },
                                {
                                    "SZOBA_ID": "122",
                                    "FOGLALAS_PK": "1166",
                                    "ELTÖLTÖTT NAPOK": "4",
                                    "(No column name)": "7"
                                },
                                {
                                    "SZOBA_ID": "152",
                                    "FOGLALAS_PK": "1160",
                                    "ELTÖLTÖTT NAPOK": "7",
                                    "(No column name)": "5"
                                },
                                {
                                    "SZOBA_ID": "12",
                                    "FOGLALAS_PK": "1164",
                                    "ELTÖLTÖTT NAPOK": "5",
                                    "(No column name)": "1"
                                },
                                {
                                    "SZOBA_ID": "150",
                                    "FOGLALAS_PK": "1177",
                                    "ELTÖLTÖTT NAPOK": "1",
                                    "(No column name)": "1"
                                },
                                {
                                    "SZOBA_ID": "104",
                                    "FOGLALAS_PK": "1180",
                                    "ELTÖLTÖTT NAPOK": "1",
                                    "(No column name)": "3"
                                },
                                {
                                    "SZOBA_ID": "177",
                                    "FOGLALAS_PK": "1176",
                                    "ELTÖLTÖTT NAPOK": "3",
                                    "(No column name)": "4"
                                },
                                {
                                    "SZOBA_ID": "93",
                                    "FOGLALAS_PK": "1169",
                                    "ELTÖLTÖTT NAPOK": "4",
                                    "(No column name)": "5"
                                },
                                {
                                    "SZOBA_ID": "51",
                                    "FOGLALAS_PK": "1165",
                                    "ELTÖLTÖTT NAPOK": "5",
                                    "(No column name)": "5"
                                },
                                {
                                    "SZOBA_ID": "59",
                                    "FOGLALAS_PK": "1170",
                                    "ELTÖLTÖTT NAPOK": "5",
                                    "(No column name)": "5"
                                },
                                {
                                    "SZOBA_ID": "172",
                                    "FOGLALAS_PK": "1171",
                                    "ELTÖLTÖTT NAPOK": "5",
                                    "(No column name)": "4"
                                },
                                {
                                    "SZOBA_ID": "7",
                                    "FOGLALAS_PK": "1175",
                                    "ELTÖLTÖTT NAPOK": "4",
                                    "(No column name)": "6"
                                },
                                {
                                    "SZOBA_ID": "154",
                                    "FOGLALAS_PK": "1168",
                                    "ELTÖLTÖTT NAPOK": "6",
                                    "(No column name)": "1"
                                },
                                {
                                    "SZOBA_ID": "182",
                                    "FOGLALAS_PK": "1188",
                                    "ELTÖLTÖTT NAPOK": "1",
                                    "(No column name)": "7"
                                },
                                {
                                    "SZOBA_ID": "197",
                                    "FOGLALAS_PK": "1172",
                                    "ELTÖLTÖTT NAPOK": "7",
                                    "(No column name)": "6"
                                },
                                {
                                    "SZOBA_ID": "18",
                                    "FOGLALAS_PK": "1173",
                                    "ELTÖLTÖTT NAPOK": "6",
                                    "(No column name)": "4"
                                },
                                {
                                    "SZOBA_ID": "7",
                                    "FOGLALAS_PK": "1182",
                                    "ELTÖLTÖTT NAPOK": "4",
                                    "(No column name)": "5"
                                },
                                {
                                    "SZOBA_ID": "185",
                                    "FOGLALAS_PK": "1183",
                                    "ELTÖLTÖTT NAPOK": "5",
                                    "(No column name)": "5"
                                },
                                {
                                    "SZOBA_ID": "195",
                                    "FOGLALAS_PK": "1184",
                                    "ELTÖLTÖTT NAPOK": "5",
                                    "(No column name)": "5"
                                },
                                {
                                    "SZOBA_ID": "29",
                                    "FOGLALAS_PK": "1185",
                                    "ELTÖLTÖTT NAPOK": "5",
                                    "(No column name)": "7"
                                },
                                {
                                    "SZOBA_ID": "90",
                                    "FOGLALAS_PK": "1174",
                                    "ELTÖLTÖTT NAPOK": "7",
                                    "(No column name)": "2"
                                },
                                {
                                    "SZOBA_ID": "117",
                                    "FOGLALAS_PK": "1192",
                                    "ELTÖLTÖTT NAPOK": "2",
                                    "(No column name)": "2"
                                },
                                {
                                    "SZOBA_ID": "52",
                                    "FOGLALAS_PK": "1202",
                                    "ELTÖLTÖTT NAPOK": "2",
                                    "(No column name)": "1"
                                },
                                {
                                    "SZOBA_ID": "43",
                                    "FOGLALAS_PK": "1207",
                                    "ELTÖLTÖTT NAPOK": "1",
                                    "(No column name)": "1"
                                },
                                {
                                    "SZOBA_ID": "122",
                                    "FOGLALAS_PK": "1209",
                                    "ELTÖLTÖTT NAPOK": "1",
                                    "(No column name)": "2"
                                },
                                {
                                    "SZOBA_ID": "189",
                                    "FOGLALAS_PK": "1204",
                                    "ELTÖLTÖTT NAPOK": "2",
                                    "(No column name)": "3"
                                },
                                {
                                    "SZOBA_ID": "88",
                                    "FOGLALAS_PK": "1196",
                                    "ELTÖLTÖTT NAPOK": "3",
                                    "(No column name)": "6"
                                },
                                {
                                    "SZOBA_ID": "58",
                                    "FOGLALAS_PK": "1186",
                                    "ELTÖLTÖTT NAPOK": "6",
                                    "(No column name)": "6"
                                },
                                {
                                    "SZOBA_ID": "171",
                                    "FOGLALAS_PK": "1181",
                                    "ELTÖLTÖTT NAPOK": "6",
                                    "(No column name)": "7"
                                },
                                {
                                    "SZOBA_ID": "134",
                                    "FOGLALAS_PK": "1178",
                                    "ELTÖLTÖTT NAPOK": "7",
                                    "(No column name)": "7"
                                },
                                {
                                    "SZOBA_ID": "74",
                                    "FOGLALAS_PK": "1179",
                                    "ELTÖLTÖTT NAPOK": "7",
                                    "(No column name)": "7"
                                },
                                {
                                    "SZOBA_ID": "46",
                                    "FOGLALAS_PK": "1187",
                                    "ELTÖLTÖTT NAPOK": "7",
                                    "(No column name)": "4"
                                },
                                {
                                    "SZOBA_ID": "18",
                                    "FOGLALAS_PK": "1198",
                                    "ELTÖLTÖTT NAPOK": "4",
                                    "(No column name)": "4"
                                },
                                {
                                    "SZOBA_ID": "150",
                                    "FOGLALAS_PK": "1203",
                                    "ELTÖLTÖTT NAPOK": "4",
                                    "(No column name)": "4"
                                },
                                {
                                    "SZOBA_ID": "170",
                                    "FOGLALAS_PK": "1194",
                                    "ELTÖLTÖTT NAPOK": "4",
                                    "(No column name)": "6"
                                },
                                {
                                    "SZOBA_ID": "89",
                                    "FOGLALAS_PK": "1189",
                                    "ELTÖLTÖTT NAPOK": "6",
                                    "(No column name)": "1"
                                },
                                {
                                    "SZOBA_ID": "93",
                                    "FOGLALAS_PK": "1217",
                                    "ELTÖLTÖTT NAPOK": "1",
                                    "(No column name)": "2"
                                },
                                {
                                    "SZOBA_ID": "61",
                                    "FOGLALAS_PK": "1218",
                                    "ELTÖLTÖTT NAPOK": "2",
                                    "(No column name)": "3"
                                },
                                {
                                    "SZOBA_ID": "178",
                                    "FOGLALAS_PK": "1211",
                                    "ELTÖLTÖTT NAPOK": "3",
                                    "(No column name)": "3"
                                },
                                {
                                    "SZOBA_ID": "91",
                                    "FOGLALAS_PK": "1213",
                                    "ELTÖLTÖTT NAPOK": "3",
                                    "(No column name)": "7"
                                },
                                {
                                    "SZOBA_ID": "161",
                                    "FOGLALAS_PK": "1190",
                                    "ELTÖLTÖTT NAPOK": "7",
                                    "(No column name)": "6"
                                },
                                {
                                    "SZOBA_ID": "59",
                                    "FOGLALAS_PK": "1191",
                                    "ELTÖLTÖTT NAPOK": "6",
                                    "(No column name)": "1"
                                },
                                {
                                    "SZOBA_ID": "123",
                                    "FOGLALAS_PK": "1223",
                                    "ELTÖLTÖTT NAPOK": "1",
                                    "(No column name)": "1"
                                },
                                {
                                    "SZOBA_ID": "50",
                                    "FOGLALAS_PK": "1224",
                                    "ELTÖLTÖTT NAPOK": "1",
                                    "(No column name)": "-25"
                                },
                                {
                                    "SZOBA_ID": "22",
                                    "FOGLALAS_PK": "1195",
                                    "ELTÖLTÖTT NAPOK": "-25",
                                    "(No column name)": "-25"
                                },
                                {
                                    "SZOBA_ID": "143",
                                    "FOGLALAS_PK": "1193",
                                    "ELTÖLTÖTT NAPOK": "-25",
                                    "(No column name)": "-25"
                                },
                                {
                                    "SZOBA_ID": "152",
                                    "FOGLALAS_PK": "1197",
                                    "ELTÖLTÖTT NAPOK": "-25",
                                    "(No column name)": "-27"
                                },
                                {
                                    "SZOBA_ID": "124",
                                    "FOGLALAS_PK": "1210",
                                    "ELTÖLTÖTT NAPOK": "-27",
                                    "(No column name)": "-25"
                                },
                                {
                                    "SZOBA_ID": "137",
                                    "FOGLALAS_PK": "1201",
                                    "ELTÖLTÖTT NAPOK": "-25",
                                    "(No column name)": "-29"
                                },
                                {
                                    "SZOBA_ID": "49",
                                    "FOGLALAS_PK": "1221",
                                    "ELTÖLTÖTT NAPOK": "-29",
                                    "(No column name)": "-29"
                                },
                                {
                                    "SZOBA_ID": "143",
                                    "FOGLALAS_PK": "1222",
                                    "ELTÖLTÖTT NAPOK": "-29",
                                    "(No column name)": "-28"
                                },
                                {
                                    "SZOBA_ID": "9",
                                    "FOGLALAS_PK": "1220",
                                    "ELTÖLTÖTT NAPOK": "-28",
                                    "(No column name)": "-27"
                                },
                                {
                                    "SZOBA_ID": "121",
                                    "FOGLALAS_PK": "1215",
                                    "ELTÖLTÖTT NAPOK": "-27",
                                    "(No column name)": "-24"
                                },
                                {
                                    "SZOBA_ID": "144",
                                    "FOGLALAS_PK": "1199",
                                    "ELTÖLTÖTT NAPOK": "-24",
                                    "(No column name)": "-24"
                                },
                                {
                                    "SZOBA_ID": "49",
                                    "FOGLALAS_PK": "1200",
                                    "ELTÖLTÖTT NAPOK": "-24",
                                    "(No column name)": "-25"
                                },
                                {
                                    "SZOBA_ID": "162",
                                    "FOGLALAS_PK": "1205",
                                    "ELTÖLTÖTT NAPOK": "-25",
                                    "(No column name)": "1"
                                },
                                {
                                    "SZOBA_ID": "11",
                                    "FOGLALAS_PK": "1236",
                                    "ELTÖLTÖTT NAPOK": "1",
                                    "(No column name)": "1"
                                },
                                {
                                    "SZOBA_ID": "19",
                                    "FOGLALAS_PK": "1237",
                                    "ELTÖLTÖTT NAPOK": "1",
                                    "(No column name)": "-27"
                                },
                                {
                                    "SZOBA_ID": "182",
                                    "FOGLALAS_PK": "1231",
                                    "ELTÖLTÖTT NAPOK": "-27",
                                    "(No column name)": "-24"
                                },
                                {
                                    "SZOBA_ID": "22",
                                    "FOGLALAS_PK": "1206",
                                    "ELTÖLTÖTT NAPOK": "-24",
                                    "(No column name)": "-25"
                                },
                                {
                                    "SZOBA_ID": "58",
                                    "FOGLALAS_PK": "1208",
                                    "ELTÖLTÖTT NAPOK": "-25",
                                    "(No column name)": "-26"
                                },
                                {
                                    "SZOBA_ID": "39",
                                    "FOGLALAS_PK": "1214",
                                    "ELTÖLTÖTT NAPOK": "-26",
                                    "(No column name)": "-25"
                                },
                                {
                                    "SZOBA_ID": "21",
                                    "FOGLALAS_PK": "1212",
                                    "ELTÖLTÖTT NAPOK": "-25",
                                    "(No column name)": "3"
                                },
                                {
                                    "SZOBA_ID": "66",
                                    "FOGLALAS_PK": "1234",
                                    "ELTÖLTÖTT NAPOK": "3",
                                    "(No column name)": "-26"
                                },
                                {
                                    "SZOBA_ID": "69",
                                    "FOGLALAS_PK": "1225",
                                    "ELTÖLTÖTT NAPOK": "-26",
                                    "(No column name)": "-26"
                                },
                                {
                                    "SZOBA_ID": "127",
                                    "FOGLALAS_PK": "1226",
                                    "ELTÖLTÖTT NAPOK": "-26",
                                    "(No column name)": "-26"
                                },
                                {
                                    "SZOBA_ID": "43",
                                    "FOGLALAS_PK": "1227",
                                    "ELTÖLTÖTT NAPOK": "-26",
                                    "(No column name)": "1"
                                },
                                {
                                    "SZOBA_ID": "178",
                                    "FOGLALAS_PK": "1242",
                                    "ELTÖLTÖTT NAPOK": "1",
                                    "(No column name)": "1"
                                },
                                {
                                    "SZOBA_ID": "15",
                                    "FOGLALAS_PK": "1244",
                                    "ELTÖLTÖTT NAPOK": "1",
                                    "(No column name)": "2"
                                },
                                {
                                    "SZOBA_ID": "59",
                                    "FOGLALAS_PK": "1239",
                                    "ELTÖLTÖTT NAPOK": "2",
                                    "(No column name)": "-24"
                                },
                                {
                                    "SZOBA_ID": "198",
                                    "FOGLALAS_PK": "1216",
                                    "ELTÖLTÖTT NAPOK": "-24",
                                    "(No column name)": "-25"
                                },
                                {
                                    "SZOBA_ID": "134",
                                    "FOGLALAS_PK": "1219",
                                    "ELTÖLTÖTT NAPOK": "-25",
                                    "(No column name)": "-24"
                                },
                                {
                                    "SZOBA_ID": "55",
                                    "FOGLALAS_PK": "1232",
                                    "ELTÖLTÖTT NAPOK": "-24",
                                    "(No column name)": "-24"
                                },
                                {
                                    "SZOBA_ID": "106",
                                    "FOGLALAS_PK": "1228",
                                    "ELTÖLTÖTT NAPOK": "-24",
                                    "(No column name)": "-24"
                                },
                                {
                                    "SZOBA_ID": "79",
                                    "FOGLALAS_PK": "1229",
                                    "ELTÖLTÖTT NAPOK": "-24",
                                    "(No column name)": "-24"
                                },
                                {
                                    "SZOBA_ID": "182",
                                    "FOGLALAS_PK": "1230",
                                    "ELTÖLTÖTT NAPOK": "-24",
                                    "(No column name)": "2"
                                },
                                {
                                    "SZOBA_ID": "122",
                                    "FOGLALAS_PK": "1245",
                                    "ELTÖLTÖTT NAPOK": "2",
                                    "(No column name)": "2"
                                },
                                {
                                    "SZOBA_ID": "186",
                                    "FOGLALAS_PK": "1248",
                                    "ELTÖLTÖTT NAPOK": "2",
                                    "(No column name)": "2"
                                },
                                {
                                    "SZOBA_ID": "7",
                                    "FOGLALAS_PK": "1252",
                                    "ELTÖLTÖTT NAPOK": "2",
                                    "(No column name)": "2"
                                },
                                {
                                    "SZOBA_ID": "89",
                                    "FOGLALAS_PK": "1253",
                                    "ELTÖLTÖTT NAPOK": "2",
                                    "(No column name)": "-24"
                                },
                                {
                                    "SZOBA_ID": "64",
                                    "FOGLALAS_PK": "1233",
                                    "ELTÖLTÖTT NAPOK": "-24",
                                    "(No column name)": "7"
                                },
                                {
                                    "SZOBA_ID": "29",
                                    "FOGLALAS_PK": "1235",
                                    "ELTÖLTÖTT NAPOK": "7",
                                    "(No column name)": "1"
                                },
                                {
                                    "SZOBA_ID": "154",
                                    "FOGLALAS_PK": "1262",
                                    "ELTÖLTÖTT NAPOK": "1",
                                    "(No column name)": "3"
                                },
                                {
                                    "SZOBA_ID": "117",
                                    "FOGLALAS_PK": "1247",
                                    "ELTÖLTÖTT NAPOK": "3",
                                    "(No column name)": "1"
                                },
                                {
                                    "SZOBA_ID": "113",
                                    "FOGLALAS_PK": "1263",
                                    "ELTÖLTÖTT NAPOK": "1",
                                    "(No column name)": "6"
                                },
                                {
                                    "SZOBA_ID": "193",
                                    "FOGLALAS_PK": "1238",
                                    "ELTÖLTÖTT NAPOK": "6",
                                    "(No column name)": "4"
                                },
                                {
                                    "SZOBA_ID": "168",
                                    "FOGLALAS_PK": "1249",
                                    "ELTÖLTÖTT NAPOK": "4",
                                    "(No column name)": "4"
                                },
                                {
                                    "SZOBA_ID": "107",
                                    "FOGLALAS_PK": "1250",
                                    "ELTÖLTÖTT NAPOK": "4",
                                    "(No column name)": "4"
                                },
                                {
                                    "SZOBA_ID": "184",
                                    "FOGLALAS_PK": "1251",
                                    "ELTÖLTÖTT NAPOK": "4",
                                    "(No column name)": "6"
                                },
                                {
                                    "SZOBA_ID": "48",
                                    "FOGLALAS_PK": "1243",
                                    "ELTÖLTÖTT NAPOK": "6",
                                    "(No column name)": "4"
                                },
                                {
                                    "SZOBA_ID": "141",
                                    "FOGLALAS_PK": "1254",
                                    "ELTÖLTÖTT NAPOK": "4",
                                    "(No column name)": "4"
                                },
                                {
                                    "SZOBA_ID": "138",
                                    "FOGLALAS_PK": "1256",
                                    "ELTÖLTÖTT NAPOK": "4",
                                    "(No column name)": "3"
                                },
                                {
                                    "SZOBA_ID": "5",
                                    "FOGLALAS_PK": "1257",
                                    "ELTÖLTÖTT NAPOK": "3",
                                    "(No column name)": "7"
                                },
                                {
                                    "SZOBA_ID": "157",
                                    "FOGLALAS_PK": "1240",
                                    "ELTÖLTÖTT NAPOK": "7",
                                    "(No column name)": "7"
                                },
                                {
                                    "SZOBA_ID": "94",
                                    "FOGLALAS_PK": "1241",
                                    "ELTÖLTÖTT NAPOK": "7",
                                    "(No column name)": "2"
                                },
                                {
                                    "SZOBA_ID": "78",
                                    "FOGLALAS_PK": "1268",
                                    "ELTÖLTÖTT NAPOK": "2",
                                    "(No column name)": "2"
                                },
                                {
                                    "SZOBA_ID": "89",
                                    "FOGLALAS_PK": "1269",
                                    "ELTÖLTÖTT NAPOK": "2",
                                    "(No column name)": "1"
                                },
                                {
                                    "SZOBA_ID": "50",
                                    "FOGLALAS_PK": "1272",
                                    "ELTÖLTÖTT NAPOK": "1",
                                    "(No column name)": "1"
                                },
                                {
                                    "SZOBA_ID": "1",
                                    "FOGLALAS_PK": "1274",
                                    "ELTÖLTÖTT NAPOK": "1",
                                    "(No column name)": "4"
                                },
                                {
                                    "SZOBA_ID": "66",
                                    "FOGLALAS_PK": "1264",
                                    "ELTÖLTÖTT NAPOK": "4",
                                    "(No column name)": "4"
                                },
                                {
                                    "SZOBA_ID": "168",
                                    "FOGLALAS_PK": "1266",
                                    "ELTÖLTÖTT NAPOK": "4",
                                    "(No column name)": "5"
                                },
                                {
                                    "SZOBA_ID": "52",
                                    "FOGLALAS_PK": "1258",
                                    "ELTÖLTÖTT NAPOK": "5",
                                    "(No column name)": "7"
                                },
                                {
                                    "SZOBA_ID": "69",
                                    "FOGLALAS_PK": "1246",
                                    "ELTÖLTÖTT NAPOK": "7",
                                    "(No column name)": "7"
                                },
                                {
                                    "SZOBA_ID": "58",
                                    "FOGLALAS_PK": "1255",
                                    "ELTÖLTÖTT NAPOK": "7",
                                    "(No column name)": "6"
                                },
                                {
                                    "SZOBA_ID": "9",
                                    "FOGLALAS_PK": "1260",
                                    "ELTÖLTÖTT NAPOK": "6",
                                    "(No column name)": "6"
                                },
                                {
                                    "SZOBA_ID": "58",
                                    "FOGLALAS_PK": "1261",
                                    "ELTÖLTÖTT NAPOK": "6",
                                    "(No column name)": "5"
                                },
                                {
                                    "SZOBA_ID": "163",
                                    "FOGLALAS_PK": "1265",
                                    "ELTÖLTÖTT NAPOK": "5",
                                    "(No column name)": "1"
                                },
                                {
                                    "SZOBA_ID": "174",
                                    "FOGLALAS_PK": "1276",
                                    "ELTÖLTÖTT NAPOK": "1",
                                    "(No column name)": "4"
                                },
                                {
                                    "SZOBA_ID": "43",
                                    "FOGLALAS_PK": "1270",
                                    "ELTÖLTÖTT NAPOK": "4",
                                    "(No column name)": "7"
                                },
                                {
                                    "SZOBA_ID": "140",
                                    "FOGLALAS_PK": "1259",
                                    "ELTÖLTÖTT NAPOK": "7",
                                    "(No column name)": "5"
                                },
                                {
                                    "SZOBA_ID": "106",
                                    "FOGLALAS_PK": "1271",
                                    "ELTÖLTÖTT NAPOK": "5",
                                    "(No column name)": "7"
                                },
                                {
                                    "SZOBA_ID": "170",
                                    "FOGLALAS_PK": "1267",
                                    "ELTÖLTÖTT NAPOK": "7",
                                    "(No column name)": "6"
                                },
                                {
                                    "SZOBA_ID": "27",
                                    "FOGLALAS_PK": "1275",
                                    "ELTÖLTÖTT NAPOK": "6",
                                    "(No column name)": "7"
                                },
                                {
                                    "SZOBA_ID": "88",
                                    "FOGLALAS_PK": "1273",
                                    "ELTÖLTÖTT NAPOK": "7",
                                    "(No column name)": "5"
                                },
                                {
                                    "SZOBA_ID": "82",
                                    "FOGLALAS_PK": "1277",
                                    "ELTÖLTÖTT NAPOK": "5",
                                    "(No column name)": "1"
                                },
                                {
                                    "SZOBA_ID": "127",
                                    "FOGLALAS_PK": "1286",
                                    "ELTÖLTÖTT NAPOK": "1",
                                    "(No column name)": "3"
                                },
                                {
                                    "SZOBA_ID": "137",
                                    "FOGLALAS_PK": "1280",
                                    "ELTÖLTÖTT NAPOK": "3",
                                    "(No column name)": "3"
                                },
                                {
                                    "SZOBA_ID": "78",
                                    "FOGLALAS_PK": "1281",
                                    "ELTÖLTÖTT NAPOK": "3",
                                    "(No column name)": "2"
                                },
                                {
                                    "SZOBA_ID": "138",
                                    "FOGLALAS_PK": "1283",
                                    "ELTÖLTÖTT NAPOK": "2",
                                    "(No column name)": "6"
                                },
                                {
                                    "SZOBA_ID": "176",
                                    "FOGLALAS_PK": "1278",
                                    "ELTÖLTÖTT NAPOK": "6",
                                    "(No column name)": "5"
                                },
                                {
                                    "SZOBA_ID": "80",
                                    "FOGLALAS_PK": "1279",
                                    "ELTÖLTÖTT NAPOK": "5",
                                    "(No column name)": "4"
                                },
                                {
                                    "SZOBA_ID": "164",
                                    "FOGLALAS_PK": "1284",
                                    "ELTÖLTÖTT NAPOK": "4",
                                    "(No column name)": "3"
                                },
                                {
                                    "SZOBA_ID": "22",
                                    "FOGLALAS_PK": "1287",
                                    "ELTÖLTÖTT NAPOK": "3",
                                    "(No column name)": "3"
                                },
                                {
                                    "SZOBA_ID": "59",
                                    "FOGLALAS_PK": "1288",
                                    "ELTÖLTÖTT NAPOK": "3",
                                    "(No column name)": "1"
                                },
                                {
                                    "SZOBA_ID": "128",
                                    "FOGLALAS_PK": "1290",
                                    "ELTÖLTÖTT NAPOK": "1",
                                    "(No column name)": "1"
                                },
                                {
                                    "SZOBA_ID": "144",
                                    "FOGLALAS_PK": "1297",
                                    "ELTÖLTÖTT NAPOK": "1",
                                    "(No column name)": "2"
                                },
                                {
                                    "SZOBA_ID": "44",
                                    "FOGLALAS_PK": "1295",
                                    "ELTÖLTÖTT NAPOK": "2",
                                    "(No column name)": "2"
                                },
                                {
                                    "SZOBA_ID": "164",
                                    "FOGLALAS_PK": "1292",
                                    "ELTÖLTÖTT NAPOK": "2",
                                    "(No column name)": "3"
                                },
                                {
                                    "SZOBA_ID": "135",
                                    "FOGLALAS_PK": "1289",
                                    "ELTÖLTÖTT NAPOK": "3",
                                    "(No column name)": "6"
                                },
                                {
                                    "SZOBA_ID": "123",
                                    "FOGLALAS_PK": "1282",
                                    "ELTÖLTÖTT NAPOK": "6",
                                    "(No column name)": "3"
                                },
                                {
                                    "SZOBA_ID": "58",
                                    "FOGLALAS_PK": "1293",
                                    "ELTÖLTÖTT NAPOK": "3",
                                    "(No column name)": "3"
                                },
                                {
                                    "SZOBA_ID": "46",
                                    "FOGLALAS_PK": "1291",
                                    "ELTÖLTÖTT NAPOK": "3",
                                    "(No column name)": "3"
                                },
                                {
                                    "SZOBA_ID": "111",
                                    "FOGLALAS_PK": "1296",
                                    "ELTÖLTÖTT NAPOK": "3",
                                    "(No column name)": "1"
                                },
                                {
                                    "SZOBA_ID": "191",
                                    "FOGLALAS_PK": "1302",
                                    "ELTÖLTÖTT NAPOK": "1",
                                    "(No column name)": "7"
                                },
                                {
                                    "SZOBA_ID": "58",
                                    "FOGLALAS_PK": "1285",
                                    "ELTÖLTÖTT NAPOK": "7",
                                    "(No column name)": "5"
                                },
                                {
                                    "SZOBA_ID": "138",
                                    "FOGLALAS_PK": "1294",
                                    "ELTÖLTÖTT NAPOK": "5",
                                    "(No column name)": "2"
                                },
                                {
                                    "SZOBA_ID": "45",
                                    "FOGLALAS_PK": "1303",
                                    "ELTÖLTÖTT NAPOK": "2",
                                    "(No column name)": "3"
                                },
                                {
                                    "SZOBA_ID": "88",
                                    "FOGLALAS_PK": "1300",
                                    "ELTÖLTÖTT NAPOK": "3",
                                    "(No column name)": "2"
                                },
                                {
                                    "SZOBA_ID": "132",
                                    "FOGLALAS_PK": "1301",
                                    "ELTÖLTÖTT NAPOK": "2",
                                    "(No column name)": "4"
                                },
                                {
                                    "SZOBA_ID": "109",
                                    "FOGLALAS_PK": "1298",
                                    "ELTÖLTÖTT NAPOK": "4",
                                    "(No column name)": "2"
                                },
                                {
                                    "SZOBA_ID": "94",
                                    "FOGLALAS_PK": "1305",
                                    "ELTÖLTÖTT NAPOK": "2",
                                    "(No column name)": "1"
                                },
                                {
                                    "SZOBA_ID": "182",
                                    "FOGLALAS_PK": "1308",
                                    "ELTÖLTÖTT NAPOK": "1",
                                    "(No column name)": "1"
                                },
                                {
                                    "SZOBA_ID": "155",
                                    "FOGLALAS_PK": "1310",
                                    "ELTÖLTÖTT NAPOK": "1",
                                    "(No column name)": "2"
                                },
                                {
                                    "SZOBA_ID": "42",
                                    "FOGLALAS_PK": "1309",
                                    "ELTÖLTÖTT NAPOK": "2",
                                    "(No column name)": "3"
                                },
                                {
                                    "SZOBA_ID": "133",
                                    "FOGLALAS_PK": "1306",
                                    "ELTÖLTÖTT NAPOK": "3",
                                    "(No column name)": "3"
                                },
                                {
                                    "SZOBA_ID": "94",
                                    "FOGLALAS_PK": "1312",
                                    "ELTÖLTÖTT NAPOK": "3",
                                    "(No column name)": "1"
                                },
                                {
                                    "SZOBA_ID": "85",
                                    "FOGLALAS_PK": "1320",
                                    "ELTÖLTÖTT NAPOK": "1",
                                    "(No column name)": "2"
                                },
                                {
                                    "SZOBA_ID": "72",
                                    "FOGLALAS_PK": "1318",
                                    "ELTÖLTÖTT NAPOK": "2",
                                    "(No column name)": "4"
                                },
                                {
                                    "SZOBA_ID": "143",
                                    "FOGLALAS_PK": "1313",
                                    "ELTÖLTÖTT NAPOK": "4",
                                    "(No column name)": "6"
                                },
                                {
                                    "SZOBA_ID": "90",
                                    "FOGLALAS_PK": "1299",
                                    "ELTÖLTÖTT NAPOK": "6",
                                    "(No column name)": "5"
                                },
                                {
                                    "SZOBA_ID": "196",
                                    "FOGLALAS_PK": "1314",
                                    "ELTÖLTÖTT NAPOK": "5",
                                    "(No column name)": "3"
                                },
                                {
                                    "SZOBA_ID": "182",
                                    "FOGLALAS_PK": "1317",
                                    "ELTÖLTÖTT NAPOK": "3",
                                    "(No column name)": "4"
                                },
                                {
                                    "SZOBA_ID": "33",
                                    "FOGLALAS_PK": "1321",
                                    "ELTÖLTÖTT NAPOK": "4",
                                    "(No column name)": "3"
                                },
                                {
                                    "SZOBA_ID": "58",
                                    "FOGLALAS_PK": "1322",
                                    "ELTÖLTÖTT NAPOK": "3",
                                    "(No column name)": "5"
                                },
                                {
                                    "SZOBA_ID": "100",
                                    "FOGLALAS_PK": "1315",
                                    "ELTÖLTÖTT NAPOK": "5",
                                    "(No column name)": "6"
                                },
                                {
                                    "SZOBA_ID": "58",
                                    "FOGLALAS_PK": "1307",
                                    "ELTÖLTÖTT NAPOK": "6",
                                    "(No column name)": "7"
                                },
                                {
                                    "SZOBA_ID": "197",
                                    "FOGLALAS_PK": "1304",
                                    "ELTÖLTÖTT NAPOK": "7",
                                    "(No column name)": "5"
                                },
                                {
                                    "SZOBA_ID": "17",
                                    "FOGLALAS_PK": "1316",
                                    "ELTÖLTÖTT NAPOK": "5",
                                    "(No column name)": "7"
                                },
                                {
                                    "SZOBA_ID": "2",
                                    "FOGLALAS_PK": "1311",
                                    "ELTÖLTÖTT NAPOK": "7",
                                    "(No column name)": "-24"
                                },
                                {
                                    "SZOBA_ID": "10",
                                    "FOGLALAS_PK": "1319",
                                    "ELTÖLTÖTT NAPOK": "-24",
                                    "(No column name)": "-26"
                                },
                                {
                                    "SZOBA_ID": "68",
                                    "FOGLALAS_PK": "1324",
                                    "ELTÖLTÖTT NAPOK": "-26",
                                    "(No column name)": "-26"
                                },
                                {
                                    "SZOBA_ID": "182",
                                    "FOGLALAS_PK": "1326",
                                    "ELTÖLTÖTT NAPOK": "-26",
                                    "(No column name)": "-26"
                                },
                                {
                                    "SZOBA_ID": "54",
                                    "FOGLALAS_PK": "1328",
                                    "ELTÖLTÖTT NAPOK": "-26",
                                    "(No column name)": "-26"
                                },
                                {
                                    "SZOBA_ID": "73",
                                    "FOGLALAS_PK": "1331",
                                    "ELTÖLTÖTT NAPOK": "-26",
                                    "(No column name)": "2"
                                },
                                {
                                    "SZOBA_ID": "122",
                                    "FOGLALAS_PK": "1337",
                                    "ELTÖLTÖTT NAPOK": "2",
                                    "(No column name)": "2"
                                },
                                {
                                    "SZOBA_ID": "145",
                                    "FOGLALAS_PK": "1338",
                                    "ELTÖLTÖTT NAPOK": "2",
                                    "(No column name)": "-25"
                                },
                                {
                                    "SZOBA_ID": "171",
                                    "FOGLALAS_PK": "1329",
                                    "ELTÖLTÖTT NAPOK": "-25",
                                    "(No column name)": "-24"
                                },
                                {
                                    "SZOBA_ID": "55",
                                    "FOGLALAS_PK": "1327",
                                    "ELTÖLTÖTT NAPOK": "-24",
                                    "(No column name)": "-23"
                                },
                                {
                                    "SZOBA_ID": "70",
                                    "FOGLALAS_PK": "1325",
                                    "ELTÖLTÖTT NAPOK": "-23",
                                    "(No column name)": "-23"
                                },
                                {
                                    "SZOBA_ID": "191",
                                    "FOGLALAS_PK": "1323",
                                    "ELTÖLTÖTT NAPOK": "-23",
                                    "(No column name)": "-24"
                                },
                                {
                                    "SZOBA_ID": "101",
                                    "FOGLALAS_PK": "1332",
                                    "ELTÖLTÖTT NAPOK": "-24",
                                    "(No column name)": "4"
                                },
                                {
                                    "SZOBA_ID": "1",
                                    "FOGLALAS_PK": "1334",
                                    "ELTÖLTÖTT NAPOK": "4",
                                    "(No column name)": "-24"
                                },
                                {
                                    "SZOBA_ID": "70",
                                    "FOGLALAS_PK": "1333",
                                    "ELTÖLTÖTT NAPOK": "-24",
                                    "(No column name)": "2"
                                },
                                {
                                    "SZOBA_ID": "82",
                                    "FOGLALAS_PK": "1341",
                                    "ELTÖLTÖTT NAPOK": "2",
                                    "(No column name)": "-23"
                                },
                                {
                                    "SZOBA_ID": "124",
                                    "FOGLALAS_PK": "1330",
                                    "ELTÖLTÖTT NAPOK": "-23",
                                    "(No column name)": "2"
                                },
                                {
                                    "SZOBA_ID": "102",
                                    "FOGLALAS_PK": "1343",
                                    "ELTÖLTÖTT NAPOK": "2",
                                    "(No column name)": "5"
                                },
                                {
                                    "SZOBA_ID": "172",
                                    "FOGLALAS_PK": "1336",
                                    "ELTÖLTÖTT NAPOK": "5",
                                    "(No column name)": "1"
                                },
                                {
                                    "SZOBA_ID": "57",
                                    "FOGLALAS_PK": "1348",
                                    "ELTÖLTÖTT NAPOK": "1",
                                    "(No column name)": "1"
                                },
                                {
                                    "SZOBA_ID": "107",
                                    "FOGLALAS_PK": "1354",
                                    "ELTÖLTÖTT NAPOK": "1",
                                    "(No column name)": "3"
                                },
                                {
                                    "SZOBA_ID": "79",
                                    "FOGLALAS_PK": "1345",
                                    "ELTÖLTÖTT NAPOK": "3",
                                    "(No column name)": "7"
                                },
                                {
                                    "SZOBA_ID": "37",
                                    "FOGLALAS_PK": "1335",
                                    "ELTÖLTÖTT NAPOK": "7",
                                    "(No column name)": "6"
                                },
                                {
                                    "SZOBA_ID": "120",
                                    "FOGLALAS_PK": "1339",
                                    "ELTÖLTÖTT NAPOK": "6",
                                    "(No column name)": "5"
                                },
                                {
                                    "SZOBA_ID": "196",
                                    "FOGLALAS_PK": "1340",
                                    "ELTÖLTÖTT NAPOK": "5",
                                    "(No column name)": "3"
                                },
                                {
                                    "SZOBA_ID": "13",
                                    "FOGLALAS_PK": "1347",
                                    "ELTÖLTÖTT NAPOK": "3",
                                    "(No column name)": "3"
                                },
                                {
                                    "SZOBA_ID": "173",
                                    "FOGLALAS_PK": "1350",
                                    "ELTÖLTÖTT NAPOK": "3",
                                    "(No column name)": "4"
                                },
                                {
                                    "SZOBA_ID": "38",
                                    "FOGLALAS_PK": "1351",
                                    "ELTÖLTÖTT NAPOK": "4",
                                    "(No column name)": "3"
                                },
                                {
                                    "SZOBA_ID": "115",
                                    "FOGLALAS_PK": "1352",
                                    "ELTÖLTÖTT NAPOK": "3",
                                    "(No column name)": "2"
                                },
                                {
                                    "SZOBA_ID": "93",
                                    "FOGLALAS_PK": "1355",
                                    "ELTÖLTÖTT NAPOK": "2",
                                    "(No column name)": "5"
                                },
                                {
                                    "SZOBA_ID": "33",
                                    "FOGLALAS_PK": "1344",
                                    "ELTÖLTÖTT NAPOK": "5",
                                    "(No column name)": "6"
                                },
                                {
                                    "SZOBA_ID": "170",
                                    "FOGLALAS_PK": "1342",
                                    "ELTÖLTÖTT NAPOK": "6",
                                    "(No column name)": "6"
                                },
                                {
                                    "SZOBA_ID": "181",
                                    "FOGLALAS_PK": "1346",
                                    "ELTÖLTÖTT NAPOK": "6",
                                    "(No column name)": "5"
                                },
                                {
                                    "SZOBA_ID": "87",
                                    "FOGLALAS_PK": "1349",
                                    "ELTÖLTÖTT NAPOK": "5",
                                    "(No column name)": "5"
                                },
                                {
                                    "SZOBA_ID": "111",
                                    "FOGLALAS_PK": "1353",
                                    "ELTÖLTÖTT NAPOK": "5",
                                    "(No column name)": "4"
                                },
                                {
                                    "SZOBA_ID": "169",
                                    "FOGLALAS_PK": "1356",
                                    "ELTÖLTÖTT NAPOK": "4",
                                    "(No column name)": "4"
                                },
                                {
                                    "SZOBA_ID": "140",
                                    "FOGLALAS_PK": "1357",
                                    "ELTÖLTÖTT NAPOK": "4",
                                    "(No column name)": "2"
                                },
                                {
                                    "SZOBA_ID": "88",
                                    "FOGLALAS_PK": "1359",
                                    "ELTÖLTÖTT NAPOK": "2",
                                    "(No column name)": "2"
                                },
                                {
                                    "SZOBA_ID": "25",
                                    "FOGLALAS_PK": "1362",
                                    "ELTÖLTÖTT NAPOK": "2",
                                    "(No column name)": "3"
                                },
                                {
                                    "SZOBA_ID": "140",
                                    "FOGLALAS_PK": "1361",
                                    "ELTÖLTÖTT NAPOK": "3",
                                    "(No column name)": "1"
                                },
                                {
                                    "SZOBA_ID": "94",
                                    "FOGLALAS_PK": "1368",
                                    "ELTÖLTÖTT NAPOK": "1",
                                    "(No column name)": "1"
                                },
                                {
                                    "SZOBA_ID": "140",
                                    "FOGLALAS_PK": "1371",
                                    "ELTÖLTÖTT NAPOK": "1",
                                    "(No column name)": "3"
                                },
                                {
                                    "SZOBA_ID": "70",
                                    "FOGLALAS_PK": "1365",
                                    "ELTÖLTÖTT NAPOK": "3",
                                    "(No column name)": "7"
                                },
                                {
                                    "SZOBA_ID": "138",
                                    "FOGLALAS_PK": "1358",
                                    "ELTÖLTÖTT NAPOK": "7",
                                    "(No column name)": "6"
                                },
                                {
                                    "SZOBA_ID": "129",
                                    "FOGLALAS_PK": "1360",
                                    "ELTÖLTÖTT NAPOK": "6",
                                    "(No column name)": "1"
                                },
                                {
                                    "SZOBA_ID": "27",
                                    "FOGLALAS_PK": "1377",
                                    "ELTÖLTÖTT NAPOK": "1",
                                    "(No column name)": "3"
                                },
                                {
                                    "SZOBA_ID": "80",
                                    "FOGLALAS_PK": "1367",
                                    "ELTÖLTÖTT NAPOK": "3",
                                    "(No column name)": "5"
                                },
                                {
                                    "SZOBA_ID": "133",
                                    "FOGLALAS_PK": "1363",
                                    "ELTÖLTÖTT NAPOK": "5",
                                    "(No column name)": "6"
                                },
                                {
                                    "SZOBA_ID": "126",
                                    "FOGLALAS_PK": "1364",
                                    "ELTÖLTÖTT NAPOK": "6",
                                    "(No column name)": "5"
                                },
                                {
                                    "SZOBA_ID": "81",
                                    "FOGLALAS_PK": "1366",
                                    "ELTÖLTÖTT NAPOK": "5",
                                    "(No column name)": "3"
                                },
                                {
                                    "SZOBA_ID": "96",
                                    "FOGLALAS_PK": "1378",
                                    "ELTÖLTÖTT NAPOK": "3",
                                    "(No column name)": "4"
                                },
                                {
                                    "SZOBA_ID": "165",
                                    "FOGLALAS_PK": "1375",
                                    "ELTÖLTÖTT NAPOK": "4",
                                    "(No column name)": "5"
                                },
                                {
                                    "SZOBA_ID": "84",
                                    "FOGLALAS_PK": "1376",
                                    "ELTÖLTÖTT NAPOK": "5",
                                    "(No column name)": "5"
                                },
                                {
                                    "SZOBA_ID": "121",
                                    "FOGLALAS_PK": "1373",
                                    "ELTÖLTÖTT NAPOK": "5",
                                    "(No column name)": "5"
                                },
                                {
                                    "SZOBA_ID": "118",
                                    "FOGLALAS_PK": "1374",
                                    "ELTÖLTÖTT NAPOK": "5",
                                    "(No column name)": "5"
                                },
                                {
                                    "SZOBA_ID": "138",
                                    "FOGLALAS_PK": "1370",
                                    "ELTÖLTÖTT NAPOK": "5",
                                    "(No column name)": "6"
                                },
                                {
                                    "SZOBA_ID": "142",
                                    "FOGLALAS_PK": "1369",
                                    "ELTÖLTÖTT NAPOK": "6",
                                    "(No column name)": "1"
                                },
                                {
                                    "SZOBA_ID": "67",
                                    "FOGLALAS_PK": "1382",
                                    "ELTÖLTÖTT NAPOK": "1",
                                    "(No column name)": "7"
                                },
                                {
                                    "SZOBA_ID": "106",
                                    "FOGLALAS_PK": "1372",
                                    "ELTÖLTÖTT NAPOK": "7",
                                    "(No column name)": "5"
                                },
                                {
                                    "SZOBA_ID": "39",
                                    "FOGLALAS_PK": "1380",
                                    "ELTÖLTÖTT NAPOK": "5",
                                    "(No column name)": "4"
                                },
                                {
                                    "SZOBA_ID": "176",
                                    "FOGLALAS_PK": "1383",
                                    "ELTÖLTÖTT NAPOK": "4",
                                    "(No column name)": "7"
                                },
                                {
                                    "SZOBA_ID": "83",
                                    "FOGLALAS_PK": "1379",
                                    "ELTÖLTÖTT NAPOK": "7",
                                    "(No column name)": "2"
                                },
                                {
                                    "SZOBA_ID": "55",
                                    "FOGLALAS_PK": "1386",
                                    "ELTÖLTÖTT NAPOK": "2",
                                    "(No column name)": "1"
                                },
                                {
                                    "SZOBA_ID": "57",
                                    "FOGLALAS_PK": "1389",
                                    "ELTÖLTÖTT NAPOK": "1",
                                    "(No column name)": "1"
                                },
                                {
                                    "SZOBA_ID": "97",
                                    "FOGLALAS_PK": "1395",
                                    "ELTÖLTÖTT NAPOK": "1",
                                    "(No column name)": "1"
                                },
                                {
                                    "SZOBA_ID": "103",
                                    "FOGLALAS_PK": "1398",
                                    "ELTÖLTÖTT NAPOK": "1",
                                    "(No column name)": "1"
                                },
                                {
                                    "SZOBA_ID": "162",
                                    "FOGLALAS_PK": "1400",
                                    "ELTÖLTÖTT NAPOK": "1",
                                    "(No column name)": "3"
                                },
                                {
                                    "SZOBA_ID": "197",
                                    "FOGLALAS_PK": "1387",
                                    "ELTÖLTÖTT NAPOK": "3",
                                    "(No column name)": "3"
                                },
                                {
                                    "SZOBA_ID": "26",
                                    "FOGLALAS_PK": "1388",
                                    "ELTÖLTÖTT NAPOK": "3",
                                    "(No column name)": "6"
                                },
                                {
                                    "SZOBA_ID": "33",
                                    "FOGLALAS_PK": "1381",
                                    "ELTÖLTÖTT NAPOK": "6",
                                    "(No column name)": "5"
                                },
                                {
                                    "SZOBA_ID": "122",
                                    "FOGLALAS_PK": "1385",
                                    "ELTÖLTÖTT NAPOK": "5",
                                    "(No column name)": "2"
                                },
                                {
                                    "SZOBA_ID": "89",
                                    "FOGLALAS_PK": "1399",
                                    "ELTÖLTÖTT NAPOK": "2",
                                    "(No column name)": "3"
                                },
                                {
                                    "SZOBA_ID": "72",
                                    "FOGLALAS_PK": "1396",
                                    "ELTÖLTÖTT NAPOK": "3",
                                    "(No column name)": "3"
                                },
                                {
                                    "SZOBA_ID": "143",
                                    "FOGLALAS_PK": "1394",
                                    "ELTÖLTÖTT NAPOK": "3",
                                    "(No column name)": "4"
                                },
                                {
                                    "SZOBA_ID": "91",
                                    "FOGLALAS_PK": "1397",
                                    "ELTÖLTÖTT NAPOK": "4",
                                    "(No column name)": "4"
                                },
                                {
                                    "SZOBA_ID": "93",
                                    "FOGLALAS_PK": "1391",
                                    "ELTÖLTÖTT NAPOK": "4",
                                    "(No column name)": "7"
                                },
                                {
                                    "SZOBA_ID": "84",
                                    "FOGLALAS_PK": "1384",
                                    "ELTÖLTÖTT NAPOK": "7",
                                    "(No column name)": "5"
                                },
                                {
                                    "SZOBA_ID": "188",
                                    "FOGLALAS_PK": "1390",
                                    "ELTÖLTÖTT NAPOK": "5",
                                    "(No column name)": "2"
                                },
                                {
                                    "SZOBA_ID": "98",
                                    "FOGLALAS_PK": "1402",
                                    "ELTÖLTÖTT NAPOK": "2",
                                    "(No column name)": "1"
                                },
                                {
                                    "SZOBA_ID": "82",
                                    "FOGLALAS_PK": "1406",
                                    "ELTÖLTÖTT NAPOK": "1",
                                    "(No column name)": "2"
                                },
                                {
                                    "SZOBA_ID": "187",
                                    "FOGLALAS_PK": "1404",
                                    "ELTÖLTÖTT NAPOK": "2",
                                    "(No column name)": "6"
                                },
                                {
                                    "SZOBA_ID": "108",
                                    "FOGLALAS_PK": "1392",
                                    "ELTÖLTÖTT NAPOK": "6",
                                    "(No column name)": "6"
                                },
                                {
                                    "SZOBA_ID": "121",
                                    "FOGLALAS_PK": "1393",
                                    "ELTÖLTÖTT NAPOK": "6",
                                    "(No column name)": "-30"
                                },
                                {
                                    "SZOBA_ID": "99",
                                    "FOGLALAS_PK": "1408",
                                    "ELTÖLTÖTT NAPOK": "-30",
                                    "(No column name)": "1"
                                },
                                {
                                    "SZOBA_ID": "133",
                                    "FOGLALAS_PK": "1409",
                                    "ELTÖLTÖTT NAPOK": "1",
                                    "(No column name)": "1"
                                },
                                {
                                    "SZOBA_ID": "35",
                                    "FOGLALAS_PK": "1411",
                                    "ELTÖLTÖTT NAPOK": "1",
                                    "(No column name)": "-25"
                                },
                                {
                                    "SZOBA_ID": "141",
                                    "FOGLALAS_PK": "1401",
                                    "ELTÖLTÖTT NAPOK": "-25",
                                    "(No column name)": "2"
                                },
                                {
                                    "SZOBA_ID": "75",
                                    "FOGLALAS_PK": "1412",
                                    "ELTÖLTÖTT NAPOK": "2",
                                    "(No column name)": "-26"
                                },
                                {
                                    "SZOBA_ID": "90",
                                    "FOGLALAS_PK": "1405",
                                    "ELTÖLTÖTT NAPOK": "-26",
                                    "(No column name)": "-25"
                                },
                                {
                                    "SZOBA_ID": "124",
                                    "FOGLALAS_PK": "1403",
                                    "ELTÖLTÖTT NAPOK": "-25",
                                    "(No column name)": "3"
                                },
                                {
                                    "SZOBA_ID": "119",
                                    "FOGLALAS_PK": "1413",
                                    "ELTÖLTÖTT NAPOK": "3",
                                    "(No column name)": "3"
                                },
                                {
                                    "SZOBA_ID": "167",
                                    "FOGLALAS_PK": "1414",
                                    "ELTÖLTÖTT NAPOK": "3",
                                    "(No column name)": "4"
                                },
                                {
                                    "SZOBA_ID": "182",
                                    "FOGLALAS_PK": "1410",
                                    "ELTÖLTÖTT NAPOK": "4",
                                    "(No column name)": "3"
                                },
                                {
                                    "SZOBA_ID": "24",
                                    "FOGLALAS_PK": "1415",
                                    "ELTÖLTÖTT NAPOK": "3",
                                    "(No column name)": "-24"
                                },
                                {
                                    "SZOBA_ID": "175",
                                    "FOGLALAS_PK": "1407",
                                    "ELTÖLTÖTT NAPOK": "-24",
                                    "(No column name)": "5"
                                },
                                {
                                    "SZOBA_ID": "38",
                                    "FOGLALAS_PK": "1416",
                                    "ELTÖLTÖTT NAPOK": "5",
                                    "(No column name)": "4"
                                },
                                {
                                    "SZOBA_ID": "15",
                                    "FOGLALAS_PK": "1418",
                                    "ELTÖLTÖTT NAPOK": "4",
                                    "(No column name)": "3"
                                },
                                {
                                    "SZOBA_ID": "124",
                                    "FOGLALAS_PK": "1419",
                                    "ELTÖLTÖTT NAPOK": "3",
                                    "(No column name)": "1"
                                },
                                {
                                    "SZOBA_ID": "110",
                                    "FOGLALAS_PK": "1424",
                                    "ELTÖLTÖTT NAPOK": "1",
                                    "(No column name)": "3"
                                },
                                {
                                    "SZOBA_ID": "182",
                                    "FOGLALAS_PK": "1422",
                                    "ELTÖLTÖTT NAPOK": "3",
                                    "(No column name)": "3"
                                },
                                {
                                    "SZOBA_ID": "9",
                                    "FOGLALAS_PK": "1423",
                                    "ELTÖLTÖTT NAPOK": "3",
                                    "(No column name)": "5"
                                },
                                {
                                    "SZOBA_ID": "198",
                                    "FOGLALAS_PK": "1420",
                                    "ELTÖLTÖTT NAPOK": "5",
                                    "(No column name)": "5"
                                },
                                {
                                    "SZOBA_ID": "172",
                                    "FOGLALAS_PK": "1421",
                                    "ELTÖLTÖTT NAPOK": "5",
                                    "(No column name)": "7"
                                },
                                {
                                    "SZOBA_ID": "97",
                                    "FOGLALAS_PK": "1417",
                                    "ELTÖLTÖTT NAPOK": "7",
                                    "(No column name)": "2"
                                },
                                {
                                    "SZOBA_ID": "44",
                                    "FOGLALAS_PK": "1425",
                                    "ELTÖLTÖTT NAPOK": "2",
                                    "(No column name)": "1"
                                },
                                {
                                    "SZOBA_ID": "169",
                                    "FOGLALAS_PK": "1427",
                                    "ELTÖLTÖTT NAPOK": "1",
                                    "(No column name)": "2"
                                },
                                {
                                    "SZOBA_ID": "12",
                                    "FOGLALAS_PK": "1430",
                                    "ELTÖLTÖTT NAPOK": "2",
                                    "(No column name)": "4"
                                },
                                {
                                    "SZOBA_ID": "173",
                                    "FOGLALAS_PK": "1429",
                                    "ELTÖLTÖTT NAPOK": "4",
                                    "(No column name)": "4"
                                },
                                {
                                    "SZOBA_ID": "62",
                                    "FOGLALAS_PK": "1426",
                                    "ELTÖLTÖTT NAPOK": "4",
                                    "(No column name)": "3"
                                },
                                {
                                    "SZOBA_ID": "150",
                                    "FOGLALAS_PK": "1432",
                                    "ELTÖLTÖTT NAPOK": "3",
                                    "(No column name)": "1"
                                },
                                {
                                    "SZOBA_ID": "35",
                                    "FOGLALAS_PK": "1436",
                                    "ELTÖLTÖTT NAPOK": "1",
                                    "(No column name)": "5"
                                },
                                {
                                    "SZOBA_ID": "52",
                                    "FOGLALAS_PK": "1431",
                                    "ELTÖLTÖTT NAPOK": "5",
                                    "(No column name)": "7"
                                },
                                {
                                    "SZOBA_ID": "126",
                                    "FOGLALAS_PK": "1428",
                                    "ELTÖLTÖTT NAPOK": "7",
                                    "(No column name)": "2"
                                },
                                {
                                    "SZOBA_ID": "96",
                                    "FOGLALAS_PK": "1438",
                                    "ELTÖLTÖTT NAPOK": "2",
                                    "(No column name)": "4"
                                },
                                {
                                    "SZOBA_ID": "183",
                                    "FOGLALAS_PK": "1437",
                                    "ELTÖLTÖTT NAPOK": "4",
                                    "(No column name)": "6"
                                },
                                {
                                    "SZOBA_ID": "139",
                                    "FOGLALAS_PK": "1433",
                                    "ELTÖLTÖTT NAPOK": "6",
                                    "(No column name)": "5"
                                },
                                {
                                    "SZOBA_ID": "3",
                                    "FOGLALAS_PK": "1434",
                                    "ELTÖLTÖTT NAPOK": "5",
                                    "(No column name)": "3"
                                },
                                {
                                    "SZOBA_ID": "122",
                                    "FOGLALAS_PK": "1440",
                                    "ELTÖLTÖTT NAPOK": "3",
                                    "(No column name)": "1"
                                },
                                {
                                    "SZOBA_ID": "86",
                                    "FOGLALAS_PK": "1453",
                                    "ELTÖLTÖTT NAPOK": "1",
                                    "(No column name)": "1"
                                },
                                {
                                    "SZOBA_ID": "39",
                                    "FOGLALAS_PK": "1454",
                                    "ELTÖLTÖTT NAPOK": "1",
                                    "(No column name)": "2"
                                },
                                {
                                    "SZOBA_ID": "189",
                                    "FOGLALAS_PK": "1449",
                                    "ELTÖLTÖTT NAPOK": "2",
                                    "(No column name)": "3"
                                },
                                {
                                    "SZOBA_ID": "15",
                                    "FOGLALAS_PK": "1442",
                                    "ELTÖLTÖTT NAPOK": "3",
                                    "(No column name)": "7"
                                },
                                {
                                    "SZOBA_ID": "39",
                                    "FOGLALAS_PK": "1435",
                                    "ELTÖLTÖTT NAPOK": "7",
                                    "(No column name)": "4"
                                },
                                {
                                    "SZOBA_ID": "79",
                                    "FOGLALAS_PK": "1447",
                                    "ELTÖLTÖTT NAPOK": "4",
                                    "(No column name)": "2"
                                },
                                {
                                    "SZOBA_ID": "116",
                                    "FOGLALAS_PK": "1455",
                                    "ELTÖLTÖTT NAPOK": "2",
                                    "(No column name)": "1"
                                },
                                {
                                    "SZOBA_ID": "75",
                                    "FOGLALAS_PK": "1458",
                                    "ELTÖLTÖTT NAPOK": "1",
                                    "(No column name)": "6"
                                },
                                {
                                    "SZOBA_ID": "77",
                                    "FOGLALAS_PK": "1439",
                                    "ELTÖLTÖTT NAPOK": "6",
                                    "(No column name)": "2"
                                },
                                {
                                    "SZOBA_ID": "28",
                                    "FOGLALAS_PK": "1459",
                                    "ELTÖLTÖTT NAPOK": "2",
                                    "(No column name)": "6"
                                },
                                {
                                    "SZOBA_ID": "143",
                                    "FOGLALAS_PK": "1448",
                                    "ELTÖLTÖTT NAPOK": "6",
                                    "(No column name)": "6"
                                },
                                {
                                    "SZOBA_ID": "42",
                                    "FOGLALAS_PK": "1444",
                                    "ELTÖLTÖTT NAPOK": "6",
                                    "(No column name)": "6"
                                },
                                {
                                    "SZOBA_ID": "64",
                                    "FOGLALAS_PK": "1446",
                                    "ELTÖLTÖTT NAPOK": "6",
                                    "(No column name)": "7"
                                },
                                {
                                    "SZOBA_ID": "129",
                                    "FOGLALAS_PK": "1445",
                                    "ELTÖLTÖTT NAPOK": "7",
                                    "(No column name)": "7"
                                },
                                {
                                    "SZOBA_ID": "81",
                                    "FOGLALAS_PK": "1443",
                                    "ELTÖLTÖTT NAPOK": "7",
                                    "(No column name)": "7"
                                },
                                {
                                    "SZOBA_ID": "185",
                                    "FOGLALAS_PK": "1441",
                                    "ELTÖLTÖTT NAPOK": "7",
                                    "(No column name)": "6"
                                },
                                {
                                    "SZOBA_ID": "58",
                                    "FOGLALAS_PK": "1451",
                                    "ELTÖLTÖTT NAPOK": "6",
                                    "(No column name)": "6"
                                },
                                {
                                    "SZOBA_ID": "107",
                                    "FOGLALAS_PK": "1452",
                                    "ELTÖLTÖTT NAPOK": "6",
                                    "(No column name)": "7"
                                },
                                {
                                    "SZOBA_ID": "139",
                                    "FOGLALAS_PK": "1450",
                                    "ELTÖLTÖTT NAPOK": "7",
                                    "(No column name)": "5"
                                },
                                {
                                    "SZOBA_ID": "87",
                                    "FOGLALAS_PK": "1456",
                                    "ELTÖLTÖTT NAPOK": "5",
                                    "(No column name)": "3"
                                },
                                {
                                    "SZOBA_ID": "153",
                                    "FOGLALAS_PK": "1460",
                                    "ELTÖLTÖTT NAPOK": "3",
                                    "(No column name)": "1"
                                },
                                {
                                    "SZOBA_ID": "145",
                                    "FOGLALAS_PK": "1471",
                                    "ELTÖLTÖTT NAPOK": "1",
                                    "(No column name)": "2"
                                },
                                {
                                    "SZOBA_ID": "13",
                                    "FOGLALAS_PK": "1469",
                                    "ELTÖLTÖTT NAPOK": "2",
                                    "(No column name)": "3"
                                },
                                {
                                    "SZOBA_ID": "186",
                                    "FOGLALAS_PK": "1467",
                                    "ELTÖLTÖTT NAPOK": "3",
                                    "(No column name)": "4"
                                },
                                {
                                    "SZOBA_ID": "64",
                                    "FOGLALAS_PK": "1465",
                                    "ELTÖLTÖTT NAPOK": "4",
                                    "(No column name)": "4"
                                },
                                {
                                    "SZOBA_ID": "77",
                                    "FOGLALAS_PK": "1461",
                                    "ELTÖLTÖTT NAPOK": "4",
                                    "(No column name)": "7"
                                },
                                {
                                    "SZOBA_ID": "70",
                                    "FOGLALAS_PK": "1457",
                                    "ELTÖLTÖTT NAPOK": "7",
                                    "(No column name)": "5"
                                },
                                {
                                    "SZOBA_ID": "153",
                                    "FOGLALAS_PK": "1470",
                                    "ELTÖLTÖTT NAPOK": "5",
                                    "(No column name)": "1"
                                },
                                {
                                    "SZOBA_ID": "27",
                                    "FOGLALAS_PK": "1476",
                                    "ELTÖLTÖTT NAPOK": "1",
                                    "(No column name)": "7"
                                },
                                {
                                    "SZOBA_ID": "156",
                                    "FOGLALAS_PK": "1462",
                                    "ELTÖLTÖTT NAPOK": "7",
                                    "(No column name)": "7"
                                },
                                {
                                    "SZOBA_ID": "185",
                                    "FOGLALAS_PK": "1463",
                                    "ELTÖLTÖTT NAPOK": "7",
                                    "(No column name)": "7"
                                },
                                {
                                    "SZOBA_ID": "81",
                                    "FOGLALAS_PK": "1464",
                                    "ELTÖLTÖTT NAPOK": "7",
                                    "(No column name)": "7"
                                },
                                {
                                    "SZOBA_ID": "57",
                                    "FOGLALAS_PK": "1466",
                                    "ELTÖLTÖTT NAPOK": "7",
                                    "(No column name)": "7"
                                },
                                {
                                    "SZOBA_ID": "117",
                                    "FOGLALAS_PK": "1468",
                                    "ELTÖLTÖTT NAPOK": "7",
                                    "(No column name)": "5"
                                },
                                {
                                    "SZOBA_ID": "131",
                                    "FOGLALAS_PK": "1474",
                                    "ELTÖLTÖTT NAPOK": "5",
                                    "(No column name)": "6"
                                },
                                {
                                    "SZOBA_ID": "118",
                                    "FOGLALAS_PK": "1472",
                                    "ELTÖLTÖTT NAPOK": "6",
                                    "(No column name)": "7"
                                },
                                {
                                    "SZOBA_ID": "195",
                                    "FOGLALAS_PK": "1473",
                                    "ELTÖLTÖTT NAPOK": "7",
                                    "(No column name)": "1"
                                },
                                {
                                    "SZOBA_ID": "120",
                                    "FOGLALAS_PK": "1483",
                                    "ELTÖLTÖTT NAPOK": "1",
                                    "(No column name)": "1"
                                },
                                {
                                    "SZOBA_ID": "195",
                                    "FOGLALAS_PK": "1484",
                                    "ELTÖLTÖTT NAPOK": "1",
                                    "(No column name)": "-27"
                                },
                                {
                                    "SZOBA_ID": "38",
                                    "FOGLALAS_PK": "1478",
                                    "ELTÖLTÖTT NAPOK": "-27",
                                    "(No column name)": "-28"
                                },
                                {
                                    "SZOBA_ID": "118",
                                    "FOGLALAS_PK": "1481",
                                    "ELTÖLTÖTT NAPOK": "-28",
                                    "(No column name)": "-24"
                                },
                                {
                                    "SZOBA_ID": "130",
                                    "FOGLALAS_PK": "1475",
                                    "ELTÖLTÖTT NAPOK": "-24",
                                    "(No column name)": "-25"
                                },
                                {
                                    "SZOBA_ID": "51",
                                    "FOGLALAS_PK": "1477",
                                    "ELTÖLTÖTT NAPOK": "-25",
                                    "(No column name)": "-25"
                                },
                                {
                                    "SZOBA_ID": "146",
                                    "FOGLALAS_PK": "1479",
                                    "ELTÖLTÖTT NAPOK": "-25",
                                    "(No column name)": "-27"
                                },
                                {
                                    "SZOBA_ID": "103",
                                    "FOGLALAS_PK": "1485",
                                    "ELTÖLTÖTT NAPOK": "-27",
                                    "(No column name)": "-25"
                                },
                                {
                                    "SZOBA_ID": "35",
                                    "FOGLALAS_PK": "1480",
                                    "ELTÖLTÖTT NAPOK": "-25",
                                    "(No column name)": "1"
                                },
                                {
                                    "SZOBA_ID": "156",
                                    "FOGLALAS_PK": "1490",
                                    "ELTÖLTÖTT NAPOK": "1",
                                    "(No column name)": "3"
                                },
                                {
                                    "SZOBA_ID": "163",
                                    "FOGLALAS_PK": "1487",
                                    "ELTÖLTÖTT NAPOK": "3",
                                    "(No column name)": "3"
                                },
                                {
                                    "SZOBA_ID": "119",
                                    "FOGLALAS_PK": "1488",
                                    "ELTÖLTÖTT NAPOK": "3",
                                    "(No column name)": "2"
                                },
                                {
                                    "SZOBA_ID": "172",
                                    "FOGLALAS_PK": "1491",
                                    "ELTÖLTÖTT NAPOK": "2",
                                    "(No column name)": "-24"
                                },
                                {
                                    "SZOBA_ID": "100",
                                    "FOGLALAS_PK": "1482",
                                    "ELTÖLTÖTT NAPOK": "-24",
                                    "(No column name)": "-26"
                                },
                                {
                                    "SZOBA_ID": "99",
                                    "FOGLALAS_PK": "1486",
                                    "ELTÖLTÖTT NAPOK": "-26",
                                    "(No column name)": "1"
                                },
                                {
                                    "SZOBA_ID": "179",
                                    "FOGLALAS_PK": "1497",
                                    "ELTÖLTÖTT NAPOK": "1",
                                    "(No column name)": "2"
                                },
                                {
                                    "SZOBA_ID": "107",
                                    "FOGLALAS_PK": "1494",
                                    "ELTÖLTÖTT NAPOK": "2",
                                    "(No column name)": "2"
                                },
                                {
                                    "SZOBA_ID": "113",
                                    "FOGLALAS_PK": "1499",
                                    "ELTÖLTÖTT NAPOK": "2",
                                    "(No column name)": "2"
                                },
                                {
                                    "SZOBA_ID": "191",
                                    "FOGLALAS_PK": "1502",
                                    "ELTÖLTÖTT NAPOK": "2",
                                    "(No column name)": "3"
                                },
                                {
                                    "SZOBA_ID": "177",
                                    "FOGLALAS_PK": "1503",
                                    "ELTÖLTÖTT NAPOK": "3",
                                    "(No column name)": "6"
                                },
                                {
                                    "SZOBA_ID": "110",
                                    "FOGLALAS_PK": "1489",
                                    "ELTÖLTÖTT NAPOK": "6",
                                    "(No column name)": "6"
                                },
                                {
                                    "SZOBA_ID": "4",
                                    "FOGLALAS_PK": "1492",
                                    "ELTÖLTÖTT NAPOK": "6",
                                    "(No column name)": "4"
                                },
                                {
                                    "SZOBA_ID": "126",
                                    "FOGLALAS_PK": "1500",
                                    "ELTÖLTÖTT NAPOK": "4",
                                    "(No column name)": "4"
                                },
                                {
                                    "SZOBA_ID": "116",
                                    "FOGLALAS_PK": "1501",
                                    "ELTÖLTÖTT NAPOK": "4",
                                    "(No column name)": "1"
                                },
                                {
                                    "SZOBA_ID": "55",
                                    "FOGLALAS_PK": "1512",
                                    "ELTÖLTÖTT NAPOK": "1",
                                    "(No column name)": "3"
                                },
                                {
                                    "SZOBA_ID": "81",
                                    "FOGLALAS_PK": "1506",
                                    "ELTÖLTÖTT NAPOK": "3",
                                    "(No column name)": "3"
                                },
                                {
                                    "SZOBA_ID": "153",
                                    "FOGLALAS_PK": "1507",
                                    "ELTÖLTÖTT NAPOK": "3",
                                    "(No column name)": "2"
                                },
                                {
                                    "SZOBA_ID": "176",
                                    "FOGLALAS_PK": "1511",
                                    "ELTÖLTÖTT NAPOK": "2",
                                    "(No column name)": "4"
                                },
                                {
                                    "SZOBA_ID": "57",
                                    "FOGLALAS_PK": "1504",
                                    "ELTÖLTÖTT NAPOK": "4",
                                    "(No column name)": "7"
                                },
                                {
                                    "SZOBA_ID": "16",
                                    "FOGLALAS_PK": "1498",
                                    "ELTÖLTÖTT NAPOK": "7",
                                    "(No column name)": "7"
                                },
                                {
                                    "SZOBA_ID": "120",
                                    "FOGLALAS_PK": "1493",
                                    "ELTÖLTÖTT NAPOK": "7",
                                    "(No column name)": "7"
                                },
                                {
                                    "SZOBA_ID": "113",
                                    "FOGLALAS_PK": "1495",
                                    "ELTÖLTÖTT NAPOK": "7",
                                    "(No column name)": "7"
                                },
                                {
                                    "SZOBA_ID": "61",
                                    "FOGLALAS_PK": "1496",
                                    "ELTÖLTÖTT NAPOK": "7",
                                    "(No column name)": "6"
                                },
                                {
                                    "SZOBA_ID": "18",
                                    "FOGLALAS_PK": "1505",
                                    "ELTÖLTÖTT NAPOK": "6",
                                    "(No column name)": "1"
                                },
                                {
                                    "SZOBA_ID": "55",
                                    "FOGLALAS_PK": "1520",
                                    "ELTÖLTÖTT NAPOK": "1",
                                    "(No column name)": "1"
                                },
                                {
                                    "SZOBA_ID": "11",
                                    "FOGLALAS_PK": "1523",
                                    "ELTÖLTÖTT NAPOK": "1",
                                    "(No column name)": "1"
                                },
                                {
                                    "SZOBA_ID": "43",
                                    "FOGLALAS_PK": "1524",
                                    "ELTÖLTÖTT NAPOK": "1",
                                    "(No column name)": "2"
                                },
                                {
                                    "SZOBA_ID": "104",
                                    "FOGLALAS_PK": "1522",
                                    "ELTÖLTÖTT NAPOK": "2",
                                    "(No column name)": "2"
                                },
                                {
                                    "SZOBA_ID": "166",
                                    "FOGLALAS_PK": "1526",
                                    "ELTÖLTÖTT NAPOK": "2",
                                    "(No column name)": "2"
                                },
                                {
                                    "SZOBA_ID": "94",
                                    "FOGLALAS_PK": "1518",
                                    "ELTÖLTÖTT NAPOK": "2",
                                    "(No column name)": "2"
                                },
                                {
                                    "SZOBA_ID": "132",
                                    "FOGLALAS_PK": "1519",
                                    "ELTÖLTÖTT NAPOK": "2",
                                    "(No column name)": "5"
                                },
                                {
                                    "SZOBA_ID": "149",
                                    "FOGLALAS_PK": "1514",
                                    "ELTÖLTÖTT NAPOK": "5",
                                    "(No column name)": "4"
                                },
                                {
                                    "SZOBA_ID": "46",
                                    "FOGLALAS_PK": "1515",
                                    "ELTÖLTÖTT NAPOK": "4",
                                    "(No column name)": "4"
                                },
                                {
                                    "SZOBA_ID": "101",
                                    "FOGLALAS_PK": "1516",
                                    "ELTÖLTÖTT NAPOK": "4",
                                    "(No column name)": "6"
                                },
                                {
                                    "SZOBA_ID": "129",
                                    "FOGLALAS_PK": "1509",
                                    "ELTÖLTÖTT NAPOK": "6",
                                    "(No column name)": "6"
                                },
                                {
                                    "SZOBA_ID": "106",
                                    "FOGLALAS_PK": "1510",
                                    "ELTÖLTÖTT NAPOK": "6",
                                    "(No column name)": "7"
                                },
                                {
                                    "SZOBA_ID": "191",
                                    "FOGLALAS_PK": "1508",
                                    "ELTÖLTÖTT NAPOK": "7",
                                    "(No column name)": "2"
                                },
                                {
                                    "SZOBA_ID": "92",
                                    "FOGLALAS_PK": "1527",
                                    "ELTÖLTÖTT NAPOK": "2",
                                    "(No column name)": "2"
                                },
                                {
                                    "SZOBA_ID": "97",
                                    "FOGLALAS_PK": "1528",
                                    "ELTÖLTÖTT NAPOK": "2",
                                    "(No column name)": "1"
                                },
                                {
                                    "SZOBA_ID": "19",
                                    "FOGLALAS_PK": "1533",
                                    "ELTÖLTÖTT NAPOK": "1",
                                    "(No column name)": "5"
                                },
                                {
                                    "SZOBA_ID": "190",
                                    "FOGLALAS_PK": "1517",
                                    "ELTÖLTÖTT NAPOK": "5",
                                    "(No column name)": "7"
                                },
                                {
                                    "SZOBA_ID": "85",
                                    "FOGLALAS_PK": "1513",
                                    "ELTÖLTÖTT NAPOK": "7",
                                    "(No column name)": "4"
                                },
                                {
                                    "SZOBA_ID": "35",
                                    "FOGLALAS_PK": "1529",
                                    "ELTÖLTÖTT NAPOK": "4",
                                    "(No column name)": "3"
                                },
                                {
                                    "SZOBA_ID": "104",
                                    "FOGLALAS_PK": "1532",
                                    "ELTÖLTÖTT NAPOK": "3",
                                    "(No column name)": "5"
                                },
                                {
                                    "SZOBA_ID": "105",
                                    "FOGLALAS_PK": "1525",
                                    "ELTÖLTÖTT NAPOK": "5",
                                    "(No column name)": "1"
                                },
                                {
                                    "SZOBA_ID": "155",
                                    "FOGLALAS_PK": "1541",
                                    "ELTÖLTÖTT NAPOK": "1",
                                    "(No column name)": "2"
                                },
                                {
                                    "SZOBA_ID": "39",
                                    "FOGLALAS_PK": "1538",
                                    "ELTÖLTÖTT NAPOK": "2",
                                    "(No column name)": "2"
                                },
                                {
                                    "SZOBA_ID": "154",
                                    "FOGLALAS_PK": "1539",
                                    "ELTÖLTÖTT NAPOK": "2",
                                    "(No column name)": "3"
                                },
                                {
                                    "SZOBA_ID": "114",
                                    "FOGLALAS_PK": "1540",
                                    "ELTÖLTÖTT NAPOK": "3",
                                    "(No column name)": "5"
                                },
                                {
                                    "SZOBA_ID": "52",
                                    "FOGLALAS_PK": "1534",
                                    "ELTÖLTÖTT NAPOK": "5",
                                    "(No column name)": "3"
                                },
                                {
                                    "SZOBA_ID": "9",
                                    "FOGLALAS_PK": "1537",
                                    "ELTÖLTÖTT NAPOK": "3",
                                    "(No column name)": "1"
                                },
                                {
                                    "SZOBA_ID": "51",
                                    "FOGLALAS_PK": "1550",
                                    "ELTÖLTÖTT NAPOK": "1",
                                    "(No column name)": "6"
                                },
                                {
                                    "SZOBA_ID": "112",
                                    "FOGLALAS_PK": "1530",
                                    "ELTÖLTÖTT NAPOK": "6",
                                    "(No column name)": "6"
                                },
                                {
                                    "SZOBA_ID": "124",
                                    "FOGLALAS_PK": "1531",
                                    "ELTÖLTÖTT NAPOK": "6",
                                    "(No column name)": "7"
                                },
                                {
                                    "SZOBA_ID": "89",
                                    "FOGLALAS_PK": "1521",
                                    "ELTÖLTÖTT NAPOK": "7",
                                    "(No column name)": "1"
                                },
                                {
                                    "SZOBA_ID": "48",
                                    "FOGLALAS_PK": "1547",
                                    "ELTÖLTÖTT NAPOK": "1",
                                    "(No column name)": "3"
                                },
                                {
                                    "SZOBA_ID": "142",
                                    "FOGLALAS_PK": "1545",
                                    "ELTÖLTÖTT NAPOK": "3",
                                    "(No column name)": "3"
                                },
                                {
                                    "SZOBA_ID": "48",
                                    "FOGLALAS_PK": "1546",
                                    "ELTÖLTÖTT NAPOK": "3",
                                    "(No column name)": "4"
                                },
                                {
                                    "SZOBA_ID": "14",
                                    "FOGLALAS_PK": "1542",
                                    "ELTÖLTÖTT NAPOK": "4",
                                    "(No column name)": "5"
                                },
                                {
                                    "SZOBA_ID": "3",
                                    "FOGLALAS_PK": "1544",
                                    "ELTÖLTÖTT NAPOK": "5",
                                    "(No column name)": "3"
                                },
                                {
                                    "SZOBA_ID": "17",
                                    "FOGLALAS_PK": "1549",
                                    "ELTÖLTÖTT NAPOK": "3",
                                    "(No column name)": "3"
                                },
                                {
                                    "SZOBA_ID": "157",
                                    "FOGLALAS_PK": "1551",
                                    "ELTÖLTÖTT NAPOK": "3",
                                    "(No column name)": "2"
                                },
                                {
                                    "SZOBA_ID": "44",
                                    "FOGLALAS_PK": "1552",
                                    "ELTÖLTÖTT NAPOK": "2",
                                    "(No column name)": "7"
                                },
                                {
                                    "SZOBA_ID": "134",
                                    "FOGLALAS_PK": "1535",
                                    "ELTÖLTÖTT NAPOK": "7",
                                    "(No column name)": "6"
                                },
                                {
                                    "SZOBA_ID": "49",
                                    "FOGLALAS_PK": "1536",
                                    "ELTÖLTÖTT NAPOK": "6",
                                    "(No column name)": "7"
                                },
                                {
                                    "SZOBA_ID": "95",
                                    "FOGLALAS_PK": "1543",
                                    "ELTÖLTÖTT NAPOK": "7",
                                    "(No column name)": "2"
                                },
                                {
                                    "SZOBA_ID": "152",
                                    "FOGLALAS_PK": "1558",
                                    "ELTÖLTÖTT NAPOK": "2",
                                    "(No column name)": "3"
                                },
                                {
                                    "SZOBA_ID": "115",
                                    "FOGLALAS_PK": "1554",
                                    "ELTÖLTÖTT NAPOK": "3",
                                    "(No column name)": "4"
                                },
                                {
                                    "SZOBA_ID": "92",
                                    "FOGLALAS_PK": "1555",
                                    "ELTÖLTÖTT NAPOK": "4",
                                    "(No column name)": "3"
                                },
                                {
                                    "SZOBA_ID": "76",
                                    "FOGLALAS_PK": "1557",
                                    "ELTÖLTÖTT NAPOK": "3",
                                    "(No column name)": "1"
                                },
                                {
                                    "SZOBA_ID": "109",
                                    "FOGLALAS_PK": "1560",
                                    "ELTÖLTÖTT NAPOK": "1",
                                    "(No column name)": "1"
                                },
                                {
                                    "SZOBA_ID": "115",
                                    "FOGLALAS_PK": "1566",
                                    "ELTÖLTÖTT NAPOK": "1",
                                    "(No column name)": "3"
                                },
                                {
                                    "SZOBA_ID": "180",
                                    "FOGLALAS_PK": "1559",
                                    "ELTÖLTÖTT NAPOK": "3",
                                    "(No column name)": "7"
                                },
                                {
                                    "SZOBA_ID": "88",
                                    "FOGLALAS_PK": "1548",
                                    "ELTÖLTÖTT NAPOK": "7",
                                    "(No column name)": "5"
                                },
                                {
                                    "SZOBA_ID": "43",
                                    "FOGLALAS_PK": "1553",
                                    "ELTÖLTÖTT NAPOK": "5",
                                    "(No column name)": "3"
                                },
                                {
                                    "SZOBA_ID": "81",
                                    "FOGLALAS_PK": "1562",
                                    "ELTÖLTÖTT NAPOK": "3",
                                    "(No column name)": "3"
                                },
                                {
                                    "SZOBA_ID": "160",
                                    "FOGLALAS_PK": "1565",
                                    "ELTÖLTÖTT NAPOK": "3",
                                    "(No column name)": "2"
                                },
                                {
                                    "SZOBA_ID": "144",
                                    "FOGLALAS_PK": "1572",
                                    "ELTÖLTÖTT NAPOK": "2",
                                    "(No column name)": "1"
                                },
                                {
                                    "SZOBA_ID": "59",
                                    "FOGLALAS_PK": "1573",
                                    "ELTÖLTÖTT NAPOK": "1",
                                    "(No column name)": "1"
                                },
                                {
                                    "SZOBA_ID": "128",
                                    "FOGLALAS_PK": "1574",
                                    "ELTÖLTÖTT NAPOK": "1",
                                    "(No column name)": "3"
                                },
                                {
                                    "SZOBA_ID": "176",
                                    "FOGLALAS_PK": "1570",
                                    "ELTÖLTÖTT NAPOK": "3",
                                    "(No column name)": "4"
                                },
                                {
                                    "SZOBA_ID": "156",
                                    "FOGLALAS_PK": "1561",
                                    "ELTÖLTÖTT NAPOK": "4",
                                    "(No column name)": "6"
                                },
                                {
                                    "SZOBA_ID": "38",
                                    "FOGLALAS_PK": "1556",
                                    "ELTÖLTÖTT NAPOK": "6",
                                    "(No column name)": "-22"
                                },
                                {
                                    "SZOBA_ID": "180",
                                    "FOGLALAS_PK": "1563",
                                    "ELTÖLTÖTT NAPOK": "-22",
                                    "(No column name)": "-24"
                                },
                                {
                                    "SZOBA_ID": "161",
                                    "FOGLALAS_PK": "1571",
                                    "ELTÖLTÖTT NAPOK": "-24",
                                    "(No column name)": "-25"
                                },
                                {
                                    "SZOBA_ID": "189",
                                    "FOGLALAS_PK": "1576",
                                    "ELTÖLTÖTT NAPOK": "-25",
                                    "(No column name)": "-21"
                                },
                                {
                                    "SZOBA_ID": "94",
                                    "FOGLALAS_PK": "1564",
                                    "ELTÖLTÖTT NAPOK": "-21",
                                    "(No column name)": "-22"
                                },
                                {
                                    "SZOBA_ID": "171",
                                    "FOGLALAS_PK": "1567",
                                    "ELTÖLTÖTT NAPOK": "-22",
                                    "(No column name)": "-21"
                                },
                                {
                                    "SZOBA_ID": "29",
                                    "FOGLALAS_PK": "1568",
                                    "ELTÖLTÖTT NAPOK": "-21",
                                    "(No column name)": "-21"
                                },
                                {
                                    "SZOBA_ID": "96",
                                    "FOGLALAS_PK": "1569",
                                    "ELTÖLTÖTT NAPOK": "-21",
                                    "(No column name)": "1"
                                },
                                {
                                    "SZOBA_ID": "64",
                                    "FOGLALAS_PK": "1582",
                                    "ELTÖLTÖTT NAPOK": "1",
                                    "(No column name)": "1"
                                },
                                {
                                    "SZOBA_ID": "67",
                                    "FOGLALAS_PK": "1584",
                                    "ELTÖLTÖTT NAPOK": "1",
                                    "(No column name)": "-22"
                                },
                                {
                                    "SZOBA_ID": "88",
                                    "FOGLALAS_PK": "1575",
                                    "ELTÖLTÖTT NAPOK": "-22",
                                    "(No column name)": "-23"
                                },
                                {
                                    "SZOBA_ID": "127",
                                    "FOGLALAS_PK": "1579",
                                    "ELTÖLTÖTT NAPOK": "-23",
                                    "(No column name)": "5"
                                },
                                {
                                    "SZOBA_ID": "67",
                                    "FOGLALAS_PK": "1580",
                                    "ELTÖLTÖTT NAPOK": "5",
                                    "(No column name)": "5"
                                },
                                {
                                    "SZOBA_ID": "48",
                                    "FOGLALAS_PK": "1581",
                                    "ELTÖLTÖTT NAPOK": "5",
                                    "(No column name)": "-21"
                                },
                                {
                                    "SZOBA_ID": "78",
                                    "FOGLALAS_PK": "1577",
                                    "ELTÖLTÖTT NAPOK": "-21",
                                    "(No column name)": "-21"
                                },
                                {
                                    "SZOBA_ID": "148",
                                    "FOGLALAS_PK": "1578",
                                    "ELTÖLTÖTT NAPOK": "-21",
                                    "(No column name)": "4"
                                },
                                {
                                    "SZOBA_ID": "128",
                                    "FOGLALAS_PK": "1583",
                                    "ELTÖLTÖTT NAPOK": "4",
                                    "(No column name)": "NULL"
                                }
                            ]
                        },
                        "text/html": "<table><tr><th>SZOBA_ID</th><th>FOGLALAS_PK</th><th>ELTÖLTÖTT NAPOK</th><th>(No column name)</th></tr><tr><td>131</td><td>559</td><td>2</td><td>4</td></tr><tr><td>42</td><td>561</td><td>4</td><td>4</td></tr><tr><td>7</td><td>562</td><td>4</td><td>2</td></tr><tr><td>5</td><td>564</td><td>2</td><td>4</td></tr><tr><td>87</td><td>558</td><td>4</td><td>1</td></tr><tr><td>78</td><td>568</td><td>1</td><td>1</td></tr><tr><td>155</td><td>575</td><td>1</td><td>1</td></tr><tr><td>125</td><td>576</td><td>1</td><td>2</td></tr><tr><td>182</td><td>571</td><td>2</td><td>5</td></tr><tr><td>68</td><td>563</td><td>5</td><td>6</td></tr><tr><td>6</td><td>560</td><td>6</td><td>2</td></tr><tr><td>171</td><td>574</td><td>2</td><td>3</td></tr><tr><td>10</td><td>569</td><td>3</td><td>6</td></tr><tr><td>141</td><td>565</td><td>6</td><td>6</td></tr><tr><td>21</td><td>566</td><td>6</td><td>3</td></tr><tr><td>155</td><td>577</td><td>3</td><td>5</td></tr><tr><td>169</td><td>573</td><td>5</td><td>2</td></tr><tr><td>139</td><td>579</td><td>2</td><td>3</td></tr><tr><td>130</td><td>580</td><td>3</td><td>7</td></tr><tr><td>164</td><td>570</td><td>7</td><td>7</td></tr><tr><td>83</td><td>572</td><td>7</td><td>7</td></tr><tr><td>170</td><td>567</td><td>7</td><td>6</td></tr><tr><td>185</td><td>578</td><td>6</td><td>4</td></tr><tr><td>144</td><td>581</td><td>4</td><td>3</td></tr><tr><td>137</td><td>582</td><td>3</td><td>2</td></tr><tr><td>136</td><td>584</td><td>2</td><td>2</td></tr><tr><td>44</td><td>589</td><td>2</td><td>1</td></tr><tr><td>149</td><td>591</td><td>1</td><td>5</td></tr><tr><td>70</td><td>585</td><td>5</td><td>6</td></tr><tr><td>79</td><td>583</td><td>6</td><td>6</td></tr><tr><td>107</td><td>586</td><td>6</td><td>5</td></tr><tr><td>42</td><td>590</td><td>5</td><td>3</td></tr><tr><td>77</td><td>593</td><td>3</td><td>1</td></tr><tr><td>100</td><td>597</td><td>1</td><td>3</td></tr><tr><td>153</td><td>594</td><td>3</td><td>7</td></tr><tr><td>123</td><td>587</td><td>7</td><td>7</td></tr><tr><td>156</td><td>588</td><td>7</td><td>2</td></tr><tr><td>31</td><td>598</td><td>2</td><td>5</td></tr><tr><td>176</td><td>592</td><td>5</td><td>4</td></tr><tr><td>162</td><td>599</td><td>4</td><td>1</td></tr><tr><td>31</td><td>606</td><td>1</td><td>3</td></tr><tr><td>48</td><td>603</td><td>3</td><td>2</td></tr><tr><td>30</td><td>604</td><td>2</td><td>7</td></tr><tr><td>74</td><td>595</td><td>7</td><td>7</td></tr><tr><td>115</td><td>596</td><td>7</td><td>2</td></tr><tr><td>184</td><td>608</td><td>2</td><td>-28</td></tr><tr><td>9</td><td>609</td><td>-28</td><td>-23</td></tr><tr><td>190</td><td>600</td><td>-23</td><td>-24</td></tr><tr><td>39</td><td>601</td><td>-24</td><td>-24</td></tr><tr><td>17</td><td>602</td><td>-24</td><td>-26</td></tr><tr><td>96</td><td>607</td><td>-26</td><td>2</td></tr><tr><td>117</td><td>612</td><td>2</td><td>-27</td></tr><tr><td>106</td><td>610</td><td>-27</td><td>3</td></tr><tr><td>130</td><td>613</td><td>3</td><td>-23</td></tr><tr><td>111</td><td>605</td><td>-23</td><td>3</td></tr><tr><td>186</td><td>615</td><td>3</td><td>1</td></tr><tr><td>105</td><td>618</td><td>1</td><td>3</td></tr><tr><td>117</td><td>617</td><td>3</td><td>4</td></tr><tr><td>109</td><td>614</td><td>4</td><td>5</td></tr><tr><td>29</td><td>611</td><td>5</td><td>4</td></tr><tr><td>94</td><td>616</td><td>4</td><td>5</td></tr><tr><td>1</td><td>620</td><td>5</td><td>1</td></tr><tr><td>99</td><td>632</td><td>1</td><td>7</td></tr><tr><td>132</td><td>619</td><td>7</td><td>3</td></tr><tr><td>63</td><td>625</td><td>3</td><td>3</td></tr><tr><td>18</td><td>626</td><td>3</td><td>2</td></tr><tr><td>48</td><td>628</td><td>2</td><td>2</td></tr><tr><td>163</td><td>630</td><td>2</td><td>4</td></tr><tr><td>3</td><td>629</td><td>4</td><td>7</td></tr><tr><td>109</td><td>621</td><td>7</td><td>3</td></tr><tr><td>97</td><td>635</td><td>3</td><td>6</td></tr><tr><td>33</td><td>624</td><td>6</td><td>7</td></tr><tr><td>54</td><td>622</td><td>7</td><td>6</td></tr><tr><td>38</td><td>627</td><td>6</td><td>6</td></tr><tr><td>98</td><td>631</td><td>6</td><td>7</td></tr><tr><td>96</td><td>623</td><td>7</td><td>6</td></tr><tr><td>187</td><td>633</td><td>6</td><td>6</td></tr><tr><td>193</td><td>634</td><td>6</td><td>3</td></tr><tr><td>165</td><td>640</td><td>3</td><td>3</td></tr><tr><td>150</td><td>641</td><td>3</td><td>2</td></tr><tr><td>127</td><td>643</td><td>2</td><td>4</td></tr><tr><td>161</td><td>639</td><td>4</td><td>6</td></tr><tr><td>91</td><td>636</td><td>6</td><td>5</td></tr><tr><td>100</td><td>637</td><td>5</td><td>5</td></tr><tr><td>67</td><td>638</td><td>5</td><td>3</td></tr><tr><td>78</td><td>646</td><td>3</td><td>3</td></tr><tr><td>85</td><td>647</td><td>3</td><td>5</td></tr><tr><td>54</td><td>642</td><td>5</td><td>1</td></tr><tr><td>149</td><td>652</td><td>1</td><td>1</td></tr><tr><td>131</td><td>655</td><td>1</td><td>6</td></tr><tr><td>67</td><td>645</td><td>6</td><td>4</td></tr><tr><td>157</td><td>648</td><td>4</td><td>7</td></tr><tr><td>166</td><td>644</td><td>7</td><td>5</td></tr><tr><td>137</td><td>649</td><td>5</td><td>6</td></tr><tr><td>65</td><td>650</td><td>6</td><td>5</td></tr><tr><td>109</td><td>654</td><td>5</td><td>2</td></tr><tr><td>179</td><td>662</td><td>2</td><td>1</td></tr><tr><td>14</td><td>663</td><td>1</td><td>7</td></tr><tr><td>4</td><td>651</td><td>7</td><td>7</td></tr><tr><td>161</td><td>653</td><td>7</td><td>1</td></tr><tr><td>53</td><td>855</td><td>1</td><td>2</td></tr><tr><td>24</td><td>852</td><td>2</td><td>7</td></tr><tr><td>95</td><td>656</td><td>7</td><td>6</td></tr><tr><td>137</td><td>657</td><td>6</td><td>5</td></tr><tr><td>21</td><td>660</td><td>5</td><td>5</td></tr><tr><td>136</td><td>661</td><td>5</td><td>6</td></tr><tr><td>44</td><td>658</td><td>6</td><td>6</td></tr><tr><td>169</td><td>659</td><td>6</td><td>1</td></tr><tr><td>86</td><td>859</td><td>1</td><td>1</td></tr><tr><td>124</td><td>861</td><td>1</td><td>2</td></tr><tr><td>70</td><td>860</td><td>2</td><td>5</td></tr><tr><td>127</td><td>853</td><td>5</td><td>7</td></tr><tr><td>42</td><td>851</td><td>7</td><td>6</td></tr><tr><td>16</td><td>856</td><td>6</td><td>5</td></tr><tr><td>165</td><td>857</td><td>5</td><td>5</td></tr><tr><td>121</td><td>858</td><td>5</td><td>2</td></tr><tr><td>88</td><td>866</td><td>2</td><td>1</td></tr><tr><td>8</td><td>882</td><td>1</td><td>7</td></tr><tr><td>167</td><td>854</td><td>7</td><td>4</td></tr><tr><td>82</td><td>862</td><td>4</td><td>-27</td></tr><tr><td>185</td><td>863</td><td>-27</td><td>-27</td></tr><tr><td>187</td><td>868</td><td>-27</td><td>-29</td></tr><tr><td>127</td><td>879</td><td>-29</td><td>-30</td></tr><tr><td>69</td><td>885</td><td>-30</td><td>-28</td></tr><tr><td>6</td><td>873</td><td>-28</td><td>-29</td></tr><tr><td>64</td><td>875</td><td>-29</td><td>-27</td></tr><tr><td>74</td><td>877</td><td>-27</td><td>-25</td></tr><tr><td>175</td><td>867</td><td>-25</td><td>-27</td></tr><tr><td>184</td><td>880</td><td>-27</td><td>-25</td></tr><tr><td>83</td><td>869</td><td>-25</td><td>-25</td></tr><tr><td>34</td><td>870</td><td>-25</td><td>-26</td></tr><tr><td>82</td><td>871</td><td>-26</td><td>-26</td></tr><tr><td>28</td><td>872</td><td>-26</td><td>-25</td></tr><tr><td>118</td><td>864</td><td>-25</td><td>-24</td></tr><tr><td>51</td><td>865</td><td>-24</td><td>-26</td></tr><tr><td>58</td><td>883</td><td>-26</td><td>-26</td></tr><tr><td>98</td><td>884</td><td>-26</td><td>2</td></tr><tr><td>54</td><td>889</td><td>2</td><td>1</td></tr><tr><td>29</td><td>894</td><td>1</td><td>1</td></tr><tr><td>16</td><td>896</td><td>1</td><td>3</td></tr><tr><td>146</td><td>890</td><td>3</td><td>1</td></tr><tr><td>22</td><td>906</td><td>1</td><td>-25</td></tr><tr><td>131</td><td>881</td><td>-25</td><td>4</td></tr><tr><td>28</td><td>886</td><td>4</td><td>-25</td></tr><tr><td>67</td><td>874</td><td>-25</td><td>-25</td></tr><tr><td>83</td><td>878</td><td>-25</td><td>-24</td></tr><tr><td>12</td><td>876</td><td>-24</td><td>2</td></tr><tr><td>34</td><td>904</td><td>2</td><td>3</td></tr><tr><td>165</td><td>892</td><td>3</td><td>3</td></tr><tr><td>151</td><td>893</td><td>3</td><td>4</td></tr><tr><td>185</td><td>898</td><td>4</td><td>2</td></tr><tr><td>141</td><td>908</td><td>2</td><td>1</td></tr><tr><td>188</td><td>912</td><td>1</td><td>1</td></tr><tr><td>173</td><td>913</td><td>1</td><td>1</td></tr><tr><td>36</td><td>919</td><td>1</td><td>1</td></tr><tr><td>112</td><td>921</td><td>1</td><td>6</td></tr><tr><td>80</td><td>887</td><td>6</td><td>2</td></tr><tr><td>160</td><td>922</td><td>2</td><td>2</td></tr><tr><td>130</td><td>910</td><td>2</td><td>2</td></tr><tr><td>140</td><td>915</td><td>2</td><td>2</td></tr><tr><td>17</td><td>916</td><td>2</td><td>2</td></tr><tr><td>174</td><td>917</td><td>2</td><td>4</td></tr><tr><td>28</td><td>901</td><td>4</td><td>3</td></tr><tr><td>156</td><td>907</td><td>3</td><td>6</td></tr><tr><td>63</td><td>891</td><td>6</td><td>5</td></tr><tr><td>36</td><td>895</td><td>5</td><td>1</td></tr><tr><td>193</td><td>926</td><td>1</td><td>1</td></tr><tr><td>23</td><td>934</td><td>1</td><td>2</td></tr><tr><td>182</td><td>928</td><td>2</td><td>2</td></tr><tr><td>80</td><td>929</td><td>2</td><td>6</td></tr><tr><td>165</td><td>897</td><td>6</td><td>5</td></tr><tr><td>180</td><td>905</td><td>5</td><td>5</td></tr><tr><td>72</td><td>902</td><td>5</td><td>6</td></tr><tr><td>39</td><td>899</td><td>6</td><td>6</td></tr><tr><td>165</td><td>900</td><td>6</td><td>7</td></tr><tr><td>49</td><td>888</td><td>7</td><td>4</td></tr><tr><td>161</td><td>911</td><td>4</td><td>4</td></tr><tr><td>133</td><td>909</td><td>4</td><td>4</td></tr><tr><td>32</td><td>920</td><td>4</td><td>3</td></tr><tr><td>168</td><td>930</td><td>3</td><td>1</td></tr><tr><td>62</td><td>938</td><td>1</td><td>3</td></tr><tr><td>62</td><td>936</td><td>3</td><td>3</td></tr><tr><td>181</td><td>937</td><td>3</td><td>1</td></tr><tr><td>163</td><td>941</td><td>1</td><td>4</td></tr><tr><td>160</td><td>927</td><td>4</td><td>4</td></tr><tr><td>160</td><td>933</td><td>4</td><td>1</td></tr><tr><td>1</td><td>949</td><td>1</td><td>5</td></tr><tr><td>48</td><td>914</td><td>5</td><td>4</td></tr><tr><td>123</td><td>923</td><td>4</td><td>7</td></tr><tr><td>192</td><td>903</td><td>7</td><td>5</td></tr><tr><td>40</td><td>924</td><td>5</td><td>6</td></tr><tr><td>11</td><td>918</td><td>6</td><td>2</td></tr><tr><td>19</td><td>948</td><td>2</td><td>4</td></tr><tr><td>56</td><td>935</td><td>4</td><td>5</td></tr><tr><td>110</td><td>931</td><td>5</td><td>6</td></tr><tr><td>40</td><td>932</td><td>6</td><td>4</td></tr><tr><td>183</td><td>939</td><td>4</td><td>3</td></tr><tr><td>8</td><td>947</td><td>3</td><td>3</td></tr><tr><td>66</td><td>950</td><td>3</td><td>6</td></tr><tr><td>185</td><td>925</td><td>6</td><td>3</td></tr><tr><td>12</td><td>951</td><td>3</td><td>3</td></tr><tr><td>196</td><td>952</td><td>3</td><td>1</td></tr><tr><td>47</td><td>955</td><td>1</td><td>5</td></tr><tr><td>74</td><td>940</td><td>5</td><td>4</td></tr><tr><td>170</td><td>944</td><td>4</td><td>5</td></tr><tr><td>4</td><td>946</td><td>5</td><td>6</td></tr><tr><td>92</td><td>942</td><td>6</td><td>7</td></tr><tr><td>115</td><td>943</td><td>7</td><td>7</td></tr><tr><td>23</td><td>945</td><td>7</td><td>5</td></tr><tr><td>117</td><td>953</td><td>5</td><td>1</td></tr><tr><td>74</td><td>963</td><td>1</td><td>4</td></tr><tr><td>187</td><td>957</td><td>4</td><td>1</td></tr><tr><td>154</td><td>968</td><td>1</td><td>5</td></tr><tr><td>181</td><td>958</td><td>5</td><td>5</td></tr><tr><td>84</td><td>954</td><td>5</td><td>6</td></tr><tr><td>156</td><td>956</td><td>6</td><td>2</td></tr><tr><td>12</td><td>970</td><td>2</td><td>4</td></tr><tr><td>117</td><td>962</td><td>4</td><td>3</td></tr><tr><td>35</td><td>971</td><td>3</td><td>2</td></tr><tr><td>103</td><td>972</td><td>2</td><td>1</td></tr><tr><td>16</td><td>973</td><td>1</td><td>1</td></tr><tr><td>169</td><td>974</td><td>1</td><td>5</td></tr><tr><td>123</td><td>967</td><td>5</td><td>7</td></tr><tr><td>111</td><td>959</td><td>7</td><td>6</td></tr><tr><td>41</td><td>960</td><td>6</td><td>6</td></tr><tr><td>72</td><td>961</td><td>6</td><td>6</td></tr><tr><td>110</td><td>964</td><td>6</td><td>6</td></tr><tr><td>114</td><td>966</td><td>6</td><td>6</td></tr><tr><td>153</td><td>969</td><td>6</td><td>1</td></tr><tr><td>198</td><td>978</td><td>1</td><td>7</td></tr><tr><td>5</td><td>965</td><td>7</td><td>2</td></tr><tr><td>76</td><td>976</td><td>2</td><td>2</td></tr><tr><td>193</td><td>977</td><td>2</td><td>3</td></tr><tr><td>143</td><td>980</td><td>3</td><td>3</td></tr><tr><td>77</td><td>982</td><td>3</td><td>5</td></tr><tr><td>94</td><td>975</td><td>5</td><td>4</td></tr><tr><td>171</td><td>981</td><td>4</td><td>4</td></tr><tr><td>172</td><td>984</td><td>4</td><td>1</td></tr><tr><td>190</td><td>989</td><td>1</td><td>6</td></tr><tr><td>80</td><td>983</td><td>6</td><td>7</td></tr><tr><td>35</td><td>979</td><td>7</td><td>6</td></tr><tr><td>36</td><td>985</td><td>6</td><td>5</td></tr><tr><td>48</td><td>986</td><td>5</td><td>4</td></tr><tr><td>53</td><td>987</td><td>4</td><td>3</td></tr><tr><td>133</td><td>988</td><td>3</td><td>-26</td></tr><tr><td>6</td><td>990</td><td>-26</td><td>3</td></tr><tr><td>118</td><td>996</td><td>3</td><td>3</td></tr><tr><td>120</td><td>998</td><td>3</td><td>1</td></tr><tr><td>117</td><td>1002</td><td>1</td><td>1</td></tr><tr><td>71</td><td>1009</td><td>1</td><td>4</td></tr><tr><td>73</td><td>1000</td><td>4</td><td>-25</td></tr><tr><td>83</td><td>995</td><td>-25</td><td>-23</td></tr><tr><td>178</td><td>991</td><td>-23</td><td>-23</td></tr><tr><td>103</td><td>992</td><td>-23</td><td>2</td></tr><tr><td>164</td><td>1010</td><td>2</td><td>3</td></tr><tr><td>22</td><td>1005</td><td>3</td><td>3</td></tr><tr><td>70</td><td>1006</td><td>3</td><td>2</td></tr><tr><td>122</td><td>1007</td><td>2</td><td>4</td></tr><tr><td>36</td><td>1003</td><td>4</td><td>1</td></tr><tr><td>137</td><td>1014</td><td>1</td><td>-23</td></tr><tr><td>197</td><td>993</td><td>-23</td><td>-23</td></tr><tr><td>118</td><td>994</td><td>-23</td><td>6</td></tr><tr><td>82</td><td>997</td><td>6</td><td>6</td></tr><tr><td>132</td><td>999</td><td>6</td><td>5</td></tr><tr><td>134</td><td>1004</td><td>5</td><td>2</td></tr><tr><td>92</td><td>1016</td><td>2</td><td>1</td></tr><tr><td>190</td><td>1017</td><td>1</td><td>7</td></tr><tr><td>4</td><td>1001</td><td>7</td><td>6</td></tr><tr><td>182</td><td>1008</td><td>6</td><td>1</td></tr><tr><td>179</td><td>1021</td><td>1</td><td>1</td></tr><tr><td>181</td><td>1022</td><td>1</td><td>5</td></tr><tr><td>75</td><td>1013</td><td>5</td><td>7</td></tr><tr><td>198</td><td>1011</td><td>7</td><td>5</td></tr><tr><td>174</td><td>1015</td><td>5</td><td>4</td></tr><tr><td>43</td><td>1019</td><td>4</td><td>7</td></tr><tr><td>33</td><td>1012</td><td>7</td><td>1</td></tr><tr><td>134</td><td>1024</td><td>1</td><td>5</td></tr><tr><td>40</td><td>1018</td><td>5</td><td>5</td></tr><tr><td>12</td><td>1020</td><td>5</td><td>3</td></tr><tr><td>157</td><td>1025</td><td>3</td><td>3</td></tr><tr><td>119</td><td>1026</td><td>3</td><td>2</td></tr><tr><td>15</td><td>1028</td><td>2</td><td>1</td></tr><tr><td>54</td><td>668</td><td>1</td><td>3</td></tr><tr><td>146</td><td>664</td><td>3</td><td>2</td></tr><tr><td>193</td><td>675</td><td>2</td><td>3</td></tr><tr><td>185</td><td>672</td><td>3</td><td>7</td></tr><tr><td>30</td><td>1023</td><td>7</td><td>2</td></tr><tr><td>60</td><td>676</td><td>2</td><td>4</td></tr><tr><td>43</td><td>670</td><td>4</td><td>4</td></tr><tr><td>96</td><td>671</td><td>4</td><td>5</td></tr><tr><td>196</td><td>673</td><td>5</td><td>4</td></tr><tr><td>83</td><td>674</td><td>4</td><td>1</td></tr><tr><td>110</td><td>685</td><td>1</td><td>6</td></tr><tr><td>3</td><td>666</td><td>6</td><td>6</td></tr><tr><td>80</td><td>667</td><td>6</td><td>7</td></tr><tr><td>68</td><td>1027</td><td>7</td><td>7</td></tr><tr><td>94</td><td>665</td><td>7</td><td>4</td></tr><tr><td>181</td><td>677</td><td>4</td><td>4</td></tr><tr><td>148</td><td>678</td><td>4</td><td>7</td></tr><tr><td>173</td><td>669</td><td>7</td><td>4</td></tr><tr><td>192</td><td>680</td><td>4</td><td>3</td></tr><tr><td>71</td><td>681</td><td>3</td><td>3</td></tr><tr><td>174</td><td>682</td><td>3</td><td>3</td></tr><tr><td>16</td><td>687</td><td>3</td><td>2</td></tr><tr><td>37</td><td>688</td><td>2</td><td>1</td></tr><tr><td>19</td><td>696</td><td>1</td><td>3</td></tr><tr><td>184</td><td>684</td><td>3</td><td>2</td></tr><tr><td>12</td><td>697</td><td>2</td><td>2</td></tr><tr><td>185</td><td>693</td><td>2</td><td>2</td></tr><tr><td>189</td><td>699</td><td>2</td><td>5</td></tr><tr><td>185</td><td>679</td><td>5</td><td>2</td></tr><tr><td>61</td><td>701</td><td>2</td><td>4</td></tr><tr><td>188</td><td>690</td><td>4</td><td>5</td></tr><tr><td>102</td><td>689</td><td>5</td><td>4</td></tr><tr><td>8</td><td>694</td><td>4</td><td>4</td></tr><tr><td>77</td><td>698</td><td>4</td><td>2</td></tr><tr><td>119</td><td>706</td><td>2</td><td>6</td></tr><tr><td>35</td><td>686</td><td>6</td><td>7</td></tr><tr><td>76</td><td>683</td><td>7</td><td>2</td></tr><tr><td>35</td><td>707</td><td>2</td><td>3</td></tr><tr><td>70</td><td>704</td><td>3</td><td>5</td></tr><tr><td>78</td><td>700</td><td>5</td><td>5</td></tr><tr><td>99</td><td>691</td><td>5</td><td>1</td></tr><tr><td>71</td><td>712</td><td>1</td><td>6</td></tr><tr><td>156</td><td>692</td><td>6</td><td>6</td></tr><tr><td>187</td><td>695</td><td>6</td><td>5</td></tr><tr><td>62</td><td>702</td><td>5</td><td>4</td></tr><tr><td>145</td><td>703</td><td>4</td><td>4</td></tr><tr><td>37</td><td>705</td><td>4</td><td>1</td></tr><tr><td>118</td><td>716</td><td>1</td><td>3</td></tr><tr><td>185</td><td>711</td><td>3</td><td>2</td></tr><tr><td>128</td><td>717</td><td>2</td><td>3</td></tr><tr><td>101</td><td>715</td><td>3</td><td>1</td></tr><tr><td>119</td><td>722</td><td>1</td><td>2</td></tr><tr><td>160</td><td>720</td><td>2</td><td>5</td></tr><tr><td>172</td><td>709</td><td>5</td><td>1</td></tr><tr><td>140</td><td>733</td><td>1</td><td>3</td></tr><tr><td>94</td><td>727</td><td>3</td><td>2</td></tr><tr><td>90</td><td>729</td><td>2</td><td>2</td></tr><tr><td>152</td><td>730</td><td>2</td><td>6</td></tr><tr><td>17</td><td>713</td><td>6</td><td>3</td></tr><tr><td>58</td><td>719</td><td>3</td><td>7</td></tr><tr><td>106</td><td>708</td><td>7</td><td>4</td></tr><tr><td>195</td><td>721</td><td>4</td><td>7</td></tr><tr><td>188</td><td>710</td><td>7</td><td>4</td></tr><tr><td>31</td><td>728</td><td>4</td><td>4</td></tr><tr><td>97</td><td>726</td><td>4</td><td>2</td></tr><tr><td>114</td><td>737</td><td>2</td><td>-28</td></tr><tr><td>66</td><td>736</td><td>-28</td><td>-27</td></tr><tr><td>91</td><td>732</td><td>-27</td><td>-24</td></tr><tr><td>73</td><td>714</td><td>-24</td><td>-26</td></tr><tr><td>28</td><td>725</td><td>-26</td><td>-25</td></tr><tr><td>135</td><td>724</td><td>-25</td><td>-29</td></tr><tr><td>187</td><td>743</td><td>-29</td><td>1</td></tr><tr><td>17</td><td>744</td><td>1</td><td>1</td></tr><tr><td>139</td><td>745</td><td>1</td><td>-28</td></tr><tr><td>182</td><td>740</td><td>-28</td><td>-25</td></tr><tr><td>55</td><td>734</td><td>-25</td><td>-25</td></tr><tr><td>121</td><td>735</td><td>-25</td><td>-25</td></tr><tr><td>181</td><td>731</td><td>-25</td><td>-24</td></tr><tr><td>129</td><td>723</td><td>-24</td><td>-24</td></tr><tr><td>97</td><td>718</td><td>-24</td><td>3</td></tr><tr><td>188</td><td>747</td><td>3</td><td>2</td></tr><tr><td>36</td><td>748</td><td>2</td><td>1</td></tr><tr><td>189</td><td>753</td><td>1</td><td>-25</td></tr><tr><td>121</td><td>739</td><td>-25</td><td>-24</td></tr><tr><td>1</td><td>738</td><td>-24</td><td>-24</td></tr><tr><td>93</td><td>741</td><td>-24</td><td>-25</td></tr><tr><td>164</td><td>742</td><td>-25</td><td>4</td></tr><tr><td>139</td><td>751</td><td>4</td><td>5</td></tr><tr><td>46</td><td>752</td><td>5</td><td>6</td></tr><tr><td>172</td><td>749</td><td>6</td><td>4</td></tr><tr><td>126</td><td>754</td><td>4</td><td>3</td></tr><tr><td>27</td><td>758</td><td>3</td><td>7</td></tr><tr><td>169</td><td>746</td><td>7</td><td>3</td></tr><tr><td>141</td><td>761</td><td>3</td><td>6</td></tr><tr><td>36</td><td>750</td><td>6</td><td>3</td></tr><tr><td>120</td><td>762</td><td>3</td><td>6</td></tr><tr><td>20</td><td>755</td><td>6</td><td>4</td></tr><tr><td>131</td><td>760</td><td>4</td><td>1</td></tr><tr><td>187</td><td>766</td><td>1</td><td>6</td></tr><tr><td>61</td><td>756</td><td>6</td><td>7</td></tr><tr><td>88</td><td>757</td><td>7</td><td>4</td></tr><tr><td>13</td><td>763</td><td>4</td><td>3</td></tr><tr><td>148</td><td>765</td><td>3</td><td>7</td></tr><tr><td>7</td><td>759</td><td>7</td><td>3</td></tr><tr><td>18</td><td>767</td><td>3</td><td>2</td></tr><tr><td>58</td><td>773</td><td>2</td><td>1</td></tr><tr><td>19</td><td>778</td><td>1</td><td>3</td></tr><tr><td>42</td><td>770</td><td>3</td><td>4</td></tr><tr><td>147</td><td>771</td><td>4</td><td>7</td></tr><tr><td>197</td><td>764</td><td>7</td><td>1</td></tr><tr><td>96</td><td>780</td><td>1</td><td>5</td></tr><tr><td>63</td><td>769</td><td>5</td><td>3</td></tr><tr><td>34</td><td>777</td><td>3</td><td>4</td></tr><tr><td>12</td><td>775</td><td>4</td><td>4</td></tr><tr><td>112</td><td>776</td><td>4</td><td>5</td></tr><tr><td>190</td><td>774</td><td>5</td><td>6</td></tr><tr><td>6</td><td>772</td><td>6</td><td>6</td></tr><tr><td>138</td><td>768</td><td>6</td><td>3</td></tr><tr><td>163</td><td>782</td><td>3</td><td>3</td></tr><tr><td>177</td><td>785</td><td>3</td><td>3</td></tr><tr><td>50</td><td>787</td><td>3</td><td>3</td></tr><tr><td>168</td><td>792</td><td>3</td><td>4</td></tr><tr><td>111</td><td>786</td><td>4</td><td>5</td></tr><tr><td>10</td><td>790</td><td>5</td><td>5</td></tr><tr><td>15</td><td>791</td><td>5</td><td>4</td></tr><tr><td>168</td><td>794</td><td>4</td><td>4</td></tr><tr><td>10</td><td>795</td><td>4</td><td>4</td></tr><tr><td>138</td><td>796</td><td>4</td><td>6</td></tr><tr><td>130</td><td>779</td><td>6</td><td>6</td></tr><tr><td>3</td><td>788</td><td>6</td><td>4</td></tr><tr><td>83</td><td>798</td><td>4</td><td>1</td></tr><tr><td>21</td><td>805</td><td>1</td><td>4</td></tr><tr><td>175</td><td>799</td><td>4</td><td>7</td></tr><tr><td>146</td><td>789</td><td>7</td><td>7</td></tr><tr><td>148</td><td>783</td><td>7</td><td>7</td></tr><tr><td>141</td><td>784</td><td>7</td><td>7</td></tr><tr><td>166</td><td>781</td><td>7</td><td>5</td></tr><tr><td>74</td><td>797</td><td>5</td><td>6</td></tr><tr><td>49</td><td>793</td><td>6</td><td>4</td></tr><tr><td>1</td><td>803</td><td>4</td><td>2</td></tr><tr><td>27</td><td>807</td><td>2</td><td>2</td></tr><tr><td>148</td><td>808</td><td>2</td><td>2</td></tr><tr><td>109</td><td>810</td><td>2</td><td>2</td></tr><tr><td>51</td><td>811</td><td>2</td><td>1</td></tr><tr><td>128</td><td>815</td><td>1</td><td>5</td></tr><tr><td>45</td><td>800</td><td>5</td><td>5</td></tr><tr><td>112</td><td>801</td><td>5</td><td>1</td></tr><tr><td>20</td><td>820</td><td>1</td><td>1</td></tr><tr><td>34</td><td>821</td><td>1</td><td>2</td></tr><tr><td>84</td><td>819</td><td>2</td><td>3</td></tr><tr><td>92</td><td>809</td><td>3</td><td>3</td></tr><tr><td>14</td><td>813</td><td>3</td><td>3</td></tr><tr><td>70</td><td>814</td><td>3</td><td>7</td></tr><tr><td>45</td><td>802</td><td>7</td><td>7</td></tr><tr><td>146</td><td>804</td><td>7</td><td>6</td></tr><tr><td>126</td><td>806</td><td>6</td><td>3</td></tr><tr><td>89</td><td>817</td><td>3</td><td>2</td></tr><tr><td>44</td><td>823</td><td>2</td><td>2</td></tr><tr><td>48</td><td>824</td><td>2</td><td>4</td></tr><tr><td>8</td><td>818</td><td>4</td><td>4</td></tr><tr><td>178</td><td>816</td><td>4</td><td>6</td></tr><tr><td>148</td><td>812</td><td>6</td><td>4</td></tr><tr><td>158</td><td>825</td><td>4</td><td>1</td></tr><tr><td>74</td><td>830</td><td>1</td><td>3</td></tr><tr><td>2</td><td>828</td><td>3</td><td>2</td></tr><tr><td>35</td><td>829</td><td>2</td><td>2</td></tr><tr><td>149</td><td>833</td><td>2</td><td>4</td></tr><tr><td>49</td><td>826</td><td>4</td><td>7</td></tr><tr><td>52</td><td>822</td><td>7</td><td>2</td></tr><tr><td>56</td><td>838</td><td>2</td><td>2</td></tr><tr><td>193</td><td>835</td><td>2</td><td>2</td></tr><tr><td>97</td><td>836</td><td>2</td><td>-27</td></tr><tr><td>8</td><td>832</td><td>-27</td><td>-24</td></tr><tr><td>114</td><td>827</td><td>-24</td><td>-27</td></tr><tr><td>104</td><td>837</td><td>-27</td><td>-26</td></tr><tr><td>172</td><td>839</td><td>-26</td><td>-27</td></tr><tr><td>158</td><td>840</td><td>-27</td><td>1</td></tr><tr><td>87</td><td>844</td><td>1</td><td>1</td></tr><tr><td>63</td><td>845</td><td>1</td><td>-26</td></tr><tr><td>149</td><td>834</td><td>-26</td><td>-24</td></tr><tr><td>177</td><td>831</td><td>-24</td><td>-27</td></tr><tr><td>195</td><td>842</td><td>-27</td><td>4</td></tr><tr><td>149</td><td>843</td><td>4</td><td>3</td></tr><tr><td>45</td><td>846</td><td>3</td><td>1</td></tr><tr><td>23</td><td>848</td><td>1</td><td>3</td></tr><tr><td>74</td><td>847</td><td>3</td><td>-25</td></tr><tr><td>92</td><td>841</td><td>-25</td><td>2</td></tr><tr><td>6</td><td>850</td><td>2</td><td>2</td></tr><tr><td>27</td><td>1031</td><td>2</td><td>2</td></tr><tr><td>38</td><td>1033</td><td>2</td><td>4</td></tr><tr><td>188</td><td>1030</td><td>4</td><td>5</td></tr><tr><td>146</td><td>1032</td><td>5</td><td>2</td></tr><tr><td>122</td><td>1036</td><td>2</td><td>5</td></tr><tr><td>113</td><td>1029</td><td>5</td><td>1</td></tr><tr><td>130</td><td>1040</td><td>1</td><td>3</td></tr><tr><td>3</td><td>1038</td><td>3</td><td>2</td></tr><tr><td>139</td><td>1042</td><td>2</td><td>6</td></tr><tr><td>127</td><td>1034</td><td>6</td><td>7</td></tr><tr><td>135</td><td>849</td><td>7</td><td>6</td></tr><tr><td>18</td><td>1035</td><td>6</td><td>3</td></tr><tr><td>110</td><td>1041</td><td>3</td><td>2</td></tr><tr><td>134</td><td>1045</td><td>2</td><td>6</td></tr><tr><td>191</td><td>1039</td><td>6</td><td>1</td></tr><tr><td>2</td><td>1051</td><td>1</td><td>7</td></tr><tr><td>89</td><td>1037</td><td>7</td><td>3</td></tr><tr><td>95</td><td>1048</td><td>3</td><td>3</td></tr><tr><td>121</td><td>1049</td><td>3</td><td>1</td></tr><tr><td>33</td><td>1053</td><td>1</td><td>1</td></tr><tr><td>79</td><td>1054</td><td>1</td><td>4</td></tr><tr><td>136</td><td>1046</td><td>4</td><td>4</td></tr><tr><td>157</td><td>1047</td><td>4</td><td>6</td></tr><tr><td>193</td><td>1043</td><td>6</td><td>3</td></tr><tr><td>25</td><td>1052</td><td>3</td><td>6</td></tr><tr><td>13</td><td>1044</td><td>6</td><td>6</td></tr><tr><td>98</td><td>1050</td><td>6</td><td>3</td></tr><tr><td>151</td><td>1058</td><td>3</td><td>2</td></tr><tr><td>38</td><td>1060</td><td>2</td><td>3</td></tr><tr><td>85</td><td>1059</td><td>3</td><td>3</td></tr><tr><td>122</td><td>1062</td><td>3</td><td>2</td></tr><tr><td>50</td><td>1063</td><td>2</td><td>1</td></tr><tr><td>20</td><td>1070</td><td>1</td><td>5</td></tr><tr><td>69</td><td>1055</td><td>5</td><td>1</td></tr><tr><td>99</td><td>1072</td><td>1</td><td>3</td></tr><tr><td>198</td><td>1065</td><td>3</td><td>5</td></tr><tr><td>86</td><td>1057</td><td>5</td><td>7</td></tr><tr><td>47</td><td>1056</td><td>7</td><td>6</td></tr><tr><td>139</td><td>1064</td><td>6</td><td>7</td></tr><tr><td>154</td><td>1061</td><td>7</td><td>4</td></tr><tr><td>80</td><td>1071</td><td>4</td><td>1</td></tr><tr><td>145</td><td>1077</td><td>1</td><td>6</td></tr><tr><td>161</td><td>1068</td><td>6</td><td>7</td></tr><tr><td>49</td><td>1066</td><td>7</td><td>7</td></tr><tr><td>183</td><td>1067</td><td>7</td><td>7</td></tr><tr><td>2</td><td>1069</td><td>7</td><td>5</td></tr><tr><td>5</td><td>1073</td><td>5</td><td>1</td></tr><tr><td>59</td><td>1080</td><td>1</td><td>4</td></tr><tr><td>163</td><td>1075</td><td>4</td><td>4</td></tr><tr><td>86</td><td>1079</td><td>4</td><td>1</td></tr><tr><td>109</td><td>1083</td><td>1</td><td>7</td></tr><tr><td>195</td><td>1074</td><td>7</td><td>7</td></tr><tr><td>29</td><td>1076</td><td>7</td><td>2</td></tr><tr><td>59</td><td>1084</td><td>2</td><td>7</td></tr><tr><td>38</td><td>1078</td><td>7</td><td>-28</td></tr><tr><td>144</td><td>1087</td><td>-28</td><td>-28</td></tr><tr><td>43</td><td>1088</td><td>-28</td><td>-25</td></tr><tr><td>27</td><td>1082</td><td>-25</td><td>-26</td></tr><tr><td>113</td><td>1085</td><td>-26</td><td>1</td></tr><tr><td>77</td><td>1104</td><td>1</td><td>1</td></tr><tr><td>150</td><td>1105</td><td>1</td><td>1</td></tr><tr><td>108</td><td>1102</td><td>1</td><td>1</td></tr><tr><td>86</td><td>1108</td><td>1</td><td>2</td></tr><tr><td>20</td><td>1106</td><td>2</td><td>2</td></tr><tr><td>140</td><td>1098</td><td>2</td><td>-25</td></tr><tr><td>55</td><td>1086</td><td>-25</td><td>-23</td></tr><tr><td>62</td><td>1081</td><td>-23</td><td>-27</td></tr><tr><td>70</td><td>1092</td><td>-27</td><td>-26</td></tr><tr><td>54</td><td>1096</td><td>-26</td><td>3</td></tr><tr><td>163</td><td>1107</td><td>3</td><td>3</td></tr><tr><td>87</td><td>1103</td><td>3</td><td>3</td></tr><tr><td>132</td><td>1111</td><td>3</td><td>3</td></tr><tr><td>58</td><td>1113</td><td>3</td><td>1</td></tr><tr><td>198</td><td>1116</td><td>1</td><td>4</td></tr><tr><td>155</td><td>1112</td><td>4</td><td>3</td></tr><tr><td>151</td><td>1115</td><td>3</td><td>1</td></tr><tr><td>145</td><td>1120</td><td>1</td><td>4</td></tr><tr><td>95</td><td>1097</td><td>4</td><td>-25</td></tr><tr><td>175</td><td>1094</td><td>-25</td><td>-25</td></tr><tr><td>194</td><td>1095</td><td>-25</td><td>4</td></tr><tr><td>6</td><td>1099</td><td>4</td><td>5</td></tr><tr><td>150</td><td>1100</td><td>5</td><td>5</td></tr><tr><td>89</td><td>1101</td><td>5</td><td>5</td></tr><tr><td>110</td><td>1109</td><td>5</td><td>-24</td></tr><tr><td>74</td><td>1093</td><td>-24</td><td>-24</td></tr><tr><td>120</td><td>1089</td><td>-24</td><td>5</td></tr><tr><td>20</td><td>1114</td><td>5</td><td>3</td></tr><tr><td>158</td><td>1117</td><td>3</td><td>-23</td></tr><tr><td>132</td><td>1090</td><td>-23</td><td>-23</td></tr><tr><td>197</td><td>1091</td><td>-23</td><td>7</td></tr><tr><td>3</td><td>1110</td><td>7</td><td>5</td></tr><tr><td>40</td><td>1118</td><td>5</td><td>3</td></tr><tr><td>185</td><td>1125</td><td>3</td><td>4</td></tr><tr><td>64</td><td>1122</td><td>4</td><td>1</td></tr><tr><td>22</td><td>1130</td><td>1</td><td>1</td></tr><tr><td>7</td><td>1131</td><td>1</td><td>1</td></tr><tr><td>126</td><td>1134</td><td>1</td><td>5</td></tr><tr><td>11</td><td>1123</td><td>5</td><td>2</td></tr><tr><td>175</td><td>1133</td><td>2</td><td>1</td></tr><tr><td>165</td><td>1141</td><td>1</td><td>3</td></tr><tr><td>70</td><td>1126</td><td>3</td><td>3</td></tr><tr><td>4</td><td>1127</td><td>3</td><td>6</td></tr><tr><td>83</td><td>1119</td><td>6</td><td>1</td></tr><tr><td>41</td><td>1144</td><td>1</td><td>7</td></tr><tr><td>115</td><td>1121</td><td>7</td><td>2</td></tr><tr><td>1</td><td>1137</td><td>2</td><td>3</td></tr><tr><td>45</td><td>1135</td><td>3</td><td>6</td></tr><tr><td>112</td><td>1124</td><td>6</td><td>3</td></tr><tr><td>12</td><td>1140</td><td>3</td><td>4</td></tr><tr><td>121</td><td>1128</td><td>4</td><td>4</td></tr><tr><td>15</td><td>1129</td><td>4</td><td>4</td></tr><tr><td>172</td><td>1142</td><td>4</td><td>4</td></tr><tr><td>145</td><td>1145</td><td>4</td><td>4</td></tr><tr><td>183</td><td>1147</td><td>4</td><td>3</td></tr><tr><td>61</td><td>1148</td><td>3</td><td>6</td></tr><tr><td>4</td><td>1132</td><td>6</td><td>5</td></tr><tr><td>30</td><td>1136</td><td>5</td><td>5</td></tr><tr><td>198</td><td>1138</td><td>5</td><td>6</td></tr><tr><td>176</td><td>1143</td><td>6</td><td>1</td></tr><tr><td>3</td><td>1151</td><td>1</td><td>1</td></tr><tr><td>1</td><td>1152</td><td>1</td><td>6</td></tr><tr><td>149</td><td>1146</td><td>6</td><td>7</td></tr><tr><td>19</td><td>1139</td><td>7</td><td>3</td></tr><tr><td>140</td><td>1156</td><td>3</td><td>3</td></tr><tr><td>186</td><td>1153</td><td>3</td><td>2</td></tr><tr><td>26</td><td>1158</td><td>2</td><td>2</td></tr><tr><td>110</td><td>1162</td><td>2</td><td>2</td></tr><tr><td>55</td><td>1163</td><td>2</td><td>4</td></tr><tr><td>115</td><td>1154</td><td>4</td><td>7</td></tr><tr><td>133</td><td>1149</td><td>7</td><td>6</td></tr><tr><td>28</td><td>1150</td><td>6</td><td>1</td></tr><tr><td>24</td><td>1167</td><td>1</td><td>6</td></tr><tr><td>9</td><td>1157</td><td>6</td><td>5</td></tr><tr><td>73</td><td>1159</td><td>5</td><td>5</td></tr><tr><td>198</td><td>1161</td><td>5</td><td>7</td></tr><tr><td>143</td><td>1155</td><td>7</td><td>4</td></tr><tr><td>122</td><td>1166</td><td>4</td><td>7</td></tr><tr><td>152</td><td>1160</td><td>7</td><td>5</td></tr><tr><td>12</td><td>1164</td><td>5</td><td>1</td></tr><tr><td>150</td><td>1177</td><td>1</td><td>1</td></tr><tr><td>104</td><td>1180</td><td>1</td><td>3</td></tr><tr><td>177</td><td>1176</td><td>3</td><td>4</td></tr><tr><td>93</td><td>1169</td><td>4</td><td>5</td></tr><tr><td>51</td><td>1165</td><td>5</td><td>5</td></tr><tr><td>59</td><td>1170</td><td>5</td><td>5</td></tr><tr><td>172</td><td>1171</td><td>5</td><td>4</td></tr><tr><td>7</td><td>1175</td><td>4</td><td>6</td></tr><tr><td>154</td><td>1168</td><td>6</td><td>1</td></tr><tr><td>182</td><td>1188</td><td>1</td><td>7</td></tr><tr><td>197</td><td>1172</td><td>7</td><td>6</td></tr><tr><td>18</td><td>1173</td><td>6</td><td>4</td></tr><tr><td>7</td><td>1182</td><td>4</td><td>5</td></tr><tr><td>185</td><td>1183</td><td>5</td><td>5</td></tr><tr><td>195</td><td>1184</td><td>5</td><td>5</td></tr><tr><td>29</td><td>1185</td><td>5</td><td>7</td></tr><tr><td>90</td><td>1174</td><td>7</td><td>2</td></tr><tr><td>117</td><td>1192</td><td>2</td><td>2</td></tr><tr><td>52</td><td>1202</td><td>2</td><td>1</td></tr><tr><td>43</td><td>1207</td><td>1</td><td>1</td></tr><tr><td>122</td><td>1209</td><td>1</td><td>2</td></tr><tr><td>189</td><td>1204</td><td>2</td><td>3</td></tr><tr><td>88</td><td>1196</td><td>3</td><td>6</td></tr><tr><td>58</td><td>1186</td><td>6</td><td>6</td></tr><tr><td>171</td><td>1181</td><td>6</td><td>7</td></tr><tr><td>134</td><td>1178</td><td>7</td><td>7</td></tr><tr><td>74</td><td>1179</td><td>7</td><td>7</td></tr><tr><td>46</td><td>1187</td><td>7</td><td>4</td></tr><tr><td>18</td><td>1198</td><td>4</td><td>4</td></tr><tr><td>150</td><td>1203</td><td>4</td><td>4</td></tr><tr><td>170</td><td>1194</td><td>4</td><td>6</td></tr><tr><td>89</td><td>1189</td><td>6</td><td>1</td></tr><tr><td>93</td><td>1217</td><td>1</td><td>2</td></tr><tr><td>61</td><td>1218</td><td>2</td><td>3</td></tr><tr><td>178</td><td>1211</td><td>3</td><td>3</td></tr><tr><td>91</td><td>1213</td><td>3</td><td>7</td></tr><tr><td>161</td><td>1190</td><td>7</td><td>6</td></tr><tr><td>59</td><td>1191</td><td>6</td><td>1</td></tr><tr><td>123</td><td>1223</td><td>1</td><td>1</td></tr><tr><td>50</td><td>1224</td><td>1</td><td>-25</td></tr><tr><td>22</td><td>1195</td><td>-25</td><td>-25</td></tr><tr><td>143</td><td>1193</td><td>-25</td><td>-25</td></tr><tr><td>152</td><td>1197</td><td>-25</td><td>-27</td></tr><tr><td>124</td><td>1210</td><td>-27</td><td>-25</td></tr><tr><td>137</td><td>1201</td><td>-25</td><td>-29</td></tr><tr><td>49</td><td>1221</td><td>-29</td><td>-29</td></tr><tr><td>143</td><td>1222</td><td>-29</td><td>-28</td></tr><tr><td>9</td><td>1220</td><td>-28</td><td>-27</td></tr><tr><td>121</td><td>1215</td><td>-27</td><td>-24</td></tr><tr><td>144</td><td>1199</td><td>-24</td><td>-24</td></tr><tr><td>49</td><td>1200</td><td>-24</td><td>-25</td></tr><tr><td>162</td><td>1205</td><td>-25</td><td>1</td></tr><tr><td>11</td><td>1236</td><td>1</td><td>1</td></tr><tr><td>19</td><td>1237</td><td>1</td><td>-27</td></tr><tr><td>182</td><td>1231</td><td>-27</td><td>-24</td></tr><tr><td>22</td><td>1206</td><td>-24</td><td>-25</td></tr><tr><td>58</td><td>1208</td><td>-25</td><td>-26</td></tr><tr><td>39</td><td>1214</td><td>-26</td><td>-25</td></tr><tr><td>21</td><td>1212</td><td>-25</td><td>3</td></tr><tr><td>66</td><td>1234</td><td>3</td><td>-26</td></tr><tr><td>69</td><td>1225</td><td>-26</td><td>-26</td></tr><tr><td>127</td><td>1226</td><td>-26</td><td>-26</td></tr><tr><td>43</td><td>1227</td><td>-26</td><td>1</td></tr><tr><td>178</td><td>1242</td><td>1</td><td>1</td></tr><tr><td>15</td><td>1244</td><td>1</td><td>2</td></tr><tr><td>59</td><td>1239</td><td>2</td><td>-24</td></tr><tr><td>198</td><td>1216</td><td>-24</td><td>-25</td></tr><tr><td>134</td><td>1219</td><td>-25</td><td>-24</td></tr><tr><td>55</td><td>1232</td><td>-24</td><td>-24</td></tr><tr><td>106</td><td>1228</td><td>-24</td><td>-24</td></tr><tr><td>79</td><td>1229</td><td>-24</td><td>-24</td></tr><tr><td>182</td><td>1230</td><td>-24</td><td>2</td></tr><tr><td>122</td><td>1245</td><td>2</td><td>2</td></tr><tr><td>186</td><td>1248</td><td>2</td><td>2</td></tr><tr><td>7</td><td>1252</td><td>2</td><td>2</td></tr><tr><td>89</td><td>1253</td><td>2</td><td>-24</td></tr><tr><td>64</td><td>1233</td><td>-24</td><td>7</td></tr><tr><td>29</td><td>1235</td><td>7</td><td>1</td></tr><tr><td>154</td><td>1262</td><td>1</td><td>3</td></tr><tr><td>117</td><td>1247</td><td>3</td><td>1</td></tr><tr><td>113</td><td>1263</td><td>1</td><td>6</td></tr><tr><td>193</td><td>1238</td><td>6</td><td>4</td></tr><tr><td>168</td><td>1249</td><td>4</td><td>4</td></tr><tr><td>107</td><td>1250</td><td>4</td><td>4</td></tr><tr><td>184</td><td>1251</td><td>4</td><td>6</td></tr><tr><td>48</td><td>1243</td><td>6</td><td>4</td></tr><tr><td>141</td><td>1254</td><td>4</td><td>4</td></tr><tr><td>138</td><td>1256</td><td>4</td><td>3</td></tr><tr><td>5</td><td>1257</td><td>3</td><td>7</td></tr><tr><td>157</td><td>1240</td><td>7</td><td>7</td></tr><tr><td>94</td><td>1241</td><td>7</td><td>2</td></tr><tr><td>78</td><td>1268</td><td>2</td><td>2</td></tr><tr><td>89</td><td>1269</td><td>2</td><td>1</td></tr><tr><td>50</td><td>1272</td><td>1</td><td>1</td></tr><tr><td>1</td><td>1274</td><td>1</td><td>4</td></tr><tr><td>66</td><td>1264</td><td>4</td><td>4</td></tr><tr><td>168</td><td>1266</td><td>4</td><td>5</td></tr><tr><td>52</td><td>1258</td><td>5</td><td>7</td></tr><tr><td>69</td><td>1246</td><td>7</td><td>7</td></tr><tr><td>58</td><td>1255</td><td>7</td><td>6</td></tr><tr><td>9</td><td>1260</td><td>6</td><td>6</td></tr><tr><td>58</td><td>1261</td><td>6</td><td>5</td></tr><tr><td>163</td><td>1265</td><td>5</td><td>1</td></tr><tr><td>174</td><td>1276</td><td>1</td><td>4</td></tr><tr><td>43</td><td>1270</td><td>4</td><td>7</td></tr><tr><td>140</td><td>1259</td><td>7</td><td>5</td></tr><tr><td>106</td><td>1271</td><td>5</td><td>7</td></tr><tr><td>170</td><td>1267</td><td>7</td><td>6</td></tr><tr><td>27</td><td>1275</td><td>6</td><td>7</td></tr><tr><td>88</td><td>1273</td><td>7</td><td>5</td></tr><tr><td>82</td><td>1277</td><td>5</td><td>1</td></tr><tr><td>127</td><td>1286</td><td>1</td><td>3</td></tr><tr><td>137</td><td>1280</td><td>3</td><td>3</td></tr><tr><td>78</td><td>1281</td><td>3</td><td>2</td></tr><tr><td>138</td><td>1283</td><td>2</td><td>6</td></tr><tr><td>176</td><td>1278</td><td>6</td><td>5</td></tr><tr><td>80</td><td>1279</td><td>5</td><td>4</td></tr><tr><td>164</td><td>1284</td><td>4</td><td>3</td></tr><tr><td>22</td><td>1287</td><td>3</td><td>3</td></tr><tr><td>59</td><td>1288</td><td>3</td><td>1</td></tr><tr><td>128</td><td>1290</td><td>1</td><td>1</td></tr><tr><td>144</td><td>1297</td><td>1</td><td>2</td></tr><tr><td>44</td><td>1295</td><td>2</td><td>2</td></tr><tr><td>164</td><td>1292</td><td>2</td><td>3</td></tr><tr><td>135</td><td>1289</td><td>3</td><td>6</td></tr><tr><td>123</td><td>1282</td><td>6</td><td>3</td></tr><tr><td>58</td><td>1293</td><td>3</td><td>3</td></tr><tr><td>46</td><td>1291</td><td>3</td><td>3</td></tr><tr><td>111</td><td>1296</td><td>3</td><td>1</td></tr><tr><td>191</td><td>1302</td><td>1</td><td>7</td></tr><tr><td>58</td><td>1285</td><td>7</td><td>5</td></tr><tr><td>138</td><td>1294</td><td>5</td><td>2</td></tr><tr><td>45</td><td>1303</td><td>2</td><td>3</td></tr><tr><td>88</td><td>1300</td><td>3</td><td>2</td></tr><tr><td>132</td><td>1301</td><td>2</td><td>4</td></tr><tr><td>109</td><td>1298</td><td>4</td><td>2</td></tr><tr><td>94</td><td>1305</td><td>2</td><td>1</td></tr><tr><td>182</td><td>1308</td><td>1</td><td>1</td></tr><tr><td>155</td><td>1310</td><td>1</td><td>2</td></tr><tr><td>42</td><td>1309</td><td>2</td><td>3</td></tr><tr><td>133</td><td>1306</td><td>3</td><td>3</td></tr><tr><td>94</td><td>1312</td><td>3</td><td>1</td></tr><tr><td>85</td><td>1320</td><td>1</td><td>2</td></tr><tr><td>72</td><td>1318</td><td>2</td><td>4</td></tr><tr><td>143</td><td>1313</td><td>4</td><td>6</td></tr><tr><td>90</td><td>1299</td><td>6</td><td>5</td></tr><tr><td>196</td><td>1314</td><td>5</td><td>3</td></tr><tr><td>182</td><td>1317</td><td>3</td><td>4</td></tr><tr><td>33</td><td>1321</td><td>4</td><td>3</td></tr><tr><td>58</td><td>1322</td><td>3</td><td>5</td></tr><tr><td>100</td><td>1315</td><td>5</td><td>6</td></tr><tr><td>58</td><td>1307</td><td>6</td><td>7</td></tr><tr><td>197</td><td>1304</td><td>7</td><td>5</td></tr><tr><td>17</td><td>1316</td><td>5</td><td>7</td></tr><tr><td>2</td><td>1311</td><td>7</td><td>-24</td></tr><tr><td>10</td><td>1319</td><td>-24</td><td>-26</td></tr><tr><td>68</td><td>1324</td><td>-26</td><td>-26</td></tr><tr><td>182</td><td>1326</td><td>-26</td><td>-26</td></tr><tr><td>54</td><td>1328</td><td>-26</td><td>-26</td></tr><tr><td>73</td><td>1331</td><td>-26</td><td>2</td></tr><tr><td>122</td><td>1337</td><td>2</td><td>2</td></tr><tr><td>145</td><td>1338</td><td>2</td><td>-25</td></tr><tr><td>171</td><td>1329</td><td>-25</td><td>-24</td></tr><tr><td>55</td><td>1327</td><td>-24</td><td>-23</td></tr><tr><td>70</td><td>1325</td><td>-23</td><td>-23</td></tr><tr><td>191</td><td>1323</td><td>-23</td><td>-24</td></tr><tr><td>101</td><td>1332</td><td>-24</td><td>4</td></tr><tr><td>1</td><td>1334</td><td>4</td><td>-24</td></tr><tr><td>70</td><td>1333</td><td>-24</td><td>2</td></tr><tr><td>82</td><td>1341</td><td>2</td><td>-23</td></tr><tr><td>124</td><td>1330</td><td>-23</td><td>2</td></tr><tr><td>102</td><td>1343</td><td>2</td><td>5</td></tr><tr><td>172</td><td>1336</td><td>5</td><td>1</td></tr><tr><td>57</td><td>1348</td><td>1</td><td>1</td></tr><tr><td>107</td><td>1354</td><td>1</td><td>3</td></tr><tr><td>79</td><td>1345</td><td>3</td><td>7</td></tr><tr><td>37</td><td>1335</td><td>7</td><td>6</td></tr><tr><td>120</td><td>1339</td><td>6</td><td>5</td></tr><tr><td>196</td><td>1340</td><td>5</td><td>3</td></tr><tr><td>13</td><td>1347</td><td>3</td><td>3</td></tr><tr><td>173</td><td>1350</td><td>3</td><td>4</td></tr><tr><td>38</td><td>1351</td><td>4</td><td>3</td></tr><tr><td>115</td><td>1352</td><td>3</td><td>2</td></tr><tr><td>93</td><td>1355</td><td>2</td><td>5</td></tr><tr><td>33</td><td>1344</td><td>5</td><td>6</td></tr><tr><td>170</td><td>1342</td><td>6</td><td>6</td></tr><tr><td>181</td><td>1346</td><td>6</td><td>5</td></tr><tr><td>87</td><td>1349</td><td>5</td><td>5</td></tr><tr><td>111</td><td>1353</td><td>5</td><td>4</td></tr><tr><td>169</td><td>1356</td><td>4</td><td>4</td></tr><tr><td>140</td><td>1357</td><td>4</td><td>2</td></tr><tr><td>88</td><td>1359</td><td>2</td><td>2</td></tr><tr><td>25</td><td>1362</td><td>2</td><td>3</td></tr><tr><td>140</td><td>1361</td><td>3</td><td>1</td></tr><tr><td>94</td><td>1368</td><td>1</td><td>1</td></tr><tr><td>140</td><td>1371</td><td>1</td><td>3</td></tr><tr><td>70</td><td>1365</td><td>3</td><td>7</td></tr><tr><td>138</td><td>1358</td><td>7</td><td>6</td></tr><tr><td>129</td><td>1360</td><td>6</td><td>1</td></tr><tr><td>27</td><td>1377</td><td>1</td><td>3</td></tr><tr><td>80</td><td>1367</td><td>3</td><td>5</td></tr><tr><td>133</td><td>1363</td><td>5</td><td>6</td></tr><tr><td>126</td><td>1364</td><td>6</td><td>5</td></tr><tr><td>81</td><td>1366</td><td>5</td><td>3</td></tr><tr><td>96</td><td>1378</td><td>3</td><td>4</td></tr><tr><td>165</td><td>1375</td><td>4</td><td>5</td></tr><tr><td>84</td><td>1376</td><td>5</td><td>5</td></tr><tr><td>121</td><td>1373</td><td>5</td><td>5</td></tr><tr><td>118</td><td>1374</td><td>5</td><td>5</td></tr><tr><td>138</td><td>1370</td><td>5</td><td>6</td></tr><tr><td>142</td><td>1369</td><td>6</td><td>1</td></tr><tr><td>67</td><td>1382</td><td>1</td><td>7</td></tr><tr><td>106</td><td>1372</td><td>7</td><td>5</td></tr><tr><td>39</td><td>1380</td><td>5</td><td>4</td></tr><tr><td>176</td><td>1383</td><td>4</td><td>7</td></tr><tr><td>83</td><td>1379</td><td>7</td><td>2</td></tr><tr><td>55</td><td>1386</td><td>2</td><td>1</td></tr><tr><td>57</td><td>1389</td><td>1</td><td>1</td></tr><tr><td>97</td><td>1395</td><td>1</td><td>1</td></tr><tr><td>103</td><td>1398</td><td>1</td><td>1</td></tr><tr><td>162</td><td>1400</td><td>1</td><td>3</td></tr><tr><td>197</td><td>1387</td><td>3</td><td>3</td></tr><tr><td>26</td><td>1388</td><td>3</td><td>6</td></tr><tr><td>33</td><td>1381</td><td>6</td><td>5</td></tr><tr><td>122</td><td>1385</td><td>5</td><td>2</td></tr><tr><td>89</td><td>1399</td><td>2</td><td>3</td></tr><tr><td>72</td><td>1396</td><td>3</td><td>3</td></tr><tr><td>143</td><td>1394</td><td>3</td><td>4</td></tr><tr><td>91</td><td>1397</td><td>4</td><td>4</td></tr><tr><td>93</td><td>1391</td><td>4</td><td>7</td></tr><tr><td>84</td><td>1384</td><td>7</td><td>5</td></tr><tr><td>188</td><td>1390</td><td>5</td><td>2</td></tr><tr><td>98</td><td>1402</td><td>2</td><td>1</td></tr><tr><td>82</td><td>1406</td><td>1</td><td>2</td></tr><tr><td>187</td><td>1404</td><td>2</td><td>6</td></tr><tr><td>108</td><td>1392</td><td>6</td><td>6</td></tr><tr><td>121</td><td>1393</td><td>6</td><td>-30</td></tr><tr><td>99</td><td>1408</td><td>-30</td><td>1</td></tr><tr><td>133</td><td>1409</td><td>1</td><td>1</td></tr><tr><td>35</td><td>1411</td><td>1</td><td>-25</td></tr><tr><td>141</td><td>1401</td><td>-25</td><td>2</td></tr><tr><td>75</td><td>1412</td><td>2</td><td>-26</td></tr><tr><td>90</td><td>1405</td><td>-26</td><td>-25</td></tr><tr><td>124</td><td>1403</td><td>-25</td><td>3</td></tr><tr><td>119</td><td>1413</td><td>3</td><td>3</td></tr><tr><td>167</td><td>1414</td><td>3</td><td>4</td></tr><tr><td>182</td><td>1410</td><td>4</td><td>3</td></tr><tr><td>24</td><td>1415</td><td>3</td><td>-24</td></tr><tr><td>175</td><td>1407</td><td>-24</td><td>5</td></tr><tr><td>38</td><td>1416</td><td>5</td><td>4</td></tr><tr><td>15</td><td>1418</td><td>4</td><td>3</td></tr><tr><td>124</td><td>1419</td><td>3</td><td>1</td></tr><tr><td>110</td><td>1424</td><td>1</td><td>3</td></tr><tr><td>182</td><td>1422</td><td>3</td><td>3</td></tr><tr><td>9</td><td>1423</td><td>3</td><td>5</td></tr><tr><td>198</td><td>1420</td><td>5</td><td>5</td></tr><tr><td>172</td><td>1421</td><td>5</td><td>7</td></tr><tr><td>97</td><td>1417</td><td>7</td><td>2</td></tr><tr><td>44</td><td>1425</td><td>2</td><td>1</td></tr><tr><td>169</td><td>1427</td><td>1</td><td>2</td></tr><tr><td>12</td><td>1430</td><td>2</td><td>4</td></tr><tr><td>173</td><td>1429</td><td>4</td><td>4</td></tr><tr><td>62</td><td>1426</td><td>4</td><td>3</td></tr><tr><td>150</td><td>1432</td><td>3</td><td>1</td></tr><tr><td>35</td><td>1436</td><td>1</td><td>5</td></tr><tr><td>52</td><td>1431</td><td>5</td><td>7</td></tr><tr><td>126</td><td>1428</td><td>7</td><td>2</td></tr><tr><td>96</td><td>1438</td><td>2</td><td>4</td></tr><tr><td>183</td><td>1437</td><td>4</td><td>6</td></tr><tr><td>139</td><td>1433</td><td>6</td><td>5</td></tr><tr><td>3</td><td>1434</td><td>5</td><td>3</td></tr><tr><td>122</td><td>1440</td><td>3</td><td>1</td></tr><tr><td>86</td><td>1453</td><td>1</td><td>1</td></tr><tr><td>39</td><td>1454</td><td>1</td><td>2</td></tr><tr><td>189</td><td>1449</td><td>2</td><td>3</td></tr><tr><td>15</td><td>1442</td><td>3</td><td>7</td></tr><tr><td>39</td><td>1435</td><td>7</td><td>4</td></tr><tr><td>79</td><td>1447</td><td>4</td><td>2</td></tr><tr><td>116</td><td>1455</td><td>2</td><td>1</td></tr><tr><td>75</td><td>1458</td><td>1</td><td>6</td></tr><tr><td>77</td><td>1439</td><td>6</td><td>2</td></tr><tr><td>28</td><td>1459</td><td>2</td><td>6</td></tr><tr><td>143</td><td>1448</td><td>6</td><td>6</td></tr><tr><td>42</td><td>1444</td><td>6</td><td>6</td></tr><tr><td>64</td><td>1446</td><td>6</td><td>7</td></tr><tr><td>129</td><td>1445</td><td>7</td><td>7</td></tr><tr><td>81</td><td>1443</td><td>7</td><td>7</td></tr><tr><td>185</td><td>1441</td><td>7</td><td>6</td></tr><tr><td>58</td><td>1451</td><td>6</td><td>6</td></tr><tr><td>107</td><td>1452</td><td>6</td><td>7</td></tr><tr><td>139</td><td>1450</td><td>7</td><td>5</td></tr><tr><td>87</td><td>1456</td><td>5</td><td>3</td></tr><tr><td>153</td><td>1460</td><td>3</td><td>1</td></tr><tr><td>145</td><td>1471</td><td>1</td><td>2</td></tr><tr><td>13</td><td>1469</td><td>2</td><td>3</td></tr><tr><td>186</td><td>1467</td><td>3</td><td>4</td></tr><tr><td>64</td><td>1465</td><td>4</td><td>4</td></tr><tr><td>77</td><td>1461</td><td>4</td><td>7</td></tr><tr><td>70</td><td>1457</td><td>7</td><td>5</td></tr><tr><td>153</td><td>1470</td><td>5</td><td>1</td></tr><tr><td>27</td><td>1476</td><td>1</td><td>7</td></tr><tr><td>156</td><td>1462</td><td>7</td><td>7</td></tr><tr><td>185</td><td>1463</td><td>7</td><td>7</td></tr><tr><td>81</td><td>1464</td><td>7</td><td>7</td></tr><tr><td>57</td><td>1466</td><td>7</td><td>7</td></tr><tr><td>117</td><td>1468</td><td>7</td><td>5</td></tr><tr><td>131</td><td>1474</td><td>5</td><td>6</td></tr><tr><td>118</td><td>1472</td><td>6</td><td>7</td></tr><tr><td>195</td><td>1473</td><td>7</td><td>1</td></tr><tr><td>120</td><td>1483</td><td>1</td><td>1</td></tr><tr><td>195</td><td>1484</td><td>1</td><td>-27</td></tr><tr><td>38</td><td>1478</td><td>-27</td><td>-28</td></tr><tr><td>118</td><td>1481</td><td>-28</td><td>-24</td></tr><tr><td>130</td><td>1475</td><td>-24</td><td>-25</td></tr><tr><td>51</td><td>1477</td><td>-25</td><td>-25</td></tr><tr><td>146</td><td>1479</td><td>-25</td><td>-27</td></tr><tr><td>103</td><td>1485</td><td>-27</td><td>-25</td></tr><tr><td>35</td><td>1480</td><td>-25</td><td>1</td></tr><tr><td>156</td><td>1490</td><td>1</td><td>3</td></tr><tr><td>163</td><td>1487</td><td>3</td><td>3</td></tr><tr><td>119</td><td>1488</td><td>3</td><td>2</td></tr><tr><td>172</td><td>1491</td><td>2</td><td>-24</td></tr><tr><td>100</td><td>1482</td><td>-24</td><td>-26</td></tr><tr><td>99</td><td>1486</td><td>-26</td><td>1</td></tr><tr><td>179</td><td>1497</td><td>1</td><td>2</td></tr><tr><td>107</td><td>1494</td><td>2</td><td>2</td></tr><tr><td>113</td><td>1499</td><td>2</td><td>2</td></tr><tr><td>191</td><td>1502</td><td>2</td><td>3</td></tr><tr><td>177</td><td>1503</td><td>3</td><td>6</td></tr><tr><td>110</td><td>1489</td><td>6</td><td>6</td></tr><tr><td>4</td><td>1492</td><td>6</td><td>4</td></tr><tr><td>126</td><td>1500</td><td>4</td><td>4</td></tr><tr><td>116</td><td>1501</td><td>4</td><td>1</td></tr><tr><td>55</td><td>1512</td><td>1</td><td>3</td></tr><tr><td>81</td><td>1506</td><td>3</td><td>3</td></tr><tr><td>153</td><td>1507</td><td>3</td><td>2</td></tr><tr><td>176</td><td>1511</td><td>2</td><td>4</td></tr><tr><td>57</td><td>1504</td><td>4</td><td>7</td></tr><tr><td>16</td><td>1498</td><td>7</td><td>7</td></tr><tr><td>120</td><td>1493</td><td>7</td><td>7</td></tr><tr><td>113</td><td>1495</td><td>7</td><td>7</td></tr><tr><td>61</td><td>1496</td><td>7</td><td>6</td></tr><tr><td>18</td><td>1505</td><td>6</td><td>1</td></tr><tr><td>55</td><td>1520</td><td>1</td><td>1</td></tr><tr><td>11</td><td>1523</td><td>1</td><td>1</td></tr><tr><td>43</td><td>1524</td><td>1</td><td>2</td></tr><tr><td>104</td><td>1522</td><td>2</td><td>2</td></tr><tr><td>166</td><td>1526</td><td>2</td><td>2</td></tr><tr><td>94</td><td>1518</td><td>2</td><td>2</td></tr><tr><td>132</td><td>1519</td><td>2</td><td>5</td></tr><tr><td>149</td><td>1514</td><td>5</td><td>4</td></tr><tr><td>46</td><td>1515</td><td>4</td><td>4</td></tr><tr><td>101</td><td>1516</td><td>4</td><td>6</td></tr><tr><td>129</td><td>1509</td><td>6</td><td>6</td></tr><tr><td>106</td><td>1510</td><td>6</td><td>7</td></tr><tr><td>191</td><td>1508</td><td>7</td><td>2</td></tr><tr><td>92</td><td>1527</td><td>2</td><td>2</td></tr><tr><td>97</td><td>1528</td><td>2</td><td>1</td></tr><tr><td>19</td><td>1533</td><td>1</td><td>5</td></tr><tr><td>190</td><td>1517</td><td>5</td><td>7</td></tr><tr><td>85</td><td>1513</td><td>7</td><td>4</td></tr><tr><td>35</td><td>1529</td><td>4</td><td>3</td></tr><tr><td>104</td><td>1532</td><td>3</td><td>5</td></tr><tr><td>105</td><td>1525</td><td>5</td><td>1</td></tr><tr><td>155</td><td>1541</td><td>1</td><td>2</td></tr><tr><td>39</td><td>1538</td><td>2</td><td>2</td></tr><tr><td>154</td><td>1539</td><td>2</td><td>3</td></tr><tr><td>114</td><td>1540</td><td>3</td><td>5</td></tr><tr><td>52</td><td>1534</td><td>5</td><td>3</td></tr><tr><td>9</td><td>1537</td><td>3</td><td>1</td></tr><tr><td>51</td><td>1550</td><td>1</td><td>6</td></tr><tr><td>112</td><td>1530</td><td>6</td><td>6</td></tr><tr><td>124</td><td>1531</td><td>6</td><td>7</td></tr><tr><td>89</td><td>1521</td><td>7</td><td>1</td></tr><tr><td>48</td><td>1547</td><td>1</td><td>3</td></tr><tr><td>142</td><td>1545</td><td>3</td><td>3</td></tr><tr><td>48</td><td>1546</td><td>3</td><td>4</td></tr><tr><td>14</td><td>1542</td><td>4</td><td>5</td></tr><tr><td>3</td><td>1544</td><td>5</td><td>3</td></tr><tr><td>17</td><td>1549</td><td>3</td><td>3</td></tr><tr><td>157</td><td>1551</td><td>3</td><td>2</td></tr><tr><td>44</td><td>1552</td><td>2</td><td>7</td></tr><tr><td>134</td><td>1535</td><td>7</td><td>6</td></tr><tr><td>49</td><td>1536</td><td>6</td><td>7</td></tr><tr><td>95</td><td>1543</td><td>7</td><td>2</td></tr><tr><td>152</td><td>1558</td><td>2</td><td>3</td></tr><tr><td>115</td><td>1554</td><td>3</td><td>4</td></tr><tr><td>92</td><td>1555</td><td>4</td><td>3</td></tr><tr><td>76</td><td>1557</td><td>3</td><td>1</td></tr><tr><td>109</td><td>1560</td><td>1</td><td>1</td></tr><tr><td>115</td><td>1566</td><td>1</td><td>3</td></tr><tr><td>180</td><td>1559</td><td>3</td><td>7</td></tr><tr><td>88</td><td>1548</td><td>7</td><td>5</td></tr><tr><td>43</td><td>1553</td><td>5</td><td>3</td></tr><tr><td>81</td><td>1562</td><td>3</td><td>3</td></tr><tr><td>160</td><td>1565</td><td>3</td><td>2</td></tr><tr><td>144</td><td>1572</td><td>2</td><td>1</td></tr><tr><td>59</td><td>1573</td><td>1</td><td>1</td></tr><tr><td>128</td><td>1574</td><td>1</td><td>3</td></tr><tr><td>176</td><td>1570</td><td>3</td><td>4</td></tr><tr><td>156</td><td>1561</td><td>4</td><td>6</td></tr><tr><td>38</td><td>1556</td><td>6</td><td>-22</td></tr><tr><td>180</td><td>1563</td><td>-22</td><td>-24</td></tr><tr><td>161</td><td>1571</td><td>-24</td><td>-25</td></tr><tr><td>189</td><td>1576</td><td>-25</td><td>-21</td></tr><tr><td>94</td><td>1564</td><td>-21</td><td>-22</td></tr><tr><td>171</td><td>1567</td><td>-22</td><td>-21</td></tr><tr><td>29</td><td>1568</td><td>-21</td><td>-21</td></tr><tr><td>96</td><td>1569</td><td>-21</td><td>1</td></tr><tr><td>64</td><td>1582</td><td>1</td><td>1</td></tr><tr><td>67</td><td>1584</td><td>1</td><td>-22</td></tr><tr><td>88</td><td>1575</td><td>-22</td><td>-23</td></tr><tr><td>127</td><td>1579</td><td>-23</td><td>5</td></tr><tr><td>67</td><td>1580</td><td>5</td><td>5</td></tr><tr><td>48</td><td>1581</td><td>5</td><td>-21</td></tr><tr><td>78</td><td>1577</td><td>-21</td><td>-21</td></tr><tr><td>148</td><td>1578</td><td>-21</td><td>4</td></tr><tr><td>128</td><td>1583</td><td>4</td><td>NULL</td></tr></table>"
                    },
                    "metadata": {}
                }
            ],
            "execution_count": 3
        },
        {
            "cell_type": "code",
            "source": [
                "SELECT SZALLAS_NEV,\r\n",
                "        (SELECT COUNT(*) OVER(PARTITION BY SZOBA_ID)\r\n",
                "        FROM FOGLALAS F JOIN SZOBA SZ ON SZ.SZOBA_ID = F.SZOBA_ID\r\n",
                "                        JOIN SZALLASHELY SZA2 ON SZA2.SZALLAS_FK =SZ.SZALLAS_ID\r\n",
                "        WHERE SZA.SZOBA_ID = SZA2.SZOBA_ID)\r\n",
                "FROM SZALLASHELY SZA\r\n",
                "WHERE (SELECT COUNT(*) OVER(PARTITION BY SZOBA_ID)\r\n",
                "        FROM FOGLALAS F JOIN SZOBA SZ ON SZ.SZOBA_ID = F.SZOBA_ID\r\n",
                "                        JOIN SZALLASHELY SZA2 ON SZA2.SZALLAS_FK =SZ.SZALLAS_ID\r\n",
                "        WHERE SZA.SZOBA_ID = SZA2.SZOBA_ID)>"
            ],
            "metadata": {
                "azdata_cell_guid": "e20fe386-4cb9-482b-8c3c-a0f443cad700",
                "language": "sql"
            },
            "outputs": [],
            "execution_count": null
        }
    ]
}